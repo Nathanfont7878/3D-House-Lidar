{
 "cells": [
  {
   "cell_type": "code",
   "execution_count": 60,
   "metadata": {
    "collapsed": true,
    "pycharm": {
     "name": "#%%\n"
    }
   },
   "outputs": [],
   "source": [
    "import numpy as np\n",
    "import matplotlib.pyplot as plt\n",
    "from matplotlib import cm\n",
    "from matplotlib.ticker import LinearLocator, FormatStrFormatter\n",
    "import seaborn as sns\n",
    "import pandas as pd\n",
    "\n",
    "import plotly\n",
    "import plotly.express as px\n",
    "import plotly.graph_objects as go\n",
    "import plotly.io as pio\n",
    "\n",
    "import georasters as gr\n",
    "import rioxarray\n",
    "import rasterio as rio\n",
    "from rasterio.plot import show\n",
    "from rasterio.windows import Window, from_bounds\n",
    "from IPython.core.display import display\n",
    "import geopandas as gpd"
   ]
  },
  {
   "cell_type": "code",
   "execution_count": 61,
   "outputs": [
    {
     "name": "stdout",
     "output_type": "stream",
     "text": [
      "(20000, 32000)\n"
     ]
    }
   ],
   "source": [
    "dataset = rio.open(\"Data/TIFFiles/DHMVIIDSMRAS1m_k13.tif\")\n",
    "print(dataset.shape)"
   ],
   "metadata": {
    "collapsed": false,
    "pycharm": {
     "name": "#%%\n"
    }
   }
  },
  {
   "cell_type": "code",
   "execution_count": 62,
   "outputs": [
    {
     "name": "stdout",
     "output_type": "stream",
     "text": [
      "(50, 50)\n"
     ]
    },
    {
     "data": {
      "text/plain": "<Figure size 432x288 with 1 Axes>",
      "image/png": "[encoded data removed]"
     },
     "metadata": {
      "needs_background": "light"
     },
     "output_type": "display_data"
    },
    {
     "data": {
      "text/plain": "      0      1      2      3      4      5      6      7      8      9   ...  \\\n0  12.69  12.68  12.71  12.79  12.98  12.91  12.90  13.10  14.59  13.00  ...   \n1  12.68  12.72  12.75  12.78  13.15  13.14  12.90  12.94  14.63  13.86  ...   \n2  12.70  12.74  12.78  12.81  12.84  12.91  12.92  12.95  12.98  13.02  ...   \n3  12.70  12.77  12.80  12.83  12.87  12.89  12.96  12.98  13.01  13.06  ...   \n4  12.74  12.88  12.93  12.86  12.91  12.93  12.97  13.00  13.05  13.07  ...   \n\n      40     41     42     43     44     45         46         47     48  \\\n0  15.58  15.27  15.06  12.95  14.97  14.18  16.840000  15.940000  16.08   \n1  15.69  15.52  15.32  15.14  14.52  15.49  16.629999  16.360001  14.80   \n2  15.54  15.66  15.70  15.41  14.47  14.16  14.080000  14.420000  12.74   \n3  15.28  15.50  15.59  15.20  15.11  12.92  12.880000  12.760000  12.76   \n4  14.88  15.30  14.74  14.77  14.66  12.91  12.900000  12.920000  12.82   \n\n      49  \n0  14.88  \n1  12.74  \n2  12.75  \n3  12.78  \n4  12.91  \n\n[5 rows x 50 columns]",
      "text/html": "<div>\n<style scoped>\n    .dataframe tbody tr th:only-of-type {\n        vertical-align: middle;\n    }\n\n    .dataframe tbody tr th {\n        vertical-align: top;\n    }\n\n    .dataframe thead th {\n        text-align: right;\n    }\n</style>\n<table border=\"1\" class=\"dataframe\">\n  <thead>\n    <tr style=\"text-align: right;\">\n      <th></th>\n      <th>0</th>\n      <th>1</th>\n      <th>2</th>\n      <th>3</th>\n      <th>4</th>\n      <th>5</th>\n      <th>6</th>\n      <th>7</th>\n      <th>8</th>\n      <th>9</th>\n      <th>...</th>\n      <th>40</th>\n      <th>41</th>\n      <th>42</th>\n      <th>43</th>\n      <th>44</th>\n      <th>45</th>\n      <th>46</th>\n      <th>47</th>\n      <th>48</th>\n      <th>49</th>\n    </tr>\n  </thead>\n  <tbody>\n    <tr>\n      <th>0</th>\n      <td>12.69</td>\n      <td>12.68</td>\n      <td>12.71</td>\n      <td>12.79</td>\n      <td>12.98</td>\n      <td>12.91</td>\n      <td>12.90</td>\n      <td>13.10</td>\n      <td>14.59</td>\n      <td>13.00</td>\n      <td>...</td>\n      <td>15.58</td>\n      <td>15.27</td>\n      <td>15.06</td>\n      <td>12.95</td>\n      <td>14.97</td>\n      <td>14.18</td>\n      <td>16.840000</td>\n      <td>15.940000</td>\n      <td>16.08</td>\n      <td>14.88</td>\n    </tr>\n    <tr>\n      <th>1</th>\n      <td>12.68</td>\n      <td>12.72</td>\n      <td>12.75</td>\n      <td>12.78</td>\n      <td>13.15</td>\n      <td>13.14</td>\n      <td>12.90</td>\n      <td>12.94</td>\n      <td>14.63</td>\n      <td>13.86</td>\n      <td>...</td>\n      <td>15.69</td>\n      <td>15.52</td>\n      <td>15.32</td>\n      <td>15.14</td>\n      <td>14.52</td>\n      <td>15.49</td>\n      <td>16.629999</td>\n      <td>16.360001</td>\n      <td>14.80</td>\n      <td>12.74</td>\n    </tr>\n    <tr>\n      <th>2</th>\n      <td>12.70</td>\n      <td>12.74</td>\n      <td>12.78</td>\n      <td>12.81</td>\n      <td>12.84</td>\n      <td>12.91</td>\n      <td>12.92</td>\n      <td>12.95</td>\n      <td>12.98</td>\n      <td>13.02</td>\n      <td>...</td>\n      <td>15.54</td>\n      <td>15.66</td>\n      <td>15.70</td>\n      <td>15.41</td>\n      <td>14.47</td>\n      <td>14.16</td>\n      <td>14.080000</td>\n      <td>14.420000</td>\n      <td>12.74</td>\n      <td>12.75</td>\n    </tr>\n    <tr>\n      <th>3</th>\n      <td>12.70</td>\n      <td>12.77</td>\n      <td>12.80</td>\n      <td>12.83</td>\n      <td>12.87</td>\n      <td>12.89</td>\n      <td>12.96</td>\n      <td>12.98</td>\n      <td>13.01</td>\n      <td>13.06</td>\n      <td>...</td>\n      <td>15.28</td>\n      <td>15.50</td>\n      <td>15.59</td>\n      <td>15.20</td>\n      <td>15.11</td>\n      <td>12.92</td>\n      <td>12.880000</td>\n      <td>12.760000</td>\n      <td>12.76</td>\n      <td>12.78</td>\n    </tr>\n    <tr>\n      <th>4</th>\n      <td>12.74</td>\n      <td>12.88</td>\n      <td>12.93</td>\n      <td>12.86</td>\n      <td>12.91</td>\n      <td>12.93</td>\n      <td>12.97</td>\n      <td>13.00</td>\n      <td>13.05</td>\n      <td>13.07</td>\n      <td>...</td>\n      <td>14.88</td>\n      <td>15.30</td>\n      <td>14.74</td>\n      <td>14.77</td>\n      <td>14.66</td>\n      <td>12.91</td>\n      <td>12.900000</td>\n      <td>12.920000</td>\n      <td>12.82</td>\n      <td>12.91</td>\n    </tr>\n  </tbody>\n</table>\n<p>5 rows × 50 columns</p>\n</div>"
     },
     "metadata": {},
     "output_type": "display_data"
    },
    {
     "data": {
      "text/plain": "<Figure size 432x288 with 1 Axes>",
      "image/png": "[encoded data removed]"
     },
     "metadata": {
      "needs_background": "light"
     },
     "output_type": "display_data"
    }
   ],
   "source": [
    "### window technique -> random buildings, not very controlable\n",
    "w = dataset.read(1, window=Window(50, 15000, 50, 50))\n",
    "print(w.shape)\n",
    "show(w)\n",
    "\n",
    "pandas_w = pd.DataFrame(data=w)\n",
    "display(pandas_w.head())\n",
    "\n",
    "# first try for 3D plot using matplotlib and the pandas dataframe created with the window\n",
    "fig = plt.figure()\n",
    "ax = fig.gca(projection='3d')\n",
    "\n",
    "x = pandas_w.columns\n",
    "y = pandas_w.index\n",
    "x, y = np.meshgrid(x, y)\n",
    "z = pandas_w\n",
    "surf = ax.plot_surface(x, y, z, cmap=cm.coolwarm,\n",
    "                       linewidth=0, antialiased=True)"
   ],
   "metadata": {
    "collapsed": false,
    "pycharm": {
     "name": "#%%\n"
    }
   }
  },
  {
   "cell_type": "code",
   "execution_count": 67,
   "outputs": [
    {
     "data": {
      "text/plain": "<Figure size 432x288 with 1 Axes>",
      "image/png": "[encoded data removed]"
     },
     "metadata": {
      "needs_background": "light"
     },
     "output_type": "display_data"
    },
    {
     "data": {
      "text/plain": "      0      1      2      3      4      5      6      7      8      9   ...  \\\n0  10.27  10.28  10.30  10.31  10.32  10.31  10.31  10.38  10.35  10.38  ...   \n1  10.28  10.29  10.29  10.32  10.30  10.31  10.31  11.46  10.33  10.37  ...   \n2  11.21  10.31  10.30  10.34  10.33  10.34  10.34  11.45  11.36  10.37  ...   \n3  10.43  10.31  10.31  10.33  10.34  10.33  10.34  10.40  10.39  10.36  ...   \n4  10.37  10.37  10.34  10.37  10.49  10.33  10.34  10.40  10.38  10.40  ...   \n\n      30     31     32     33     34     35     36     37     38     39  \n0  13.30  12.12  10.94  10.14  10.02  10.00  10.57  11.76  10.08  10.00  \n1  12.46  12.13  10.84  10.83  10.03  10.00  10.77  11.50  10.55  10.03  \n2  12.20  12.13  10.45  10.09  10.03  10.02  10.25  11.50  11.22  10.00  \n3  12.24  12.15  12.10  10.07  11.27  12.39  10.03  11.45   9.97  10.26  \n4  12.26  12.22  12.09  10.08  12.51  12.27  12.33  11.53  10.86  10.64  \n\n[5 rows x 40 columns]",
      "text/html": "<div>\n<style scoped>\n    .dataframe tbody tr th:only-of-type {\n        vertical-align: middle;\n    }\n\n    .dataframe tbody tr th {\n        vertical-align: top;\n    }\n\n    .dataframe thead th {\n        text-align: right;\n    }\n</style>\n<table border=\"1\" class=\"dataframe\">\n  <thead>\n    <tr style=\"text-align: right;\">\n      <th></th>\n      <th>0</th>\n      <th>1</th>\n      <th>2</th>\n      <th>3</th>\n      <th>4</th>\n      <th>5</th>\n      <th>6</th>\n      <th>7</th>\n      <th>8</th>\n      <th>9</th>\n      <th>...</th>\n      <th>30</th>\n      <th>31</th>\n      <th>32</th>\n      <th>33</th>\n      <th>34</th>\n      <th>35</th>\n      <th>36</th>\n      <th>37</th>\n      <th>38</th>\n      <th>39</th>\n    </tr>\n  </thead>\n  <tbody>\n    <tr>\n      <th>0</th>\n      <td>10.27</td>\n      <td>10.28</td>\n      <td>10.30</td>\n      <td>10.31</td>\n      <td>10.32</td>\n      <td>10.31</td>\n      <td>10.31</td>\n      <td>10.38</td>\n      <td>10.35</td>\n      <td>10.38</td>\n      <td>...</td>\n      <td>13.30</td>\n      <td>12.12</td>\n      <td>10.94</td>\n      <td>10.14</td>\n      <td>10.02</td>\n      <td>10.00</td>\n      <td>10.57</td>\n      <td>11.76</td>\n      <td>10.08</td>\n      <td>10.00</td>\n    </tr>\n    <tr>\n      <th>1</th>\n      <td>10.28</td>\n      <td>10.29</td>\n      <td>10.29</td>\n      <td>10.32</td>\n      <td>10.30</td>\n      <td>10.31</td>\n      <td>10.31</td>\n      <td>11.46</td>\n      <td>10.33</td>\n      <td>10.37</td>\n      <td>...</td>\n      <td>12.46</td>\n      <td>12.13</td>\n      <td>10.84</td>\n      <td>10.83</td>\n      <td>10.03</td>\n      <td>10.00</td>\n      <td>10.77</td>\n      <td>11.50</td>\n      <td>10.55</td>\n      <td>10.03</td>\n    </tr>\n    <tr>\n      <th>2</th>\n      <td>11.21</td>\n      <td>10.31</td>\n      <td>10.30</td>\n      <td>10.34</td>\n      <td>10.33</td>\n      <td>10.34</td>\n      <td>10.34</td>\n      <td>11.45</td>\n      <td>11.36</td>\n      <td>10.37</td>\n      <td>...</td>\n      <td>12.20</td>\n      <td>12.13</td>\n      <td>10.45</td>\n      <td>10.09</td>\n      <td>10.03</td>\n      <td>10.02</td>\n      <td>10.25</td>\n      <td>11.50</td>\n      <td>11.22</td>\n      <td>10.00</td>\n    </tr>\n    <tr>\n      <th>3</th>\n      <td>10.43</td>\n      <td>10.31</td>\n      <td>10.31</td>\n      <td>10.33</td>\n      <td>10.34</td>\n      <td>10.33</td>\n      <td>10.34</td>\n      <td>10.40</td>\n      <td>10.39</td>\n      <td>10.36</td>\n      <td>...</td>\n      <td>12.24</td>\n      <td>12.15</td>\n      <td>12.10</td>\n      <td>10.07</td>\n      <td>11.27</td>\n      <td>12.39</td>\n      <td>10.03</td>\n      <td>11.45</td>\n      <td>9.97</td>\n      <td>10.26</td>\n    </tr>\n    <tr>\n      <th>4</th>\n      <td>10.37</td>\n      <td>10.37</td>\n      <td>10.34</td>\n      <td>10.37</td>\n      <td>10.49</td>\n      <td>10.33</td>\n      <td>10.34</td>\n      <td>10.40</td>\n      <td>10.38</td>\n      <td>10.40</td>\n      <td>...</td>\n      <td>12.26</td>\n      <td>12.22</td>\n      <td>12.09</td>\n      <td>10.08</td>\n      <td>12.51</td>\n      <td>12.27</td>\n      <td>12.33</td>\n      <td>11.53</td>\n      <td>10.86</td>\n      <td>10.64</td>\n    </tr>\n  </tbody>\n</table>\n<p>5 rows × 40 columns</p>\n</div>"
     },
     "metadata": {},
     "output_type": "display_data"
    },
    {
     "data": {
      "text/plain": "(40, 40)"
     },
     "metadata": {},
     "output_type": "display_data"
    },
    {
     "data": {
      "application/vnd.plotly.v1+json": {
       "config": {
        "plotlyServerURL": "https://plot.ly"
       },
       "data": [
        {
         "type": "surface",
         "z": [
          [
           10.270000457763672,
           10.279999732971191,
           10.300000190734863,
           10.3100004196167,
           10.319999694824219,
           10.3100004196167,
           10.3100004196167,
           10.380000114440918,
           10.350000381469727,
           10.380000114440918,
           10.380000114440918,
           10.380000114440918,
           10.369999885559082,
           10.369999885559082,
           10.359999656677246,
           10.329999923706055,
           10.319999694824219,
           10.300000190734863,
           12.539999961853027,
           13.430000305175781,
           19.65999984741211,
           17.110000610351562,
           15.699999809265137,
           10.010000228881836,
           12.149999618530273,
           18.139999389648438,
           15.119999885559082,
           15.010000228881836,
           14.020000457763672,
           15.180000305175781,
           13.300000190734863,
           12.119999885559082,
           10.9399995803833,
           10.140000343322754,
           10.020000457763672,
           10.0,
           10.569999694824219,
           11.760000228881836,
           10.079999923706055,
           10.0
          ],
          [
           10.279999732971191,
           10.289999961853027,
           10.289999961853027,
           10.319999694824219,
           10.300000190734863,
           10.3100004196167,
           10.3100004196167,
           11.460000038146973,
           10.329999923706055,
           10.369999885559082,
           10.369999885559082,
           10.369999885559082,
           10.369999885559082,
           10.380000114440918,
           10.350000381469727,
           10.329999923706055,
           11.630000114440918,
           12.5600004196167,
           12.260000228881836,
           11.369999885559082,
           15.239999771118164,
           13.770000457763672,
           13.3100004196167,
           10.010000228881836,
           10.010000228881836,
           11.470000267028809,
           14.600000381469727,
           14.350000381469727,
           14.529999732971191,
           14.329999923706055,
           12.460000038146973,
           12.130000114440918,
           10.84000015258789,
           10.829999923706055,
           10.029999732971191,
           10.0,
           10.770000457763672,
           11.5,
           10.550000190734863,
           10.029999732971191
          ],
          [
           11.210000038146973,
           10.3100004196167,
           10.300000190734863,
           10.34000015258789,
           10.329999923706055,
           10.34000015258789,
           10.34000015258789,
           11.449999809265137,
           11.359999656677246,
           10.369999885559082,
           10.390000343322754,
           10.380000114440918,
           10.390000343322754,
           10.359999656677246,
           10.359999656677246,
           10.380000114440918,
           10.84000015258789,
           10.819999694824219,
           10.289999961853027,
           11.029999732971191,
           11.050000190734863,
           10.979999542236328,
           10.789999961853027,
           10.630000114440918,
           10.069999694824219,
           12.630000114440918,
           13.819999694824219,
           13.779999732971191,
           14.850000381469727,
           14.449999809265137,
           12.199999809265137,
           12.130000114440918,
           10.449999809265137,
           10.09000015258789,
           10.029999732971191,
           10.020000457763672,
           10.25,
           11.5,
           11.220000267028809,
           10.0
          ],
          [
           10.430000305175781,
           10.3100004196167,
           10.3100004196167,
           10.329999923706055,
           10.34000015258789,
           10.329999923706055,
           10.34000015258789,
           10.399999618530273,
           10.390000343322754,
           10.359999656677246,
           10.40999984741211,
           10.399999618530273,
           10.380000114440918,
           10.350000381469727,
           10.329999923706055,
           10.34000015258789,
           10.529999732971191,
           10.390000343322754,
           12.579999923706055,
           11.020000457763672,
           11.020000457763672,
           10.970000267028809,
           10.649999618530273,
           10.0600004196167,
           10.010000228881836,
           10.029999732971191,
           10.039999961853027,
           13.710000038146973,
           13.529999732971191,
           13.369999885559082,
           12.239999771118164,
           12.149999618530273,
           12.100000381469727,
           10.069999694824219,
           11.270000457763672,
           12.390000343322754,
           10.029999732971191,
           11.449999809265137,
           9.970000267028809,
           10.260000228881836
          ],
          [
           10.369999885559082,
           10.369999885559082,
           10.34000015258789,
           10.369999885559082,
           10.489999771118164,
           10.329999923706055,
           10.34000015258789,
           10.399999618530273,
           10.380000114440918,
           10.399999618530273,
           10.390000343322754,
           10.390000343322754,
           10.390000343322754,
           10.359999656677246,
           10.369999885559082,
           10.369999885559082,
           10.369999885559082,
           10.390000343322754,
           11.3100004196167,
           10.649999618530273,
           11.640000343322754,
           11.619999885559082,
           10.079999923706055,
           10.09000015258789,
           10.0600004196167,
           10.050000190734863,
           10.0600004196167,
           13.359999656677246,
           13.640000343322754,
           13.8100004196167,
           12.260000228881836,
           12.220000267028809,
           12.09000015258789,
           10.079999923706055,
           12.510000228881836,
           12.270000457763672,
           12.329999923706055,
           11.529999732971191,
           10.859999656677246,
           10.640000343322754
          ],
          [
           10.359999656677246,
           10.390000343322754,
           10.350000381469727,
           10.359999656677246,
           10.34000015258789,
           10.329999923706055,
           10.329999923706055,
           10.359999656677246,
           10.390000343322754,
           10.390000343322754,
           10.369999885559082,
           10.369999885559082,
           10.390000343322754,
           10.359999656677246,
           10.329999923706055,
           10.380000114440918,
           10.359999656677246,
           10.369999885559082,
           10.390000343322754,
           10.210000038146973,
           10.380000114440918,
           10.229999542236328,
           10.529999732971191,
           10.079999923706055,
           10.050000190734863,
           10.079999923706055,
           10.0600004196167,
           12.420000076293945,
           12.260000228881836,
           13.3100004196167,
           12.289999961853027,
           12.170000076293945,
           12.119999885559082,
           10.079999923706055,
           10.130000114440918,
           13.109999656677246,
           13.25,
           11.5600004196167,
           10.949999809265137,
           10.739999771118164
          ],
          [
           10.4399995803833,
           10.420000076293945,
           10.390000343322754,
           10.380000114440918,
           10.350000381469727,
           10.34000015258789,
           10.359999656677246,
           10.359999656677246,
           10.880000114440918,
           10.380000114440918,
           13.0600004196167,
           10.390000343322754,
           10.40999984741211,
           10.380000114440918,
           10.34000015258789,
           10.369999885559082,
           10.890000343322754,
           12.0600004196167,
           13.199999809265137,
           10.270000457763672,
           11.699999809265137,
           12.59000015258789,
           10.199999809265137,
           10.09000015258789,
           10.079999923706055,
           10.069999694824219,
           10.09000015258789,
           10.84000015258789,
           11.1899995803833,
           12.760000228881836,
           12.199999809265137,
           12.210000038146973,
           12.140000343322754,
           10.09000015258789,
           10.1899995803833,
           10.100000381469727,
           10.119999885559082,
           11.210000038146973,
           11.59000015258789,
           10.0600004196167
          ],
          [
           11.170000076293945,
           10.40999984741211,
           10.420000076293945,
           10.399999618530273,
           10.359999656677246,
           10.359999656677246,
           10.380000114440918,
           10.369999885559082,
           12.970000267028809,
           12.25,
           14.84000015258789,
           13.569999694824219,
           10.640000343322754,
           10.90999984741211,
           10.369999885559082,
           11.850000381469727,
           13.100000381469727,
           13.069999694824219,
           13.09000015258789,
           13.0600004196167,
           12.829999923706055,
           12.579999923706055,
           11.819999694824219,
           10.100000381469727,
           10.140000343322754,
           10.100000381469727,
           10.149999618530273,
           10.90999984741211,
           11.550000190734863,
           11.9399995803833,
           12.449999809265137,
           12.229999542236328,
           12.180000305175781,
           10.8100004196167,
           10.180000305175781,
           10.140000343322754,
           11.529999732971191,
           10.890000343322754,
           11.550000190734863,
           10.15999984741211
          ],
          [
           11.800000190734863,
           10.420000076293945,
           10.420000076293945,
           10.420000076293945,
           10.420000076293945,
           10.380000114440918,
           10.390000343322754,
           10.390000343322754,
           11.069999694824219,
           15.020000457763672,
           16.1299991607666,
           14.3100004196167,
           13.949999809265137,
           13.109999656677246,
           10.380000114440918,
           10.420000076293945,
           13.100000381469727,
           13.15999984741211,
           13.119999885559082,
           13.180000305175781,
           12.829999923706055,
           12.609999656677246,
           11.680000305175781,
           10.15999984741211,
           10.149999618530273,
           10.140000343322754,
           10.180000305175781,
           10.180000305175781,
           10.220000267028809,
           11.170000076293945,
           12.279999732971191,
           12.770000457763672,
           12.829999923706055,
           12.619999885559082,
           10.279999732971191,
           10.220000267028809,
           11.239999771118164,
           12.229999542236328,
           12.350000381469727,
           10.729999542236328
          ],
          [
           12.710000038146973,
           10.720000267028809,
           10.430000305175781,
           10.420000076293945,
           10.430000305175781,
           10.40999984741211,
           10.399999618530273,
           10.40999984741211,
           12.109999656677246,
           15.0600004196167,
           14.579999923706055,
           14.850000381469727,
           12.75,
           15.380000114440918,
           10.399999618530273,
           10.430000305175781,
           13.069999694824219,
           13.199999809265137,
           13.180000305175781,
           13.1899995803833,
           12.90999984741211,
           12.640000343322754,
           12.4399995803833,
           10.239999771118164,
           10.229999542236328,
           10.199999809265137,
           10.210000038146973,
           10.239999771118164,
           10.229999542236328,
           10.260000228881836,
           12.380000114440918,
           13.069999694824219,
           12.90999984741211,
           12.680000305175781,
           10.300000190734863,
           10.25,
           10.260000228881836,
           12.260000228881836,
           12.319999694824219,
           10.40999984741211
          ],
          [
           12.850000381469727,
           10.890000343322754,
           10.4399995803833,
           10.4399995803833,
           10.449999809265137,
           10.430000305175781,
           10.420000076293945,
           10.4399995803833,
           12.489999771118164,
           13.380000114440918,
           13.970000267028809,
           15.6899995803833,
           14.630000114440918,
           11.569999694824219,
           10.829999923706055,
           10.420000076293945,
           13.100000381469727,
           13.170000076293945,
           13.149999618530273,
           13.119999885559082,
           12.979999542236328,
           12.699999809265137,
           12.520000457763672,
           10.359999656677246,
           10.300000190734863,
           10.239999771118164,
           10.239999771118164,
           10.300000190734863,
           10.260000228881836,
           10.279999732971191,
           11.369999885559082,
           13.100000381469727,
           12.920000076293945,
           12.720000267028809,
           10.300000190734863,
           10.260000228881836,
           10.260000228881836,
           11.359999656677246,
           12.34000015258789,
           10.449999809265137
          ],
          [
           12.930000305175781,
           11.779999732971191,
           10.449999809265137,
           10.619999885559082,
           10.899999618530273,
           10.760000228881836,
           10.460000038146973,
           10.489999771118164,
           13.539999961853027,
           12.470000267028809,
           12.90999984741211,
           15.5,
           12.84000015258789,
           10.470000267028809,
           10.40999984741211,
           10.449999809265137,
           11.520000457763672,
           13.050000190734863,
           13.149999618530273,
           13.100000381469727,
           13.029999732971191,
           12.770000457763672,
           12.569999694824219,
           10.289999961853027,
           10.380000114440918,
           10.3100004196167,
           10.289999961853027,
           10.300000190734863,
           10.289999961853027,
           10.300000190734863,
           10.390000343322754,
           13.199999809265137,
           12.9399995803833,
           12.760000228881836,
           10.3100004196167,
           10.34000015258789,
           10.329999923706055,
           11.15999984741211,
           12.319999694824219,
           13.460000038146973
          ],
          [
           14.520000457763672,
           13.430000305175781,
           10.479999542236328,
           10.470000267028809,
           10.470000267028809,
           10.470000267028809,
           11.0600004196167,
           10.470000267028809,
           10.5,
           10.680000305175781,
           11.779999732971191,
           13.170000076293945,
           10.4399995803833,
           10.460000038146973,
           10.420000076293945,
           11.4399995803833,
           12.050000190734863,
           13.039999961853027,
           12.420000076293945,
           12.140000343322754,
           13.25,
           13.279999732971191,
           13.220000267028809,
           13.140000343322754,
           10.380000114440918,
           10.359999656677246,
           10.329999923706055,
           10.34000015258789,
           10.359999656677246,
           10.3100004196167,
           10.329999923706055,
           13.1899995803833,
           12.960000038146973,
           12.800000190734863,
           12.210000038146973,
           10.289999961853027,
           10.300000190734863,
           10.289999961853027,
           12.270000457763672,
           13.199999809265137
          ],
          [
           14.65999984741211,
           13.630000114440918,
           10.479999542236328,
           10.489999771118164,
           10.479999542236328,
           10.479999542236328,
           10.520000457763672,
           10.479999542236328,
           10.520000457763672,
           10.569999694824219,
           10.479999542236328,
           10.460000038146973,
           10.449999809265137,
           10.470000267028809,
           10.449999809265137,
           10.420000076293945,
           10.449999809265137,
           10.4399995803833,
           10.40999984741211,
           10.420000076293945,
           13.34000015258789,
           13.09000015258789,
           13.100000381469727,
           13.119999885559082,
           11.039999961853027,
           10.430000305175781,
           10.369999885559082,
           10.359999656677246,
           11.180000305175781,
           10.380000114440918,
           10.350000381469727,
           13.1899995803833,
           12.979999542236328,
           12.8100004196167,
           12.050000190734863,
           10.289999961853027,
           10.3100004196167,
           10.289999961853027,
           12.260000228881836,
           12.40999984741211
          ],
          [
           14.880000114440918,
           13.829999923706055,
           11.380000114440918,
           10.5,
           10.479999542236328,
           10.479999542236328,
           10.489999771118164,
           10.489999771118164,
           10.489999771118164,
           10.979999542236328,
           10.470000267028809,
           10.4399995803833,
           10.4399995803833,
           10.449999809265137,
           10.460000038146973,
           10.430000305175781,
           10.460000038146973,
           10.430000305175781,
           10.420000076293945,
           10.40999984741211,
           12.699999809265137,
           13.100000381469727,
           13.100000381469727,
           13.109999656677246,
           13.270000457763672,
           10.430000305175781,
           10.390000343322754,
           10.359999656677246,
           10.930000305175781,
           10.399999618530273,
           10.359999656677246,
           13.170000076293945,
           13.039999961853027,
           12.84000015258789,
           12.649999618530273,
           10.300000190734863,
           10.289999961853027,
           10.449999809265137,
           11.039999961853027,
           12.260000228881836
          ],
          [
           14.989999771118164,
           13.979999542236328,
           10.489999771118164,
           10.5,
           10.489999771118164,
           10.489999771118164,
           10.5,
           10.479999542236328,
           10.609999656677246,
           12.390000343322754,
           10.40999984741211,
           10.470000267028809,
           10.460000038146973,
           10.470000267028809,
           10.4399995803833,
           10.470000267028809,
           10.460000038146973,
           10.399999618530273,
           10.430000305175781,
           10.399999618530273,
           10.579999923706055,
           13.109999656677246,
           13.069999694824219,
           13.100000381469727,
           13.1899995803833,
           10.34000015258789,
           10.399999618530273,
           10.430000305175781,
           10.34000015258789,
           10.350000381469727,
           11.09000015258789,
           11.4399995803833,
           13.100000381469727,
           12.90999984741211,
           12.6899995803833,
           12.0,
           12.680000305175781,
           12.720000267028809,
           12.739999771118164,
           12.779999732971191
          ],
          [
           15.0,
           14.149999618530273,
           13.119999885559082,
           10.5,
           10.489999771118164,
           10.510000228881836,
           10.489999771118164,
           10.510000228881836,
           10.989999771118164,
           10.859999656677246,
           10.680000305175781,
           10.489999771118164,
           10.479999542236328,
           10.4399995803833,
           10.479999542236328,
           10.479999542236328,
           10.470000267028809,
           12.130000114440918,
           10.40999984741211,
           10.390000343322754,
           10.960000038146973,
           13.079999923706055,
           13.0600004196167,
           13.0600004196167,
           13.09000015258789,
           10.399999618530273,
           10.359999656677246,
           10.359999656677246,
           10.329999923706055,
           10.350000381469727,
           10.359999656677246,
           13.779999732971191,
           13.09000015258789,
           12.90999984741211,
           12.720000267028809,
           12.800000190734863,
           12.819999694824219,
           12.84000015258789,
           12.850000381469727,
           12.850000381469727
          ],
          [
           14.84000015258789,
           14.329999923706055,
           13.3100004196167,
           10.529999732971191,
           10.510000228881836,
           10.529999732971191,
           10.520000457763672,
           10.529999732971191,
           10.510000228881836,
           10.670000076293945,
           10.470000267028809,
           10.489999771118164,
           10.470000267028809,
           10.479999542236328,
           10.479999542236328,
           10.449999809265137,
           10.470000267028809,
           12.4399995803833,
           10.399999618530273,
           10.399999618530273,
           10.390000343322754,
           13.130000114440918,
           13.109999656677246,
           13.09000015258789,
           13.079999923706055,
           12.029999732971191,
           14.84000015258789,
           12.680000305175781,
           14.319999694824219,
           15.850000381469727,
           16.15999984741211,
           16.270000457763672,
           13.300000190734863,
           12.9399995803833,
           12.760000228881836,
           13.529999732971191,
           13.25,
           13.6899995803833,
           15.890000343322754,
           16.100000381469727
          ],
          [
           14.619999885559082,
           14.510000228881836,
           13.510000228881836,
           10.979999542236328,
           10.5,
           10.510000228881836,
           12.920000076293945,
           13.229999542236328,
           13.289999961853027,
           13.300000190734863,
           10.470000267028809,
           10.479999542236328,
           10.489999771118164,
           11.020000457763672,
           13.680000305175781,
           14.020000457763672,
           14.270000457763672,
           14.34000015258789,
           10.390000343322754,
           10.40999984741211,
           10.390000343322754,
           13.239999771118164,
           13.100000381469727,
           13.029999732971191,
           13.0600004196167,
           16.239999771118164,
           14.680000305175781,
           16.440000534057617,
           16.549999237060547,
           16.6299991607666,
           16.709999084472656,
           16.850000381469727,
           15.15999984741211,
           16.020000457763672,
           16.209999084472656,
           16.3799991607666,
           16.5,
           16.739999771118164,
           16.799999237060547,
           16.940000534057617
          ],
          [
           14.010000228881836,
           13.779999732971191,
           13.649999618530273,
           10.779999732971191,
           12.020000457763672,
           13.3100004196167,
           13.319999694824219,
           13.329999923706055,
           13.3100004196167,
           13.350000381469727,
           13.59000015258789,
           13.539999961853027,
           13.5600004196167,
           13.520000457763672,
           14.609999656677246,
           14.710000038146973,
           14.829999923706055,
           14.949999809265137,
           14.600000381469727,
           10.390000343322754,
           10.399999618530273,
           13.319999694824219,
           13.079999923706055,
           13.079999923706055,
           13.119999885559082,
           16.81999969482422,
           16.920000076293945,
           17.040000915527344,
           17.110000610351562,
           17.190000534057617,
           17.299999237060547,
           17.399999618530273,
           17.510000228881836,
           16.90999984741211,
           17.049999237060547,
           17.239999771118164,
           19.170000076293945,
           17.520000457763672,
           17.690000534057617,
           17.809999465942383
          ],
          [
           11.75,
           10.579999923706055,
           10.579999923706055,
           13.109999656677246,
           13.3100004196167,
           13.329999923706055,
           13.319999694824219,
           13.350000381469727,
           13.319999694824219,
           13.380000114440918,
           13.819999694824219,
           13.529999732971191,
           13.59000015258789,
           13.59000015258789,
           13.579999923706055,
           15.34000015258789,
           15.449999809265137,
           15.59000015258789,
           15.699999809265137,
           10.40999984741211,
           10.390000343322754,
           13.670000076293945,
           13.739999771118164,
           11.40999984741211,
           10.460000038146973,
           17.40999984741211,
           17.459999084472656,
           16.520000457763672,
           17.65999984741211,
           17.75,
           17.520000457763672,
           17.969999313354492,
           18.06999969482422,
           17.770000457763672,
           17.93000030517578,
           18.110000610351562,
           18.270000457763672,
           18.420000076293945,
           18.579999923706055,
           18.739999771118164
          ],
          [
           10.539999961853027,
           10.550000190734863,
           10.550000190734863,
           12.949999809265137,
           13.359999656677246,
           13.390000343322754,
           13.359999656677246,
           13.359999656677246,
           13.369999885559082,
           13.369999885559082,
           14.489999771118164,
           13.819999694824219,
           13.84000015258789,
           13.920000076293945,
           13.899999618530273,
           15.949999809265137,
           16.100000381469727,
           16.200000762939453,
           16.31999969482422,
           10.399999618530273,
           10.84000015258789,
           14.850000381469727,
           15.020000457763672,
           11.760000228881836,
           10.399999618530273,
           18.020000457763672,
           18.049999237060547,
           17.649999618530273,
           18.239999771118164,
           18.290000915527344,
           18.40999984741211,
           18.549999237060547,
           18.65999984741211,
           18.690000534057617,
           18.829999923706055,
           18.889999389648438,
           18.969999313354492,
           18.809999465942383,
           18.68000030517578,
           18.540000915527344
          ],
          [
           10.569999694824219,
           11.100000381469727,
           10.539999961853027,
           11.289999961853027,
           13.40999984741211,
           13.09000015258789,
           13.539999961853027,
           13.569999694824219,
           13.619999885559082,
           12.170000076293945,
           13.729999542236328,
           14.34000015258789,
           16.209999084472656,
           16.43000030517578,
           16.5,
           16.59000015258789,
           16.709999084472656,
           16.829999923706055,
           16.93000030517578,
           10.390000343322754,
           14.850000381469727,
           11.760000228881836,
           15.670000076293945,
           12.0,
           11.220000267028809,
           15.520000457763672,
           18.639999389648438,
           18.729999542236328,
           18.81999969482422,
           18.920000076293945,
           18.969999313354492,
           18.81999969482422,
           18.690000534057617,
           18.670000076293945,
           18.549999237060547,
           18.420000076293945,
           18.309999465942383,
           18.219999313354492,
           18.049999237060547,
           17.969999313354492
          ],
          [
           10.550000190734863,
           11.300000190734863,
           11.220000267028809,
           10.550000190734863,
           13.680000305175781,
           15.069999694824219,
           15.34000015258789,
           15.609999656677246,
           16.469999313354492,
           16.540000915527344,
           16.670000076293945,
           16.770000457763672,
           16.8799991607666,
           17.0,
           17.110000610351562,
           17.229999542236328,
           17.34000015258789,
           16.90999984741211,
           17.559999465942383,
           10.369999885559082,
           14.890000343322754,
           15.449999809265137,
           15.739999771118164,
           15.460000038146973,
           11.869999885559082,
           12.010000228881836,
           18.829999923706055,
           18.670000076293945,
           18.43000030517578,
           18.450000762939453,
           18.350000381469727,
           18.239999771118164,
           18.049999237060547,
           18.06999969482422,
           17.959999084472656,
           17.809999465942383,
           17.739999771118164,
           17.65999984741211,
           17.489999771118164,
           17.40999984741211
          ],
          [
           10.529999732971191,
           12.170000076293945,
           11.6899995803833,
           10.550000190734863,
           16.6200008392334,
           14.760000228881836,
           16.81999969482422,
           16.93000030517578,
           17.06999969482422,
           17.15999984741211,
           17.280000686645508,
           17.389999389648438,
           17.489999771118164,
           16.040000915527344,
           17.729999542236328,
           17.829999923706055,
           17.979999542236328,
           18.06999969482422,
           18.200000762939453,
           10.960000038146973,
           13.739999771118164,
           12.699999809265137,
           14.979999542236328,
           14.300000190734863,
           11.899999618530273,
           13.84000015258789,
           18.270000457763672,
           18.100000381469727,
           19.329999923706055,
           18.600000381469727,
           17.700000762939453,
           17.670000076293945,
           17.520000457763672,
           17.469999313354492,
           17.360000610351562,
           17.280000686645508,
           17.079999923706055,
           17.059999465942383,
           16.950000762939453,
           16.809999465942383
          ],
          [
           10.510000228881836,
           11.260000228881836,
           12.0600004196167,
           10.529999732971191,
           16.1299991607666,
           17.329999923706055,
           17.59000015258789,
           17.549999237060547,
           17.649999618530273,
           17.790000915527344,
           17.90999984741211,
           18.030000686645508,
           18.1200008392334,
           18.219999313354492,
           18.34000015258789,
           18.469999313354492,
           18.579999923706055,
           18.719999313354492,
           18.81999969482422,
           15.510000228881836,
           10.420000076293945,
           12.109999656677246,
           14.319999694824219,
           14.850000381469727,
           12.109999656677246,
           11.850000381469727,
           17.65999984741211,
           17.530000686645508,
           17.399999618530273,
           17.31999969482422,
           17.229999542236328,
           17.030000686645508,
           16.950000762939453,
           16.8700008392334,
           16.790000915527344,
           16.649999618530273,
           16.520000457763672,
           16.489999771118164,
           16.360000610351562,
           16.260000228881836
          ],
          [
           11.029999732971191,
           10.529999732971191,
           10.510000228881836,
           10.520000457763672,
           17.8700008392334,
           17.950000762939453,
           18.15999984741211,
           18.18000030517578,
           18.280000686645508,
           18.399999618530273,
           18.510000228881836,
           18.799999237060547,
           18.75,
           18.850000381469727,
           18.959999084472656,
           19.1200008392334,
           19.170000076293945,
           19.030000686645508,
           18.93000030517578,
           18.780000686645508,
           10.369999885559082,
           12.75,
           14.710000038146973,
           13.899999618530273,
           12.149999618530273,
           10.359999656677246,
           17.100000381469727,
           16.979999542236328,
           16.850000381469727,
           16.75,
           16.65999984741211,
           16.540000915527344,
           16.399999618530273,
           16.329999923706055,
           16.219999313354492,
           16.139999389648438,
           15.930000305175781,
           15.859999656677246,
           15.800000190734863,
           16.110000610351562
          ],
          [
           10.529999732971191,
           10.539999961853027,
           10.529999732971191,
           10.529999732971191,
           15.210000038146973,
           18.59000015258789,
           18.700000762939453,
           18.829999923706055,
           18.899999618530273,
           19.049999237060547,
           19.139999389648438,
           19.079999923706055,
           19.0,
           18.809999465942383,
           18.739999771118164,
           18.65999984741211,
           18.5,
           18.399999618530273,
           18.31999969482422,
           18.190000534057617,
           10.380000114440918,
           10.399999618530273,
           14.720000267028809,
           12.800000190734863,
           10.350000381469727,
           10.350000381469727,
           13.880000114440918,
           16.440000534057617,
           16.290000915527344,
           16.200000762939453,
           16.100000381469727,
           15.600000381469727,
           15.800000190734863,
           13.970000267028809,
           10.319999694824219,
           10.34000015258789,
           12.470000267028809,
           11.380000114440918,
           17.8799991607666,
           18.139999389648438
          ],
          [
           10.5600004196167,
           10.520000457763672,
           10.529999732971191,
           10.520000457763672,
           16.079999923706055,
           19.229999542236328,
           19.049999237060547,
           18.93000030517578,
           18.809999465942383,
           18.700000762939453,
           18.559999465942383,
           18.469999313354492,
           18.389999389648438,
           18.200000762939453,
           18.1299991607666,
           18.040000915527344,
           17.940000534057617,
           17.84000015258789,
           17.040000915527344,
           17.549999237060547,
           10.359999656677246,
           10.399999618530273,
           13.699999809265137,
           13.359999656677246,
           11.329999923706055,
           10.34000015258789,
           15.319999694824219,
           12.119999885559082,
           14.220000267028809,
           15.460000038146973,
           13.4399995803833,
           11.359999656677246,
           10.359999656677246,
           10.369999885559082,
           11.279999732971191,
           10.319999694824219,
           11.5,
           16.440000534057617,
           19.829999923706055,
           21.850000381469727
          ],
          [
           11.430000305175781,
           10.489999771118164,
           10.489999771118164,
           10.489999771118164,
           10.640000343322754,
           18.56999969482422,
           18.459999084472656,
           18.329999923706055,
           18.209999084472656,
           18.100000381469727,
           18.049999237060547,
           17.860000610351562,
           17.739999771118164,
           17.6299991607666,
           16.760000228881836,
           17.389999389648438,
           17.280000686645508,
           17.190000534057617,
           17.100000381469727,
           16.979999542236328,
           10.380000114440918,
           11.319999694824219,
           14.359999656677246,
           15.40999984741211,
           14.220000267028809,
           10.609999656677246,
           10.350000381469727,
           10.399999618530273,
           10.90999984741211,
           12.819999694824219,
           14.029999732971191,
           10.40999984741211,
           11.319999694824219,
           11.619999885559082,
           11.029999732971191,
           10.319999694824219,
           15.170000076293945,
           14.579999923706055,
           21.079999923706055,
           22.190000534057617
          ],
          [
           12.199999809265137,
           10.520000457763672,
           10.489999771118164,
           10.489999771118164,
           11.630000114440918,
           17.950000762939453,
           17.829999923706055,
           17.799999237060547,
           17.600000381469727,
           17.489999771118164,
           17.34000015258789,
           17.25,
           17.110000610351562,
           17.049999237060547,
           16.920000076293945,
           16.799999237060547,
           16.68000030517578,
           16.610000610351562,
           16.440000534057617,
           14.770000457763672,
           12.329999923706055,
           10.789999961853027,
           14.279999732971191,
           14.75,
           14.649999618530273,
           10.329999923706055,
           10.3100004196167,
           10.550000190734863,
           13.829999923706055,
           16.420000076293945,
           15.770000457763672,
           12.460000038146973,
           10.430000305175781,
           11.75,
           11.140000343322754,
           10.300000190734863,
           17.780000686645508,
           19.239999771118164,
           22.200000762939453,
           22.040000915527344
          ],
          [
           12.199999809265137,
           10.489999771118164,
           10.489999771118164,
           10.479999542236328,
           10.510000228881836,
           17.350000381469727,
           17.190000534057617,
           17.079999923706055,
           16.969999313354492,
           16.8799991607666,
           16.739999771118164,
           16.6299991607666,
           16.530000686645508,
           16.43000030517578,
           14.359999656677246,
           13.850000381469727,
           10.609999656677246,
           10.569999694824219,
           10.699999809265137,
           10.75,
           10.329999923706055,
           11.359999656677246,
           12.789999961853027,
           14.109999656677246,
           13.510000228881836,
           10.300000190734863,
           10.25,
           15.829999923706055,
           14.9399995803833,
           16.5,
           17.1299991607666,
           14.109999656677246,
           11.380000114440918,
           11.880000114440918,
           10.180000305175781,
           11.100000381469727,
           13.220000267028809,
           19.59000015258789,
           21.309999465942383,
           22.040000915527344
          ],
          [
           11.6899995803833,
           10.510000228881836,
           10.479999542236328,
           10.489999771118164,
           10.520000457763672,
           14.020000457763672,
           16.579999923706055,
           16.489999771118164,
           14.020000457763672,
           14.100000381469727,
           16.239999771118164,
           12.350000381469727,
           11.149999618530273,
           11.390000343322754,
           10.960000038146973,
           10.979999542236328,
           10.460000038146973,
           10.380000114440918,
           12.4399995803833,
           10.569999694824219,
           10.329999923706055,
           11.5,
           11.65999984741211,
           11.779999732971191,
           10.569999694824219,
           10.25,
           10.229999542236328,
           10.289999961853027,
           13.380000114440918,
           16.760000228881836,
           16.989999771118164,
           14.90999984741211,
           13.039999961853027,
           11.8100004196167,
           10.199999809265137,
           10.270000457763672,
           10.40999984741211,
           13.369999885559082,
           19.65999984741211,
           18.799999237060547
          ],
          [
           11.119999885559082,
           10.59000015258789,
           10.479999542236328,
           10.489999771118164,
           10.470000267028809,
           13.75,
           12.699999809265137,
           13.079999923706055,
           10.510000228881836,
           10.630000114440918,
           10.649999618530273,
           10.470000267028809,
           10.5600004196167,
           11.59000015258789,
           11.15999984741211,
           10.760000228881836,
           10.359999656677246,
           10.390000343322754,
           12.149999618530273,
           11.020000457763672,
           10.319999694824219,
           11.479999542236328,
           13.359999656677246,
           13.869999885559082,
           13.050000190734863,
           12.609999656677246,
           10.25,
           10.25,
           15.850000381469727,
           15.979999542236328,
           16.760000228881836,
           15.109999656677246,
           10.420000076293945,
           10.649999618530273,
           11.239999771118164,
           10.289999961853027,
           10.289999961853027,
           11.460000038146973,
           15.130000114440918,
           16.610000610351562
          ],
          [
           10.569999694824219,
           10.5600004196167,
           10.479999542236328,
           10.479999542236328,
           10.460000038146973,
           10.4399995803833,
           11.149999618530273,
           10.520000457763672,
           10.520000457763672,
           10.550000190734863,
           10.510000228881836,
           10.470000267028809,
           10.470000267028809,
           11.680000305175781,
           10.84000015258789,
           10.779999732971191,
           10.319999694824219,
           10.65999984741211,
           10.930000305175781,
           10.670000076293945,
           10.289999961853027,
           10.329999923706055,
           12.229999542236328,
           14.0600004196167,
           14.239999771118164,
           12.069999694824219,
           10.229999542236328,
           10.25,
           10.529999732971191,
           15.0,
           15.399999618530273,
           10.34000015258789,
           10.239999771118164,
           11.510000228881836,
           11.390000343322754,
           10.699999809265137,
           10.279999732971191,
           10.800000190734863,
           13.760000228881836,
           13.520000457763672
          ],
          [
           10.550000190734863,
           10.520000457763672,
           10.489999771118164,
           10.479999542236328,
           10.460000038146973,
           10.470000267028809,
           11.420000076293945,
           11.550000190734863,
           10.510000228881836,
           11.479999542236328,
           10.5,
           10.4399995803833,
           10.4399995803833,
           11.729999542236328,
           10.550000190734863,
           10.3100004196167,
           10.829999923706055,
           10.920000076293945,
           11.350000381469727,
           10.970000267028809,
           10.300000190734863,
           10.279999732971191,
           11.600000381469727,
           13.430000305175781,
           11.770000457763672,
           10.239999771118164,
           10.260000228881836,
           10.239999771118164,
           10.5,
           11.109999656677246,
           11.270000457763672,
           11.630000114440918,
           10.770000457763672,
           10.3100004196167,
           10.270000457763672,
           10.229999542236328,
           10.25,
           10.210000038146973,
           14.199999809265137,
           16.520000457763672
          ],
          [
           12.260000228881836,
           10.489999771118164,
           10.460000038146973,
           10.479999542236328,
           10.460000038146973,
           10.430000305175781,
           11.59000015258789,
           11.84000015258789,
           10.5,
           10.520000457763672,
           10.529999732971191,
           10.430000305175781,
           10.40999984741211,
           11.6899995803833,
           10.359999656677246,
           11.25,
           10.75,
           10.890000343322754,
           11.399999618530273,
           11.329999923706055,
           10.300000190734863,
           10.25,
           10.260000228881836,
           10.25,
           10.270000457763672,
           10.260000228881836,
           10.25,
           10.1899995803833,
           10.239999771118164,
           10.239999771118164,
           10.239999771118164,
           10.25,
           10.229999542236328,
           10.220000267028809,
           10.220000267028809,
           10.09000015258789,
           10.09000015258789,
           10.550000190734863,
           20.420000076293945,
           19.3799991607666
          ],
          [
           12.270000457763672,
           11.529999732971191,
           10.449999809265137,
           10.449999809265137,
           10.449999809265137,
           10.4399995803833,
           11.079999923706055,
           11.899999618530273,
           10.510000228881836,
           10.729999542236328,
           10.520000457763672,
           10.470000267028809,
           10.390000343322754,
           11.569999694824219,
           10.630000114440918,
           10.369999885559082,
           10.300000190734863,
           10.460000038146973,
           11.170000076293945,
           10.859999656677246,
           10.720000267028809,
           10.229999542236328,
           10.229999542236328,
           10.210000038146973,
           10.199999809265137,
           10.15999984741211,
           10.170000076293945,
           10.149999618530273,
           10.130000114440918,
           10.170000076293945,
           10.09000015258789,
           10.130000114440918,
           10.100000381469727,
           10.119999885559082,
           10.109999656677246,
           10.100000381469727,
           15.710000038146973,
           20.920000076293945,
           20.229999542236328,
           19.34000015258789
          ],
          [
           11.699999809265137,
           10.520000457763672,
           10.529999732971191,
           10.420000076293945,
           10.4399995803833,
           10.4399995803833,
           10.399999618530273,
           11.399999618530273,
           10.430000305175781,
           10.489999771118164,
           10.470000267028809,
           10.420000076293945,
           10.369999885559082,
           10.510000228881836,
           11.130000114440918,
           10.880000114440918,
           10.380000114440918,
           10.3100004196167,
           10.279999732971191,
           10.279999732971191,
           10.239999771118164,
           10.15999984741211,
           10.170000076293945,
           10.140000343322754,
           10.140000343322754,
           10.149999618530273,
           10.140000343322754,
           10.140000343322754,
           10.149999618530273,
           10.130000114440918,
           10.119999885559082,
           10.140000343322754,
           10.140000343322754,
           10.15999984741211,
           10.15999984741211,
           10.15999984741211,
           19.18000030517578,
           10.100000381469727,
           14.949999809265137,
           11.899999618530273
          ],
          [
           11.210000038146973,
           11.140000343322754,
           10.569999694824219,
           10.420000076293945,
           10.460000038146973,
           10.430000305175781,
           10.420000076293945,
           10.40999984741211,
           10.390000343322754,
           10.430000305175781,
           10.380000114440918,
           10.369999885559082,
           10.319999694824219,
           10.319999694824219,
           10.34000015258789,
           10.300000190734863,
           10.289999961853027,
           10.25,
           10.229999542236328,
           10.199999809265137,
           10.149999618530273,
           10.170000076293945,
           10.180000305175781,
           13.630000114440918,
           10.170000076293945,
           10.149999618530273,
           10.170000076293945,
           10.170000076293945,
           10.15999984741211,
           10.1899995803833,
           10.119999885559082,
           10.149999618530273,
           10.170000076293945,
           10.15999984741211,
           10.170000076293945,
           13.270000457763672,
           21.100000381469727,
           22.799999237060547,
           21.459999084472656,
           14.800000190734863
          ]
         ]
        }
       ],
       "layout": {
        "autosize": true,
        "template": {
         "data": {
          "bar": [
           {
            "error_x": {
             "color": "#2a3f5f"
            },
            "error_y": {
             "color": "#2a3f5f"
            },
            "marker": {
             "line": {
              "color": "#E5ECF6",
              "width": 0.5
             }
            },
            "type": "bar"
           }
          ],
          "barpolar": [
           {
            "marker": {
             "line": {
              "color": "#E5ECF6",
              "width": 0.5
             }
            },
            "type": "barpolar"
           }
          ],
          "carpet": [
           {
            "aaxis": {
             "endlinecolor": "#2a3f5f",
             "gridcolor": "white",
             "linecolor": "white",
             "minorgridcolor": "white",
             "startlinecolor": "#2a3f5f"
            },
            "baxis": {
             "endlinecolor": "#2a3f5f",
             "gridcolor": "white",
             "linecolor": "white",
             "minorgridcolor": "white",
             "startlinecolor": "#2a3f5f"
            },
            "type": "carpet"
           }
          ],
          "choropleth": [
           {
            "colorbar": {
             "outlinewidth": 0,
             "ticks": ""
            },
            "type": "choropleth"
           }
          ],
          "contour": [
           {
            "colorbar": {
             "outlinewidth": 0,
             "ticks": ""
            },
            "colorscale": [
             [
              0.0,
              "#0d0887"
             ],
             [
              0.1111111111111111,
              "#46039f"
             ],
             [
              0.2222222222222222,
              "#7201a8"
             ],
             [
              0.3333333333333333,
              "#9c179e"
             ],
             [
              0.4444444444444444,
              "#bd3786"
             ],
             [
              0.5555555555555556,
              "#d8576b"
             ],
             [
              0.6666666666666666,
              "#ed7953"
             ],
             [
              0.7777777777777778,
              "#fb9f3a"
             ],
             [
              0.8888888888888888,
              "#fdca26"
             ],
             [
              1.0,
              "#f0f921"
             ]
            ],
            "type": "contour"
           }
          ],
          "contourcarpet": [
           {
            "colorbar": {
             "outlinewidth": 0,
             "ticks": ""
            },
            "type": "contourcarpet"
           }
          ],
          "heatmap": [
           {
            "colorbar": {
             "outlinewidth": 0,
             "ticks": ""
            },
            "colorscale": [
             [
              0.0,
              "#0d0887"
             ],
             [
              0.1111111111111111,
              "#46039f"
             ],
             [
              0.2222222222222222,
              "#7201a8"
             ],
             [
              0.3333333333333333,
              "#9c179e"
             ],
             [
              0.4444444444444444,
              "#bd3786"
             ],
             [
              0.5555555555555556,
              "#d8576b"
             ],
             [
              0.6666666666666666,
              "#ed7953"
             ],
             [
              0.7777777777777778,
              "#fb9f3a"
             ],
             [
              0.8888888888888888,
              "#fdca26"
             ],
             [
              1.0,
              "#f0f921"
             ]
            ],
            "type": "heatmap"
           }
          ],
          "heatmapgl": [
           {
            "colorbar": {
             "outlinewidth": 0,
             "ticks": ""
            },
            "colorscale": [
             [
              0.0,
              "#0d0887"
             ],
             [
              0.1111111111111111,
              "#46039f"
             ],
             [
              0.2222222222222222,
              "#7201a8"
             ],
             [
              0.3333333333333333,
              "#9c179e"
             ],
             [
              0.4444444444444444,
              "#bd3786"
             ],
             [
              0.5555555555555556,
              "#d8576b"
             ],
             [
              0.6666666666666666,
              "#ed7953"
             ],
             [
              0.7777777777777778,
              "#fb9f3a"
             ],
             [
              0.8888888888888888,
              "#fdca26"
             ],
             [
              1.0,
              "#f0f921"
             ]
            ],
            "type": "heatmapgl"
           }
          ],
          "histogram": [
           {
            "marker": {
             "colorbar": {
              "outlinewidth": 0,
              "ticks": ""
             }
            },
            "type": "histogram"
           }
          ],
          "histogram2d": [
           {
            "colorbar": {
             "outlinewidth": 0,
             "ticks": ""
            },
            "colorscale": [
             [
              0.0,
              "#0d0887"
             ],
             [
              0.1111111111111111,
              "#46039f"
             ],
             [
              0.2222222222222222,
              "#7201a8"
             ],
             [
              0.3333333333333333,
              "#9c179e"
             ],
             [
              0.4444444444444444,
              "#bd3786"
             ],
             [
              0.5555555555555556,
              "#d8576b"
             ],
             [
              0.6666666666666666,
              "#ed7953"
             ],
             [
              0.7777777777777778,
              "#fb9f3a"
             ],
             [
              0.8888888888888888,
              "#fdca26"
             ],
             [
              1.0,
              "#f0f921"
             ]
            ],
            "type": "histogram2d"
           }
          ],
          "histogram2dcontour": [
           {
            "colorbar": {
             "outlinewidth": 0,
             "ticks": ""
            },
            "colorscale": [
             [
              0.0,
              "#0d0887"
             ],
             [
              0.1111111111111111,
              "#46039f"
             ],
             [
              0.2222222222222222,
              "#7201a8"
             ],
             [
              0.3333333333333333,
              "#9c179e"
             ],
             [
              0.4444444444444444,
              "#bd3786"
             ],
             [
              0.5555555555555556,
              "#d8576b"
             ],
             [
              0.6666666666666666,
              "#ed7953"
             ],
             [
              0.7777777777777778,
              "#fb9f3a"
             ],
             [
              0.8888888888888888,
              "#fdca26"
             ],
             [
              1.0,
              "#f0f921"
             ]
            ],
            "type": "histogram2dcontour"
           }
          ],
          "mesh3d": [
           {
            "colorbar": {
             "outlinewidth": 0,
             "ticks": ""
            },
            "type": "mesh3d"
           }
          ],
          "parcoords": [
           {
            "line": {
             "colorbar": {
              "outlinewidth": 0,
              "ticks": ""
             }
            },
            "type": "parcoords"
           }
          ],
          "pie": [
           {
            "automargin": true,
            "type": "pie"
           }
          ],
          "scatter": [
           {
            "marker": {
             "colorbar": {
              "outlinewidth": 0,
              "ticks": ""
             }
            },
            "type": "scatter"
           }
          ],
          "scatter3d": [
           {
            "line": {
             "colorbar": {
              "outlinewidth": 0,
              "ticks": ""
             }
            },
            "marker": {
             "colorbar": {
              "outlinewidth": 0,
              "ticks": ""
             }
            },
            "type": "scatter3d"
           }
          ],
          "scattercarpet": [
           {
            "marker": {
             "colorbar": {
              "outlinewidth": 0,
              "ticks": ""
             }
            },
            "type": "scattercarpet"
           }
          ],
          "scattergeo": [
           {
            "marker": {
             "colorbar": {
              "outlinewidth": 0,
              "ticks": ""
             }
            },
            "type": "scattergeo"
           }
          ],
          "scattergl": [
           {
            "marker": {
             "colorbar": {
              "outlinewidth": 0,
              "ticks": ""
             }
            },
            "type": "scattergl"
           }
          ],
          "scattermapbox": [
           {
            "marker": {
             "colorbar": {
              "outlinewidth": 0,
              "ticks": ""
             }
            },
            "type": "scattermapbox"
           }
          ],
          "scatterpolar": [
           {
            "marker": {
             "colorbar": {
              "outlinewidth": 0,
              "ticks": ""
             }
            },
            "type": "scatterpolar"
           }
          ],
          "scatterpolargl": [
           {
            "marker": {
             "colorbar": {
              "outlinewidth": 0,
              "ticks": ""
             }
            },
            "type": "scatterpolargl"
           }
          ],
          "scatterternary": [
           {
            "marker": {
             "colorbar": {
              "outlinewidth": 0,
              "ticks": ""
             }
            },
            "type": "scatterternary"
           }
          ],
          "surface": [
           {
            "colorbar": {
             "outlinewidth": 0,
             "ticks": ""
            },
            "colorscale": [
             [
              0.0,
              "#0d0887"
             ],
             [
              0.1111111111111111,
              "#46039f"
             ],
             [
              0.2222222222222222,
              "#7201a8"
             ],
             [
              0.3333333333333333,
              "#9c179e"
             ],
             [
              0.4444444444444444,
              "#bd3786"
             ],
             [
              0.5555555555555556,
              "#d8576b"
             ],
             [
              0.6666666666666666,
              "#ed7953"
             ],
             [
              0.7777777777777778,
              "#fb9f3a"
             ],
             [
              0.8888888888888888,
              "#fdca26"
             ],
             [
              1.0,
              "#f0f921"
             ]
            ],
            "type": "surface"
           }
          ],
          "table": [
           {
            "cells": {
             "fill": {
              "color": "#EBF0F8"
             },
             "line": {
              "color": "white"
             }
            },
            "header": {
             "fill": {
              "color": "#C8D4E3"
             },
             "line": {
              "color": "white"
             }
            },
            "type": "table"
           }
          ]
         },
         "layout": {
          "annotationdefaults": {
           "arrowcolor": "#2a3f5f",
           "arrowhead": 0,
           "arrowwidth": 1
          },
          "coloraxis": {
           "colorbar": {
            "outlinewidth": 0,
            "ticks": ""
           }
          },
          "colorscale": {
           "diverging": [
            [
             0,
             "#8e0152"
            ],
            [
             0.1,
             "#c51b7d"
            ],
            [
             0.2,
             "#de77ae"
            ],
            [
             0.3,
             "#f1b6da"
            ],
            [
             0.4,
             "#fde0ef"
            ],
            [
             0.5,
             "#f7f7f7"
            ],
            [
             0.6,
             "#e6f5d0"
            ],
            [
             0.7,
             "#b8e186"
            ],
            [
             0.8,
             "#7fbc41"
            ],
            [
             0.9,
             "#4d9221"
            ],
            [
             1,
             "#276419"
            ]
           ],
           "sequential": [
            [
             0.0,
             "#0d0887"
            ],
            [
             0.1111111111111111,
             "#46039f"
            ],
            [
             0.2222222222222222,
             "#7201a8"
            ],
            [
             0.3333333333333333,
             "#9c179e"
            ],
            [
             0.4444444444444444,
             "#bd3786"
            ],
            [
             0.5555555555555556,
             "#d8576b"
            ],
            [
             0.6666666666666666,
             "#ed7953"
            ],
            [
             0.7777777777777778,
             "#fb9f3a"
            ],
            [
             0.8888888888888888,
             "#fdca26"
            ],
            [
             1.0,
             "#f0f921"
            ]
           ],
           "sequentialminus": [
            [
             0.0,
             "#0d0887"
            ],
            [
             0.1111111111111111,
             "#46039f"
            ],
            [
             0.2222222222222222,
             "#7201a8"
            ],
            [
             0.3333333333333333,
             "#9c179e"
            ],
            [
             0.4444444444444444,
             "#bd3786"
            ],
            [
             0.5555555555555556,
             "#d8576b"
            ],
            [
             0.6666666666666666,
             "#ed7953"
            ],
            [
             0.7777777777777778,
             "#fb9f3a"
            ],
            [
             0.8888888888888888,
             "#fdca26"
            ],
            [
             1.0,
             "#f0f921"
            ]
           ]
          },
          "colorway": [
           "#636efa",
           "#EF553B",
           "#00cc96",
           "#ab63fa",
           "#FFA15A",
           "#19d3f3",
           "#FF6692",
           "#B6E880",
           "#FF97FF",
           "#FECB52"
          ],
          "font": {
           "color": "#2a3f5f"
          },
          "geo": {
           "bgcolor": "white",
           "lakecolor": "white",
           "landcolor": "#E5ECF6",
           "showlakes": true,
           "showland": true,
           "subunitcolor": "white"
          },
          "hoverlabel": {
           "align": "left"
          },
          "hovermode": "closest",
          "mapbox": {
           "style": "light"
          },
          "paper_bgcolor": "white",
          "plot_bgcolor": "#E5ECF6",
          "polar": {
           "angularaxis": {
            "gridcolor": "white",
            "linecolor": "white",
            "ticks": ""
           },
           "bgcolor": "#E5ECF6",
           "radialaxis": {
            "gridcolor": "white",
            "linecolor": "white",
            "ticks": ""
           }
          },
          "scene": {
           "xaxis": {
            "backgroundcolor": "#E5ECF6",
            "gridcolor": "white",
            "gridwidth": 2,
            "linecolor": "white",
            "showbackground": true,
            "ticks": "",
            "zerolinecolor": "white"
           },
           "yaxis": {
            "backgroundcolor": "#E5ECF6",
            "gridcolor": "white",
            "gridwidth": 2,
            "linecolor": "white",
            "showbackground": true,
            "ticks": "",
            "zerolinecolor": "white"
           },
           "zaxis": {
            "backgroundcolor": "#E5ECF6",
            "gridcolor": "white",
            "gridwidth": 2,
            "linecolor": "white",
            "showbackground": true,
            "ticks": "",
            "zerolinecolor": "white"
           }
          },
          "shapedefaults": {
           "line": {
            "color": "#2a3f5f"
           }
          },
          "ternary": {
           "aaxis": {
            "gridcolor": "white",
            "linecolor": "white",
            "ticks": ""
           },
           "baxis": {
            "gridcolor": "white",
            "linecolor": "white",
            "ticks": ""
           },
           "bgcolor": "#E5ECF6",
           "caxis": {
            "gridcolor": "white",
            "linecolor": "white",
            "ticks": ""
           }
          },
          "title": {
           "x": 0.05
          },
          "xaxis": {
           "automargin": true,
           "gridcolor": "white",
           "linecolor": "white",
           "ticks": "",
           "title": {
            "standoff": 15
           },
           "zerolinecolor": "white",
           "zerolinewidth": 2
          },
          "yaxis": {
           "automargin": true,
           "gridcolor": "white",
           "linecolor": "white",
           "ticks": "",
           "title": {
            "standoff": 15
           },
           "zerolinecolor": "white",
           "zerolinewidth": 2
          }
         }
        },
        "title": {
         "text": "Speelhof 86"
        }
       }
      },
      "text/html": "<div>                            <div id=\"934c6f0b-bd9e-4b06-914a-e964c3eab550\" class=\"plotly-graph-div\" style=\"height:525px; width:100%;\"></div>            <script type=\"text/javascript\">                require([\"plotly\"], function(Plotly) {                    window.PLOTLYENV=window.PLOTLYENV || {};                                    if (document.getElementById(\"934c6f0b-bd9e-4b06-914a-e964c3eab550\")) {                    Plotly.newPlot(                        \"934c6f0b-bd9e-4b06-914a-e964c3eab550\",                        [{\"type\": \"surface\", \"z\": [[10.270000457763672, 10.279999732971191, 10.300000190734863, 10.3100004196167, 10.319999694824219, 10.3100004196167, 10.3100004196167, 10.380000114440918, 10.350000381469727, 10.380000114440918, 10.380000114440918, 10.380000114440918, 10.369999885559082, 10.369999885559082, 10.359999656677246, 10.329999923706055, 10.319999694824219, 10.300000190734863, 12.539999961853027, 13.430000305175781, 19.65999984741211, 17.110000610351562, 15.699999809265137, 10.010000228881836, 12.149999618530273, 18.139999389648438, 15.119999885559082, 15.010000228881836, 14.020000457763672, 15.180000305175781, 13.300000190734863, 12.119999885559082, 10.9399995803833, 10.140000343322754, 10.020000457763672, 10.0, 10.569999694824219, 11.760000228881836, 10.079999923706055, 10.0], [10.279999732971191, 10.289999961853027, 10.289999961853027, 10.319999694824219, 10.300000190734863, 10.3100004196167, 10.3100004196167, 11.460000038146973, 10.329999923706055, 10.369999885559082, 10.369999885559082, 10.369999885559082, 10.369999885559082, 10.380000114440918, 10.350000381469727, 10.329999923706055, 11.630000114440918, 12.5600004196167, 12.260000228881836, 11.369999885559082, 15.239999771118164, 13.770000457763672, 13.3100004196167, 10.010000228881836, 10.010000228881836, 11.470000267028809, 14.600000381469727, 14.350000381469727, 14.529999732971191, 14.329999923706055, 12.460000038146973, 12.130000114440918, 10.84000015258789, 10.829999923706055, 10.029999732971191, 10.0, 10.770000457763672, 11.5, 10.550000190734863, 10.029999732971191], [11.210000038146973, 10.3100004196167, 10.300000190734863, 10.34000015258789, 10.329999923706055, 10.34000015258789, 10.34000015258789, 11.449999809265137, 11.359999656677246, 10.369999885559082, 10.390000343322754, 10.380000114440918, 10.390000343322754, 10.359999656677246, 10.359999656677246, 10.380000114440918, 10.84000015258789, 10.819999694824219, 10.289999961853027, 11.029999732971191, 11.050000190734863, 10.979999542236328, 10.789999961853027, 10.630000114440918, 10.069999694824219, 12.630000114440918, 13.819999694824219, 13.779999732971191, 14.850000381469727, 14.449999809265137, 12.199999809265137, 12.130000114440918, 10.449999809265137, 10.09000015258789, 10.029999732971191, 10.020000457763672, 10.25, 11.5, 11.220000267028809, 10.0], [10.430000305175781, 10.3100004196167, 10.3100004196167, 10.329999923706055, 10.34000015258789, 10.329999923706055, 10.34000015258789, 10.399999618530273, 10.390000343322754, 10.359999656677246, 10.40999984741211, 10.399999618530273, 10.380000114440918, 10.350000381469727, 10.329999923706055, 10.34000015258789, 10.529999732971191, 10.390000343322754, 12.579999923706055, 11.020000457763672, 11.020000457763672, 10.970000267028809, 10.649999618530273, 10.0600004196167, 10.010000228881836, 10.029999732971191, 10.039999961853027, 13.710000038146973, 13.529999732971191, 13.369999885559082, 12.239999771118164, 12.149999618530273, 12.100000381469727, 10.069999694824219, 11.270000457763672, 12.390000343322754, 10.029999732971191, 11.449999809265137, 9.970000267028809, 10.260000228881836], [10.369999885559082, 10.369999885559082, 10.34000015258789, 10.369999885559082, 10.489999771118164, 10.329999923706055, 10.34000015258789, 10.399999618530273, 10.380000114440918, 10.399999618530273, 10.390000343322754, 10.390000343322754, 10.390000343322754, 10.359999656677246, 10.369999885559082, 10.369999885559082, 10.369999885559082, 10.390000343322754, 11.3100004196167, 10.649999618530273, 11.640000343322754, 11.619999885559082, 10.079999923706055, 10.09000015258789, 10.0600004196167, 10.050000190734863, 10.0600004196167, 13.359999656677246, 13.640000343322754, 13.8100004196167, 12.260000228881836, 12.220000267028809, 12.09000015258789, 10.079999923706055, 12.510000228881836, 12.270000457763672, 12.329999923706055, 11.529999732971191, 10.859999656677246, 10.640000343322754], [10.359999656677246, 10.390000343322754, 10.350000381469727, 10.359999656677246, 10.34000015258789, 10.329999923706055, 10.329999923706055, 10.359999656677246, 10.390000343322754, 10.390000343322754, 10.369999885559082, 10.369999885559082, 10.390000343322754, 10.359999656677246, 10.329999923706055, 10.380000114440918, 10.359999656677246, 10.369999885559082, 10.390000343322754, 10.210000038146973, 10.380000114440918, 10.229999542236328, 10.529999732971191, 10.079999923706055, 10.050000190734863, 10.079999923706055, 10.0600004196167, 12.420000076293945, 12.260000228881836, 13.3100004196167, 12.289999961853027, 12.170000076293945, 12.119999885559082, 10.079999923706055, 10.130000114440918, 13.109999656677246, 13.25, 11.5600004196167, 10.949999809265137, 10.739999771118164], [10.4399995803833, 10.420000076293945, 10.390000343322754, 10.380000114440918, 10.350000381469727, 10.34000015258789, 10.359999656677246, 10.359999656677246, 10.880000114440918, 10.380000114440918, 13.0600004196167, 10.390000343322754, 10.40999984741211, 10.380000114440918, 10.34000015258789, 10.369999885559082, 10.890000343322754, 12.0600004196167, 13.199999809265137, 10.270000457763672, 11.699999809265137, 12.59000015258789, 10.199999809265137, 10.09000015258789, 10.079999923706055, 10.069999694824219, 10.09000015258789, 10.84000015258789, 11.1899995803833, 12.760000228881836, 12.199999809265137, 12.210000038146973, 12.140000343322754, 10.09000015258789, 10.1899995803833, 10.100000381469727, 10.119999885559082, 11.210000038146973, 11.59000015258789, 10.0600004196167], [11.170000076293945, 10.40999984741211, 10.420000076293945, 10.399999618530273, 10.359999656677246, 10.359999656677246, 10.380000114440918, 10.369999885559082, 12.970000267028809, 12.25, 14.84000015258789, 13.569999694824219, 10.640000343322754, 10.90999984741211, 10.369999885559082, 11.850000381469727, 13.100000381469727, 13.069999694824219, 13.09000015258789, 13.0600004196167, 12.829999923706055, 12.579999923706055, 11.819999694824219, 10.100000381469727, 10.140000343322754, 10.100000381469727, 10.149999618530273, 10.90999984741211, 11.550000190734863, 11.9399995803833, 12.449999809265137, 12.229999542236328, 12.180000305175781, 10.8100004196167, 10.180000305175781, 10.140000343322754, 11.529999732971191, 10.890000343322754, 11.550000190734863, 10.15999984741211], [11.800000190734863, 10.420000076293945, 10.420000076293945, 10.420000076293945, 10.420000076293945, 10.380000114440918, 10.390000343322754, 10.390000343322754, 11.069999694824219, 15.020000457763672, 16.1299991607666, 14.3100004196167, 13.949999809265137, 13.109999656677246, 10.380000114440918, 10.420000076293945, 13.100000381469727, 13.15999984741211, 13.119999885559082, 13.180000305175781, 12.829999923706055, 12.609999656677246, 11.680000305175781, 10.15999984741211, 10.149999618530273, 10.140000343322754, 10.180000305175781, 10.180000305175781, 10.220000267028809, 11.170000076293945, 12.279999732971191, 12.770000457763672, 12.829999923706055, 12.619999885559082, 10.279999732971191, 10.220000267028809, 11.239999771118164, 12.229999542236328, 12.350000381469727, 10.729999542236328], [12.710000038146973, 10.720000267028809, 10.430000305175781, 10.420000076293945, 10.430000305175781, 10.40999984741211, 10.399999618530273, 10.40999984741211, 12.109999656677246, 15.0600004196167, 14.579999923706055, 14.850000381469727, 12.75, 15.380000114440918, 10.399999618530273, 10.430000305175781, 13.069999694824219, 13.199999809265137, 13.180000305175781, 13.1899995803833, 12.90999984741211, 12.640000343322754, 12.4399995803833, 10.239999771118164, 10.229999542236328, 10.199999809265137, 10.210000038146973, 10.239999771118164, 10.229999542236328, 10.260000228881836, 12.380000114440918, 13.069999694824219, 12.90999984741211, 12.680000305175781, 10.300000190734863, 10.25, 10.260000228881836, 12.260000228881836, 12.319999694824219, 10.40999984741211], [12.850000381469727, 10.890000343322754, 10.4399995803833, 10.4399995803833, 10.449999809265137, 10.430000305175781, 10.420000076293945, 10.4399995803833, 12.489999771118164, 13.380000114440918, 13.970000267028809, 15.6899995803833, 14.630000114440918, 11.569999694824219, 10.829999923706055, 10.420000076293945, 13.100000381469727, 13.170000076293945, 13.149999618530273, 13.119999885559082, 12.979999542236328, 12.699999809265137, 12.520000457763672, 10.359999656677246, 10.300000190734863, 10.239999771118164, 10.239999771118164, 10.300000190734863, 10.260000228881836, 10.279999732971191, 11.369999885559082, 13.100000381469727, 12.920000076293945, 12.720000267028809, 10.300000190734863, 10.260000228881836, 10.260000228881836, 11.359999656677246, 12.34000015258789, 10.449999809265137], [12.930000305175781, 11.779999732971191, 10.449999809265137, 10.619999885559082, 10.899999618530273, 10.760000228881836, 10.460000038146973, 10.489999771118164, 13.539999961853027, 12.470000267028809, 12.90999984741211, 15.5, 12.84000015258789, 10.470000267028809, 10.40999984741211, 10.449999809265137, 11.520000457763672, 13.050000190734863, 13.149999618530273, 13.100000381469727, 13.029999732971191, 12.770000457763672, 12.569999694824219, 10.289999961853027, 10.380000114440918, 10.3100004196167, 10.289999961853027, 10.300000190734863, 10.289999961853027, 10.300000190734863, 10.390000343322754, 13.199999809265137, 12.9399995803833, 12.760000228881836, 10.3100004196167, 10.34000015258789, 10.329999923706055, 11.15999984741211, 12.319999694824219, 13.460000038146973], [14.520000457763672, 13.430000305175781, 10.479999542236328, 10.470000267028809, 10.470000267028809, 10.470000267028809, 11.0600004196167, 10.470000267028809, 10.5, 10.680000305175781, 11.779999732971191, 13.170000076293945, 10.4399995803833, 10.460000038146973, 10.420000076293945, 11.4399995803833, 12.050000190734863, 13.039999961853027, 12.420000076293945, 12.140000343322754, 13.25, 13.279999732971191, 13.220000267028809, 13.140000343322754, 10.380000114440918, 10.359999656677246, 10.329999923706055, 10.34000015258789, 10.359999656677246, 10.3100004196167, 10.329999923706055, 13.1899995803833, 12.960000038146973, 12.800000190734863, 12.210000038146973, 10.289999961853027, 10.300000190734863, 10.289999961853027, 12.270000457763672, 13.199999809265137], [14.65999984741211, 13.630000114440918, 10.479999542236328, 10.489999771118164, 10.479999542236328, 10.479999542236328, 10.520000457763672, 10.479999542236328, 10.520000457763672, 10.569999694824219, 10.479999542236328, 10.460000038146973, 10.449999809265137, 10.470000267028809, 10.449999809265137, 10.420000076293945, 10.449999809265137, 10.4399995803833, 10.40999984741211, 10.420000076293945, 13.34000015258789, 13.09000015258789, 13.100000381469727, 13.119999885559082, 11.039999961853027, 10.430000305175781, 10.369999885559082, 10.359999656677246, 11.180000305175781, 10.380000114440918, 10.350000381469727, 13.1899995803833, 12.979999542236328, 12.8100004196167, 12.050000190734863, 10.289999961853027, 10.3100004196167, 10.289999961853027, 12.260000228881836, 12.40999984741211], [14.880000114440918, 13.829999923706055, 11.380000114440918, 10.5, 10.479999542236328, 10.479999542236328, 10.489999771118164, 10.489999771118164, 10.489999771118164, 10.979999542236328, 10.470000267028809, 10.4399995803833, 10.4399995803833, 10.449999809265137, 10.460000038146973, 10.430000305175781, 10.460000038146973, 10.430000305175781, 10.420000076293945, 10.40999984741211, 12.699999809265137, 13.100000381469727, 13.100000381469727, 13.109999656677246, 13.270000457763672, 10.430000305175781, 10.390000343322754, 10.359999656677246, 10.930000305175781, 10.399999618530273, 10.359999656677246, 13.170000076293945, 13.039999961853027, 12.84000015258789, 12.649999618530273, 10.300000190734863, 10.289999961853027, 10.449999809265137, 11.039999961853027, 12.260000228881836], [14.989999771118164, 13.979999542236328, 10.489999771118164, 10.5, 10.489999771118164, 10.489999771118164, 10.5, 10.479999542236328, 10.609999656677246, 12.390000343322754, 10.40999984741211, 10.470000267028809, 10.460000038146973, 10.470000267028809, 10.4399995803833, 10.470000267028809, 10.460000038146973, 10.399999618530273, 10.430000305175781, 10.399999618530273, 10.579999923706055, 13.109999656677246, 13.069999694824219, 13.100000381469727, 13.1899995803833, 10.34000015258789, 10.399999618530273, 10.430000305175781, 10.34000015258789, 10.350000381469727, 11.09000015258789, 11.4399995803833, 13.100000381469727, 12.90999984741211, 12.6899995803833, 12.0, 12.680000305175781, 12.720000267028809, 12.739999771118164, 12.779999732971191], [15.0, 14.149999618530273, 13.119999885559082, 10.5, 10.489999771118164, 10.510000228881836, 10.489999771118164, 10.510000228881836, 10.989999771118164, 10.859999656677246, 10.680000305175781, 10.489999771118164, 10.479999542236328, 10.4399995803833, 10.479999542236328, 10.479999542236328, 10.470000267028809, 12.130000114440918, 10.40999984741211, 10.390000343322754, 10.960000038146973, 13.079999923706055, 13.0600004196167, 13.0600004196167, 13.09000015258789, 10.399999618530273, 10.359999656677246, 10.359999656677246, 10.329999923706055, 10.350000381469727, 10.359999656677246, 13.779999732971191, 13.09000015258789, 12.90999984741211, 12.720000267028809, 12.800000190734863, 12.819999694824219, 12.84000015258789, 12.850000381469727, 12.850000381469727], [14.84000015258789, 14.329999923706055, 13.3100004196167, 10.529999732971191, 10.510000228881836, 10.529999732971191, 10.520000457763672, 10.529999732971191, 10.510000228881836, 10.670000076293945, 10.470000267028809, 10.489999771118164, 10.470000267028809, 10.479999542236328, 10.479999542236328, 10.449999809265137, 10.470000267028809, 12.4399995803833, 10.399999618530273, 10.399999618530273, 10.390000343322754, 13.130000114440918, 13.109999656677246, 13.09000015258789, 13.079999923706055, 12.029999732971191, 14.84000015258789, 12.680000305175781, 14.319999694824219, 15.850000381469727, 16.15999984741211, 16.270000457763672, 13.300000190734863, 12.9399995803833, 12.760000228881836, 13.529999732971191, 13.25, 13.6899995803833, 15.890000343322754, 16.100000381469727], [14.619999885559082, 14.510000228881836, 13.510000228881836, 10.979999542236328, 10.5, 10.510000228881836, 12.920000076293945, 13.229999542236328, 13.289999961853027, 13.300000190734863, 10.470000267028809, 10.479999542236328, 10.489999771118164, 11.020000457763672, 13.680000305175781, 14.020000457763672, 14.270000457763672, 14.34000015258789, 10.390000343322754, 10.40999984741211, 10.390000343322754, 13.239999771118164, 13.100000381469727, 13.029999732971191, 13.0600004196167, 16.239999771118164, 14.680000305175781, 16.440000534057617, 16.549999237060547, 16.6299991607666, 16.709999084472656, 16.850000381469727, 15.15999984741211, 16.020000457763672, 16.209999084472656, 16.3799991607666, 16.5, 16.739999771118164, 16.799999237060547, 16.940000534057617], [14.010000228881836, 13.779999732971191, 13.649999618530273, 10.779999732971191, 12.020000457763672, 13.3100004196167, 13.319999694824219, 13.329999923706055, 13.3100004196167, 13.350000381469727, 13.59000015258789, 13.539999961853027, 13.5600004196167, 13.520000457763672, 14.609999656677246, 14.710000038146973, 14.829999923706055, 14.949999809265137, 14.600000381469727, 10.390000343322754, 10.399999618530273, 13.319999694824219, 13.079999923706055, 13.079999923706055, 13.119999885559082, 16.81999969482422, 16.920000076293945, 17.040000915527344, 17.110000610351562, 17.190000534057617, 17.299999237060547, 17.399999618530273, 17.510000228881836, 16.90999984741211, 17.049999237060547, 17.239999771118164, 19.170000076293945, 17.520000457763672, 17.690000534057617, 17.809999465942383], [11.75, 10.579999923706055, 10.579999923706055, 13.109999656677246, 13.3100004196167, 13.329999923706055, 13.319999694824219, 13.350000381469727, 13.319999694824219, 13.380000114440918, 13.819999694824219, 13.529999732971191, 13.59000015258789, 13.59000015258789, 13.579999923706055, 15.34000015258789, 15.449999809265137, 15.59000015258789, 15.699999809265137, 10.40999984741211, 10.390000343322754, 13.670000076293945, 13.739999771118164, 11.40999984741211, 10.460000038146973, 17.40999984741211, 17.459999084472656, 16.520000457763672, 17.65999984741211, 17.75, 17.520000457763672, 17.969999313354492, 18.06999969482422, 17.770000457763672, 17.93000030517578, 18.110000610351562, 18.270000457763672, 18.420000076293945, 18.579999923706055, 18.739999771118164], [10.539999961853027, 10.550000190734863, 10.550000190734863, 12.949999809265137, 13.359999656677246, 13.390000343322754, 13.359999656677246, 13.359999656677246, 13.369999885559082, 13.369999885559082, 14.489999771118164, 13.819999694824219, 13.84000015258789, 13.920000076293945, 13.899999618530273, 15.949999809265137, 16.100000381469727, 16.200000762939453, 16.31999969482422, 10.399999618530273, 10.84000015258789, 14.850000381469727, 15.020000457763672, 11.760000228881836, 10.399999618530273, 18.020000457763672, 18.049999237060547, 17.649999618530273, 18.239999771118164, 18.290000915527344, 18.40999984741211, 18.549999237060547, 18.65999984741211, 18.690000534057617, 18.829999923706055, 18.889999389648438, 18.969999313354492, 18.809999465942383, 18.68000030517578, 18.540000915527344], [10.569999694824219, 11.100000381469727, 10.539999961853027, 11.289999961853027, 13.40999984741211, 13.09000015258789, 13.539999961853027, 13.569999694824219, 13.619999885559082, 12.170000076293945, 13.729999542236328, 14.34000015258789, 16.209999084472656, 16.43000030517578, 16.5, 16.59000015258789, 16.709999084472656, 16.829999923706055, 16.93000030517578, 10.390000343322754, 14.850000381469727, 11.760000228881836, 15.670000076293945, 12.0, 11.220000267028809, 15.520000457763672, 18.639999389648438, 18.729999542236328, 18.81999969482422, 18.920000076293945, 18.969999313354492, 18.81999969482422, 18.690000534057617, 18.670000076293945, 18.549999237060547, 18.420000076293945, 18.309999465942383, 18.219999313354492, 18.049999237060547, 17.969999313354492], [10.550000190734863, 11.300000190734863, 11.220000267028809, 10.550000190734863, 13.680000305175781, 15.069999694824219, 15.34000015258789, 15.609999656677246, 16.469999313354492, 16.540000915527344, 16.670000076293945, 16.770000457763672, 16.8799991607666, 17.0, 17.110000610351562, 17.229999542236328, 17.34000015258789, 16.90999984741211, 17.559999465942383, 10.369999885559082, 14.890000343322754, 15.449999809265137, 15.739999771118164, 15.460000038146973, 11.869999885559082, 12.010000228881836, 18.829999923706055, 18.670000076293945, 18.43000030517578, 18.450000762939453, 18.350000381469727, 18.239999771118164, 18.049999237060547, 18.06999969482422, 17.959999084472656, 17.809999465942383, 17.739999771118164, 17.65999984741211, 17.489999771118164, 17.40999984741211], [10.529999732971191, 12.170000076293945, 11.6899995803833, 10.550000190734863, 16.6200008392334, 14.760000228881836, 16.81999969482422, 16.93000030517578, 17.06999969482422, 17.15999984741211, 17.280000686645508, 17.389999389648438, 17.489999771118164, 16.040000915527344, 17.729999542236328, 17.829999923706055, 17.979999542236328, 18.06999969482422, 18.200000762939453, 10.960000038146973, 13.739999771118164, 12.699999809265137, 14.979999542236328, 14.300000190734863, 11.899999618530273, 13.84000015258789, 18.270000457763672, 18.100000381469727, 19.329999923706055, 18.600000381469727, 17.700000762939453, 17.670000076293945, 17.520000457763672, 17.469999313354492, 17.360000610351562, 17.280000686645508, 17.079999923706055, 17.059999465942383, 16.950000762939453, 16.809999465942383], [10.510000228881836, 11.260000228881836, 12.0600004196167, 10.529999732971191, 16.1299991607666, 17.329999923706055, 17.59000015258789, 17.549999237060547, 17.649999618530273, 17.790000915527344, 17.90999984741211, 18.030000686645508, 18.1200008392334, 18.219999313354492, 18.34000015258789, 18.469999313354492, 18.579999923706055, 18.719999313354492, 18.81999969482422, 15.510000228881836, 10.420000076293945, 12.109999656677246, 14.319999694824219, 14.850000381469727, 12.109999656677246, 11.850000381469727, 17.65999984741211, 17.530000686645508, 17.399999618530273, 17.31999969482422, 17.229999542236328, 17.030000686645508, 16.950000762939453, 16.8700008392334, 16.790000915527344, 16.649999618530273, 16.520000457763672, 16.489999771118164, 16.360000610351562, 16.260000228881836], [11.029999732971191, 10.529999732971191, 10.510000228881836, 10.520000457763672, 17.8700008392334, 17.950000762939453, 18.15999984741211, 18.18000030517578, 18.280000686645508, 18.399999618530273, 18.510000228881836, 18.799999237060547, 18.75, 18.850000381469727, 18.959999084472656, 19.1200008392334, 19.170000076293945, 19.030000686645508, 18.93000030517578, 18.780000686645508, 10.369999885559082, 12.75, 14.710000038146973, 13.899999618530273, 12.149999618530273, 10.359999656677246, 17.100000381469727, 16.979999542236328, 16.850000381469727, 16.75, 16.65999984741211, 16.540000915527344, 16.399999618530273, 16.329999923706055, 16.219999313354492, 16.139999389648438, 15.930000305175781, 15.859999656677246, 15.800000190734863, 16.110000610351562], [10.529999732971191, 10.539999961853027, 10.529999732971191, 10.529999732971191, 15.210000038146973, 18.59000015258789, 18.700000762939453, 18.829999923706055, 18.899999618530273, 19.049999237060547, 19.139999389648438, 19.079999923706055, 19.0, 18.809999465942383, 18.739999771118164, 18.65999984741211, 18.5, 18.399999618530273, 18.31999969482422, 18.190000534057617, 10.380000114440918, 10.399999618530273, 14.720000267028809, 12.800000190734863, 10.350000381469727, 10.350000381469727, 13.880000114440918, 16.440000534057617, 16.290000915527344, 16.200000762939453, 16.100000381469727, 15.600000381469727, 15.800000190734863, 13.970000267028809, 10.319999694824219, 10.34000015258789, 12.470000267028809, 11.380000114440918, 17.8799991607666, 18.139999389648438], [10.5600004196167, 10.520000457763672, 10.529999732971191, 10.520000457763672, 16.079999923706055, 19.229999542236328, 19.049999237060547, 18.93000030517578, 18.809999465942383, 18.700000762939453, 18.559999465942383, 18.469999313354492, 18.389999389648438, 18.200000762939453, 18.1299991607666, 18.040000915527344, 17.940000534057617, 17.84000015258789, 17.040000915527344, 17.549999237060547, 10.359999656677246, 10.399999618530273, 13.699999809265137, 13.359999656677246, 11.329999923706055, 10.34000015258789, 15.319999694824219, 12.119999885559082, 14.220000267028809, 15.460000038146973, 13.4399995803833, 11.359999656677246, 10.359999656677246, 10.369999885559082, 11.279999732971191, 10.319999694824219, 11.5, 16.440000534057617, 19.829999923706055, 21.850000381469727], [11.430000305175781, 10.489999771118164, 10.489999771118164, 10.489999771118164, 10.640000343322754, 18.56999969482422, 18.459999084472656, 18.329999923706055, 18.209999084472656, 18.100000381469727, 18.049999237060547, 17.860000610351562, 17.739999771118164, 17.6299991607666, 16.760000228881836, 17.389999389648438, 17.280000686645508, 17.190000534057617, 17.100000381469727, 16.979999542236328, 10.380000114440918, 11.319999694824219, 14.359999656677246, 15.40999984741211, 14.220000267028809, 10.609999656677246, 10.350000381469727, 10.399999618530273, 10.90999984741211, 12.819999694824219, 14.029999732971191, 10.40999984741211, 11.319999694824219, 11.619999885559082, 11.029999732971191, 10.319999694824219, 15.170000076293945, 14.579999923706055, 21.079999923706055, 22.190000534057617], [12.199999809265137, 10.520000457763672, 10.489999771118164, 10.489999771118164, 11.630000114440918, 17.950000762939453, 17.829999923706055, 17.799999237060547, 17.600000381469727, 17.489999771118164, 17.34000015258789, 17.25, 17.110000610351562, 17.049999237060547, 16.920000076293945, 16.799999237060547, 16.68000030517578, 16.610000610351562, 16.440000534057617, 14.770000457763672, 12.329999923706055, 10.789999961853027, 14.279999732971191, 14.75, 14.649999618530273, 10.329999923706055, 10.3100004196167, 10.550000190734863, 13.829999923706055, 16.420000076293945, 15.770000457763672, 12.460000038146973, 10.430000305175781, 11.75, 11.140000343322754, 10.300000190734863, 17.780000686645508, 19.239999771118164, 22.200000762939453, 22.040000915527344], [12.199999809265137, 10.489999771118164, 10.489999771118164, 10.479999542236328, 10.510000228881836, 17.350000381469727, 17.190000534057617, 17.079999923706055, 16.969999313354492, 16.8799991607666, 16.739999771118164, 16.6299991607666, 16.530000686645508, 16.43000030517578, 14.359999656677246, 13.850000381469727, 10.609999656677246, 10.569999694824219, 10.699999809265137, 10.75, 10.329999923706055, 11.359999656677246, 12.789999961853027, 14.109999656677246, 13.510000228881836, 10.300000190734863, 10.25, 15.829999923706055, 14.9399995803833, 16.5, 17.1299991607666, 14.109999656677246, 11.380000114440918, 11.880000114440918, 10.180000305175781, 11.100000381469727, 13.220000267028809, 19.59000015258789, 21.309999465942383, 22.040000915527344], [11.6899995803833, 10.510000228881836, 10.479999542236328, 10.489999771118164, 10.520000457763672, 14.020000457763672, 16.579999923706055, 16.489999771118164, 14.020000457763672, 14.100000381469727, 16.239999771118164, 12.350000381469727, 11.149999618530273, 11.390000343322754, 10.960000038146973, 10.979999542236328, 10.460000038146973, 10.380000114440918, 12.4399995803833, 10.569999694824219, 10.329999923706055, 11.5, 11.65999984741211, 11.779999732971191, 10.569999694824219, 10.25, 10.229999542236328, 10.289999961853027, 13.380000114440918, 16.760000228881836, 16.989999771118164, 14.90999984741211, 13.039999961853027, 11.8100004196167, 10.199999809265137, 10.270000457763672, 10.40999984741211, 13.369999885559082, 19.65999984741211, 18.799999237060547], [11.119999885559082, 10.59000015258789, 10.479999542236328, 10.489999771118164, 10.470000267028809, 13.75, 12.699999809265137, 13.079999923706055, 10.510000228881836, 10.630000114440918, 10.649999618530273, 10.470000267028809, 10.5600004196167, 11.59000015258789, 11.15999984741211, 10.760000228881836, 10.359999656677246, 10.390000343322754, 12.149999618530273, 11.020000457763672, 10.319999694824219, 11.479999542236328, 13.359999656677246, 13.869999885559082, 13.050000190734863, 12.609999656677246, 10.25, 10.25, 15.850000381469727, 15.979999542236328, 16.760000228881836, 15.109999656677246, 10.420000076293945, 10.649999618530273, 11.239999771118164, 10.289999961853027, 10.289999961853027, 11.460000038146973, 15.130000114440918, 16.610000610351562], [10.569999694824219, 10.5600004196167, 10.479999542236328, 10.479999542236328, 10.460000038146973, 10.4399995803833, 11.149999618530273, 10.520000457763672, 10.520000457763672, 10.550000190734863, 10.510000228881836, 10.470000267028809, 10.470000267028809, 11.680000305175781, 10.84000015258789, 10.779999732971191, 10.319999694824219, 10.65999984741211, 10.930000305175781, 10.670000076293945, 10.289999961853027, 10.329999923706055, 12.229999542236328, 14.0600004196167, 14.239999771118164, 12.069999694824219, 10.229999542236328, 10.25, 10.529999732971191, 15.0, 15.399999618530273, 10.34000015258789, 10.239999771118164, 11.510000228881836, 11.390000343322754, 10.699999809265137, 10.279999732971191, 10.800000190734863, 13.760000228881836, 13.520000457763672], [10.550000190734863, 10.520000457763672, 10.489999771118164, 10.479999542236328, 10.460000038146973, 10.470000267028809, 11.420000076293945, 11.550000190734863, 10.510000228881836, 11.479999542236328, 10.5, 10.4399995803833, 10.4399995803833, 11.729999542236328, 10.550000190734863, 10.3100004196167, 10.829999923706055, 10.920000076293945, 11.350000381469727, 10.970000267028809, 10.300000190734863, 10.279999732971191, 11.600000381469727, 13.430000305175781, 11.770000457763672, 10.239999771118164, 10.260000228881836, 10.239999771118164, 10.5, 11.109999656677246, 11.270000457763672, 11.630000114440918, 10.770000457763672, 10.3100004196167, 10.270000457763672, 10.229999542236328, 10.25, 10.210000038146973, 14.199999809265137, 16.520000457763672], [12.260000228881836, 10.489999771118164, 10.460000038146973, 10.479999542236328, 10.460000038146973, 10.430000305175781, 11.59000015258789, 11.84000015258789, 10.5, 10.520000457763672, 10.529999732971191, 10.430000305175781, 10.40999984741211, 11.6899995803833, 10.359999656677246, 11.25, 10.75, 10.890000343322754, 11.399999618530273, 11.329999923706055, 10.300000190734863, 10.25, 10.260000228881836, 10.25, 10.270000457763672, 10.260000228881836, 10.25, 10.1899995803833, 10.239999771118164, 10.239999771118164, 10.239999771118164, 10.25, 10.229999542236328, 10.220000267028809, 10.220000267028809, 10.09000015258789, 10.09000015258789, 10.550000190734863, 20.420000076293945, 19.3799991607666], [12.270000457763672, 11.529999732971191, 10.449999809265137, 10.449999809265137, 10.449999809265137, 10.4399995803833, 11.079999923706055, 11.899999618530273, 10.510000228881836, 10.729999542236328, 10.520000457763672, 10.470000267028809, 10.390000343322754, 11.569999694824219, 10.630000114440918, 10.369999885559082, 10.300000190734863, 10.460000038146973, 11.170000076293945, 10.859999656677246, 10.720000267028809, 10.229999542236328, 10.229999542236328, 10.210000038146973, 10.199999809265137, 10.15999984741211, 10.170000076293945, 10.149999618530273, 10.130000114440918, 10.170000076293945, 10.09000015258789, 10.130000114440918, 10.100000381469727, 10.119999885559082, 10.109999656677246, 10.100000381469727, 15.710000038146973, 20.920000076293945, 20.229999542236328, 19.34000015258789], [11.699999809265137, 10.520000457763672, 10.529999732971191, 10.420000076293945, 10.4399995803833, 10.4399995803833, 10.399999618530273, 11.399999618530273, 10.430000305175781, 10.489999771118164, 10.470000267028809, 10.420000076293945, 10.369999885559082, 10.510000228881836, 11.130000114440918, 10.880000114440918, 10.380000114440918, 10.3100004196167, 10.279999732971191, 10.279999732971191, 10.239999771118164, 10.15999984741211, 10.170000076293945, 10.140000343322754, 10.140000343322754, 10.149999618530273, 10.140000343322754, 10.140000343322754, 10.149999618530273, 10.130000114440918, 10.119999885559082, 10.140000343322754, 10.140000343322754, 10.15999984741211, 10.15999984741211, 10.15999984741211, 19.18000030517578, 10.100000381469727, 14.949999809265137, 11.899999618530273], [11.210000038146973, 11.140000343322754, 10.569999694824219, 10.420000076293945, 10.460000038146973, 10.430000305175781, 10.420000076293945, 10.40999984741211, 10.390000343322754, 10.430000305175781, 10.380000114440918, 10.369999885559082, 10.319999694824219, 10.319999694824219, 10.34000015258789, 10.300000190734863, 10.289999961853027, 10.25, 10.229999542236328, 10.199999809265137, 10.149999618530273, 10.170000076293945, 10.180000305175781, 13.630000114440918, 10.170000076293945, 10.149999618530273, 10.170000076293945, 10.170000076293945, 10.15999984741211, 10.1899995803833, 10.119999885559082, 10.149999618530273, 10.170000076293945, 10.15999984741211, 10.170000076293945, 13.270000457763672, 21.100000381469727, 22.799999237060547, 21.459999084472656, 14.800000190734863]]}],                        {\"autosize\": true, \"template\": {\"data\": {\"bar\": [{\"error_x\": {\"color\": \"#2a3f5f\"}, \"error_y\": {\"color\": \"#2a3f5f\"}, \"marker\": {\"line\": {\"color\": \"#E5ECF6\", \"width\": 0.5}}, \"type\": \"bar\"}], \"barpolar\": [{\"marker\": {\"line\": {\"color\": \"#E5ECF6\", \"width\": 0.5}}, \"type\": \"barpolar\"}], \"carpet\": [{\"aaxis\": {\"endlinecolor\": \"#2a3f5f\", \"gridcolor\": \"white\", \"linecolor\": \"white\", \"minorgridcolor\": \"white\", \"startlinecolor\": \"#2a3f5f\"}, \"baxis\": {\"endlinecolor\": \"#2a3f5f\", \"gridcolor\": \"white\", \"linecolor\": \"white\", \"minorgridcolor\": \"white\", \"startlinecolor\": \"#2a3f5f\"}, \"type\": \"carpet\"}], \"choropleth\": [{\"colorbar\": {\"outlinewidth\": 0, \"ticks\": \"\"}, \"type\": \"choropleth\"}], \"contour\": [{\"colorbar\": {\"outlinewidth\": 0, \"ticks\": \"\"}, \"colorscale\": [[0.0, \"#0d0887\"], [0.1111111111111111, \"#46039f\"], [0.2222222222222222, \"#7201a8\"], [0.3333333333333333, \"#9c179e\"], [0.4444444444444444, \"#bd3786\"], [0.5555555555555556, \"#d8576b\"], [0.6666666666666666, \"#ed7953\"], [0.7777777777777778, \"#fb9f3a\"], [0.8888888888888888, \"#fdca26\"], [1.0, \"#f0f921\"]], \"type\": \"contour\"}], \"contourcarpet\": [{\"colorbar\": {\"outlinewidth\": 0, \"ticks\": \"\"}, \"type\": \"contourcarpet\"}], \"heatmap\": [{\"colorbar\": {\"outlinewidth\": 0, \"ticks\": \"\"}, \"colorscale\": [[0.0, \"#0d0887\"], [0.1111111111111111, \"#46039f\"], [0.2222222222222222, \"#7201a8\"], [0.3333333333333333, \"#9c179e\"], [0.4444444444444444, \"#bd3786\"], [0.5555555555555556, \"#d8576b\"], [0.6666666666666666, \"#ed7953\"], [0.7777777777777778, \"#fb9f3a\"], [0.8888888888888888, \"#fdca26\"], [1.0, \"#f0f921\"]], \"type\": \"heatmap\"}], \"heatmapgl\": [{\"colorbar\": {\"outlinewidth\": 0, \"ticks\": \"\"}, \"colorscale\": [[0.0, \"#0d0887\"], [0.1111111111111111, \"#46039f\"], [0.2222222222222222, \"#7201a8\"], [0.3333333333333333, \"#9c179e\"], [0.4444444444444444, \"#bd3786\"], [0.5555555555555556, \"#d8576b\"], [0.6666666666666666, \"#ed7953\"], [0.7777777777777778, \"#fb9f3a\"], [0.8888888888888888, \"#fdca26\"], [1.0, \"#f0f921\"]], \"type\": \"heatmapgl\"}], \"histogram\": [{\"marker\": {\"colorbar\": {\"outlinewidth\": 0, \"ticks\": \"\"}}, \"type\": \"histogram\"}], \"histogram2d\": [{\"colorbar\": {\"outlinewidth\": 0, \"ticks\": \"\"}, \"colorscale\": [[0.0, \"#0d0887\"], [0.1111111111111111, \"#46039f\"], [0.2222222222222222, \"#7201a8\"], [0.3333333333333333, \"#9c179e\"], [0.4444444444444444, \"#bd3786\"], [0.5555555555555556, \"#d8576b\"], [0.6666666666666666, \"#ed7953\"], [0.7777777777777778, \"#fb9f3a\"], [0.8888888888888888, \"#fdca26\"], [1.0, \"#f0f921\"]], \"type\": \"histogram2d\"}], \"histogram2dcontour\": [{\"colorbar\": {\"outlinewidth\": 0, \"ticks\": \"\"}, \"colorscale\": [[0.0, \"#0d0887\"], [0.1111111111111111, \"#46039f\"], [0.2222222222222222, \"#7201a8\"], [0.3333333333333333, \"#9c179e\"], [0.4444444444444444, \"#bd3786\"], [0.5555555555555556, \"#d8576b\"], [0.6666666666666666, \"#ed7953\"], [0.7777777777777778, \"#fb9f3a\"], [0.8888888888888888, \"#fdca26\"], [1.0, \"#f0f921\"]], \"type\": \"histogram2dcontour\"}], \"mesh3d\": [{\"colorbar\": {\"outlinewidth\": 0, \"ticks\": \"\"}, \"type\": \"mesh3d\"}], \"parcoords\": [{\"line\": {\"colorbar\": {\"outlinewidth\": 0, \"ticks\": \"\"}}, \"type\": \"parcoords\"}], \"pie\": [{\"automargin\": true, \"type\": \"pie\"}], \"scatter\": [{\"marker\": {\"colorbar\": {\"outlinewidth\": 0, \"ticks\": \"\"}}, \"type\": \"scatter\"}], \"scatter3d\": [{\"line\": {\"colorbar\": {\"outlinewidth\": 0, \"ticks\": \"\"}}, \"marker\": {\"colorbar\": {\"outlinewidth\": 0, \"ticks\": \"\"}}, \"type\": \"scatter3d\"}], \"scattercarpet\": [{\"marker\": {\"colorbar\": {\"outlinewidth\": 0, \"ticks\": \"\"}}, \"type\": \"scattercarpet\"}], \"scattergeo\": [{\"marker\": {\"colorbar\": {\"outlinewidth\": 0, \"ticks\": \"\"}}, \"type\": \"scattergeo\"}], \"scattergl\": [{\"marker\": {\"colorbar\": {\"outlinewidth\": 0, \"ticks\": \"\"}}, \"type\": \"scattergl\"}], \"scattermapbox\": [{\"marker\": {\"colorbar\": {\"outlinewidth\": 0, \"ticks\": \"\"}}, \"type\": \"scattermapbox\"}], \"scatterpolar\": [{\"marker\": {\"colorbar\": {\"outlinewidth\": 0, \"ticks\": \"\"}}, \"type\": \"scatterpolar\"}], \"scatterpolargl\": [{\"marker\": {\"colorbar\": {\"outlinewidth\": 0, \"ticks\": \"\"}}, \"type\": \"scatterpolargl\"}], \"scatterternary\": [{\"marker\": {\"colorbar\": {\"outlinewidth\": 0, \"ticks\": \"\"}}, \"type\": \"scatterternary\"}], \"surface\": [{\"colorbar\": {\"outlinewidth\": 0, \"ticks\": \"\"}, \"colorscale\": [[0.0, \"#0d0887\"], [0.1111111111111111, \"#46039f\"], [0.2222222222222222, \"#7201a8\"], [0.3333333333333333, \"#9c179e\"], [0.4444444444444444, \"#bd3786\"], [0.5555555555555556, \"#d8576b\"], [0.6666666666666666, \"#ed7953\"], [0.7777777777777778, \"#fb9f3a\"], [0.8888888888888888, \"#fdca26\"], [1.0, \"#f0f921\"]], \"type\": \"surface\"}], \"table\": [{\"cells\": {\"fill\": {\"color\": \"#EBF0F8\"}, \"line\": {\"color\": \"white\"}}, \"header\": {\"fill\": {\"color\": \"#C8D4E3\"}, \"line\": {\"color\": \"white\"}}, \"type\": \"table\"}]}, \"layout\": {\"annotationdefaults\": {\"arrowcolor\": \"#2a3f5f\", \"arrowhead\": 0, \"arrowwidth\": 1}, \"coloraxis\": {\"colorbar\": {\"outlinewidth\": 0, \"ticks\": \"\"}}, \"colorscale\": {\"diverging\": [[0, \"#8e0152\"], [0.1, \"#c51b7d\"], [0.2, \"#de77ae\"], [0.3, \"#f1b6da\"], [0.4, \"#fde0ef\"], [0.5, \"#f7f7f7\"], [0.6, \"#e6f5d0\"], [0.7, \"#b8e186\"], [0.8, \"#7fbc41\"], [0.9, \"#4d9221\"], [1, \"#276419\"]], \"sequential\": [[0.0, \"#0d0887\"], [0.1111111111111111, \"#46039f\"], [0.2222222222222222, \"#7201a8\"], [0.3333333333333333, \"#9c179e\"], [0.4444444444444444, \"#bd3786\"], [0.5555555555555556, \"#d8576b\"], [0.6666666666666666, \"#ed7953\"], [0.7777777777777778, \"#fb9f3a\"], [0.8888888888888888, \"#fdca26\"], [1.0, \"#f0f921\"]], \"sequentialminus\": [[0.0, \"#0d0887\"], [0.1111111111111111, \"#46039f\"], [0.2222222222222222, \"#7201a8\"], [0.3333333333333333, \"#9c179e\"], [0.4444444444444444, \"#bd3786\"], [0.5555555555555556, \"#d8576b\"], [0.6666666666666666, \"#ed7953\"], [0.7777777777777778, \"#fb9f3a\"], [0.8888888888888888, \"#fdca26\"], [1.0, \"#f0f921\"]]}, \"colorway\": [\"#636efa\", \"#EF553B\", \"#00cc96\", \"#ab63fa\", \"#FFA15A\", \"#19d3f3\", \"#FF6692\", \"#B6E880\", \"#FF97FF\", \"#FECB52\"], \"font\": {\"color\": \"#2a3f5f\"}, \"geo\": {\"bgcolor\": \"white\", \"lakecolor\": \"white\", \"landcolor\": \"#E5ECF6\", \"showlakes\": true, \"showland\": true, \"subunitcolor\": \"white\"}, \"hoverlabel\": {\"align\": \"left\"}, \"hovermode\": \"closest\", \"mapbox\": {\"style\": \"light\"}, \"paper_bgcolor\": \"white\", \"plot_bgcolor\": \"#E5ECF6\", \"polar\": {\"angularaxis\": {\"gridcolor\": \"white\", \"linecolor\": \"white\", \"ticks\": \"\"}, \"bgcolor\": \"#E5ECF6\", \"radialaxis\": {\"gridcolor\": \"white\", \"linecolor\": \"white\", \"ticks\": \"\"}}, \"scene\": {\"xaxis\": {\"backgroundcolor\": \"#E5ECF6\", \"gridcolor\": \"white\", \"gridwidth\": 2, \"linecolor\": \"white\", \"showbackground\": true, \"ticks\": \"\", \"zerolinecolor\": \"white\"}, \"yaxis\": {\"backgroundcolor\": \"#E5ECF6\", \"gridcolor\": \"white\", \"gridwidth\": 2, \"linecolor\": \"white\", \"showbackground\": true, \"ticks\": \"\", \"zerolinecolor\": \"white\"}, \"zaxis\": {\"backgroundcolor\": \"#E5ECF6\", \"gridcolor\": \"white\", \"gridwidth\": 2, \"linecolor\": \"white\", \"showbackground\": true, \"ticks\": \"\", \"zerolinecolor\": \"white\"}}, \"shapedefaults\": {\"line\": {\"color\": \"#2a3f5f\"}}, \"ternary\": {\"aaxis\": {\"gridcolor\": \"white\", \"linecolor\": \"white\", \"ticks\": \"\"}, \"baxis\": {\"gridcolor\": \"white\", \"linecolor\": \"white\", \"ticks\": \"\"}, \"bgcolor\": \"#E5ECF6\", \"caxis\": {\"gridcolor\": \"white\", \"linecolor\": \"white\", \"ticks\": \"\"}}, \"title\": {\"x\": 0.05}, \"xaxis\": {\"automargin\": true, \"gridcolor\": \"white\", \"linecolor\": \"white\", \"ticks\": \"\", \"title\": {\"standoff\": 15}, \"zerolinecolor\": \"white\", \"zerolinewidth\": 2}, \"yaxis\": {\"automargin\": true, \"gridcolor\": \"white\", \"linecolor\": \"white\", \"ticks\": \"\", \"title\": {\"standoff\": 15}, \"zerolinecolor\": \"white\", \"zerolinewidth\": 2}}}, \"title\": {\"text\": \"Speelhof 86\"}},                        {\"responsive\": true}                    ).then(function(){\n                            \nvar gd = document.getElementById('934c6f0b-bd9e-4b06-914a-e964c3eab550');\nvar x = new MutationObserver(function (mutations, observer) {{\n        var display = window.getComputedStyle(gd).display;\n        if (!display || display === 'none') {{\n            console.log([gd, 'removed!']);\n            Plotly.purge(gd);\n            observer.disconnect();\n        }}\n}});\n\n// Listen for the removal of the full notebook cells\nvar notebookContainer = gd.closest('#notebook-container');\nif (notebookContainer) {{\n    x.observe(notebookContainer, {childList: true});\n}}\n\n// Listen for the clearing of the current output cell\nvar outputEl = gd.closest('.output');\nif (outputEl) {{\n    x.observe(outputEl, {childList: true});\n}}\n\n                        })                };                });            </script>        </div>"
     },
     "metadata": {},
     "output_type": "display_data"
    }
   ],
   "source": [
    "### from bounds technique -> Bruges\n",
    "## https://epsg.io/map#srs=31370&x=70190.92&y=212195.57&z=11&layer=streets => coordinates of Bruges\n",
    "x = 68405.90\n",
    "y = 209773.35\n",
    "left = x - 20.0\n",
    "bottom = y - 20.0\n",
    "right = x + 20.0\n",
    "top = y + 20.0\n",
    "\n",
    "#from_bounds -> works with coordinates in espg31370\n",
    "brugge = dataset.read(1, window=from_bounds(left, bottom, right, top, dataset.transform))\n",
    "rio.plot.show(brugge, cmap = 'terrain')\n",
    "brugge_df = pd.DataFrame(data=brugge)\n",
    "display(brugge_df.head())\n",
    "display(brugge_df.shape)\n",
    "\n",
    "#first try to plot 3D data with plotly\n",
    "fig = go.Figure(data=[go.Surface(z=brugge_df.values)])\n",
    "fig.update_layout(title='Speelhof 86', autosize=True)\n",
    "fig.show()"
   ],
   "metadata": {
    "collapsed": false,
    "pycharm": {
     "name": "#%%\n"
    }
   }
  },
  {
   "cell_type": "code",
   "execution_count": 64,
   "outputs": [
    {
     "data": {
      "text/plain": "<Figure size 432x288 with 1 Axes>",
      "image/png": "[encoded data removed]"
     },
     "metadata": {
      "needs_background": "light"
     },
     "output_type": "display_data"
    }
   ],
   "source": [
    "# first try for 3D plot using matplotlib and the pandas dataframe created with the window\n",
    "fig = plt.figure()\n",
    "ax = fig.gca(projection='3d')\n",
    "\n",
    "x = brugge_df.columns\n",
    "y = brugge_df.index\n",
    "x, y = np.meshgrid(x, y)\n",
    "z = brugge_df\n",
    "surface = ax.plot_surface(x, y, z, cmap=cm.coolwarm,\n",
    "                       linewidth=0, antialiased=True)\n",
    "\n",
    "### TODO\n",
    "# Function to convert normal coordinates to ESPG31370"
   ],
   "metadata": {
    "collapsed": false,
    "pycharm": {
     "name": "#%%\n"
    }
   }
  }
 ],
 "metadata": {
  "kernelspec": {
   "display_name": "Python 3",
   "language": "python",
   "name": "python3"
  },
  "language_info": {
   "codemirror_mode": {
    "name": "ipython",
    "version": 2
   },
   "file_extension": ".py",
   "mimetype": "text/x-python",
   "name": "python",
   "nbconvert_exporter": "python",
   "pygments_lexer": "ipython2",
   "version": "2.7.6"
  }
 },
 "nbformat": 4,
 "nbformat_minor": 0
}