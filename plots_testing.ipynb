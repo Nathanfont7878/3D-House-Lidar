{
 "cells": [
  {
   "cell_type": "code",
   "execution_count": 14,
   "metadata": {
    "collapsed": true,
    "pycharm": {
     "name": "#%%\n"
    }
   },
   "outputs": [],
   "source": [
    "import numpy as np\n",
    "import matplotlib.pyplot as plt\n",
    "from matplotlib import cm\n",
    "from matplotlib.ticker import LinearLocator, FormatStrFormatter\n",
    "import seaborn as sns\n",
    "import pandas as pd\n",
    "\n",
    "import plotly\n",
    "import plotly.express as px\n",
    "import plotly.graph_objects as go\n",
    "import plotly.io as pio\n",
    "\n",
    "import pyproj\n",
    "from pyproj import Proj, transform\n",
    "from dms2dec.dms_convert import dms2dec\n",
    "\n",
    "import rasterio as rio\n",
    "from rasterio.plot import show\n",
    "from rasterio.windows import Window, from_bounds\n",
    "from IPython.core.display import display\n",
    "import geopandas as gpd"
   ]
  },
  {
   "cell_type": "code",
   "execution_count": 15,
   "outputs": [
    {
     "name": "stdout",
     "output_type": "stream",
     "text": [
      "(20000, 32000)\n",
      "EPSG:31370\n"
     ]
    }
   ],
   "source": [
    "dataset = rio.open(\"Data/TIFFiles/DHMVIIDSMRAS1m_k13.tif\")\n",
    "print(dataset.shape)\n",
    "print(dataset.crs)"
   ],
   "metadata": {
    "collapsed": false,
    "pycharm": {
     "name": "#%%\n"
    }
   }
  },
  {
   "cell_type": "code",
   "execution_count": 16,
   "outputs": [
    {
     "name": "stdout",
     "output_type": "stream",
     "text": [
      "(50, 50)\n"
     ]
    },
    {
     "data": {
      "text/plain": "<Figure size 432x288 with 1 Axes>",
      "image/png": "[encoded data removed]"
     },
     "metadata": {
      "needs_background": "light"
     },
     "output_type": "display_data"
    },
    {
     "data": {
      "text/plain": "      0      1      2      3      4      5      6      7      8      9   ...  \\\n0  12.69  12.68  12.71  12.79  12.98  12.91  12.90  13.10  14.59  13.00  ...   \n1  12.68  12.72  12.75  12.78  13.15  13.14  12.90  12.94  14.63  13.86  ...   \n2  12.70  12.74  12.78  12.81  12.84  12.91  12.92  12.95  12.98  13.02  ...   \n3  12.70  12.77  12.80  12.83  12.87  12.89  12.96  12.98  13.01  13.06  ...   \n4  12.74  12.88  12.93  12.86  12.91  12.93  12.97  13.00  13.05  13.07  ...   \n\n      40     41     42     43     44     45         46         47     48  \\\n0  15.58  15.27  15.06  12.95  14.97  14.18  16.840000  15.940000  16.08   \n1  15.69  15.52  15.32  15.14  14.52  15.49  16.629999  16.360001  14.80   \n2  15.54  15.66  15.70  15.41  14.47  14.16  14.080000  14.420000  12.74   \n3  15.28  15.50  15.59  15.20  15.11  12.92  12.880000  12.760000  12.76   \n4  14.88  15.30  14.74  14.77  14.66  12.91  12.900000  12.920000  12.82   \n\n      49  \n0  14.88  \n1  12.74  \n2  12.75  \n3  12.78  \n4  12.91  \n\n[5 rows x 50 columns]",
      "text/html": "<div>\n<style scoped>\n    .dataframe tbody tr th:only-of-type {\n        vertical-align: middle;\n    }\n\n    .dataframe tbody tr th {\n        vertical-align: top;\n    }\n\n    .dataframe thead th {\n        text-align: right;\n    }\n</style>\n<table border=\"1\" class=\"dataframe\">\n  <thead>\n    <tr style=\"text-align: right;\">\n      <th></th>\n      <th>0</th>\n      <th>1</th>\n      <th>2</th>\n      <th>3</th>\n      <th>4</th>\n      <th>5</th>\n      <th>6</th>\n      <th>7</th>\n      <th>8</th>\n      <th>9</th>\n      <th>...</th>\n      <th>40</th>\n      <th>41</th>\n      <th>42</th>\n      <th>43</th>\n      <th>44</th>\n      <th>45</th>\n      <th>46</th>\n      <th>47</th>\n      <th>48</th>\n      <th>49</th>\n    </tr>\n  </thead>\n  <tbody>\n    <tr>\n      <th>0</th>\n      <td>12.69</td>\n      <td>12.68</td>\n      <td>12.71</td>\n      <td>12.79</td>\n      <td>12.98</td>\n      <td>12.91</td>\n      <td>12.90</td>\n      <td>13.10</td>\n      <td>14.59</td>\n      <td>13.00</td>\n      <td>...</td>\n      <td>15.58</td>\n      <td>15.27</td>\n      <td>15.06</td>\n      <td>12.95</td>\n      <td>14.97</td>\n      <td>14.18</td>\n      <td>16.840000</td>\n      <td>15.940000</td>\n      <td>16.08</td>\n      <td>14.88</td>\n    </tr>\n    <tr>\n      <th>1</th>\n      <td>12.68</td>\n      <td>12.72</td>\n      <td>12.75</td>\n      <td>12.78</td>\n      <td>13.15</td>\n      <td>13.14</td>\n      <td>12.90</td>\n      <td>12.94</td>\n      <td>14.63</td>\n      <td>13.86</td>\n      <td>...</td>\n      <td>15.69</td>\n      <td>15.52</td>\n      <td>15.32</td>\n      <td>15.14</td>\n      <td>14.52</td>\n      <td>15.49</td>\n      <td>16.629999</td>\n      <td>16.360001</td>\n      <td>14.80</td>\n      <td>12.74</td>\n    </tr>\n    <tr>\n      <th>2</th>\n      <td>12.70</td>\n      <td>12.74</td>\n      <td>12.78</td>\n      <td>12.81</td>\n      <td>12.84</td>\n      <td>12.91</td>\n      <td>12.92</td>\n      <td>12.95</td>\n      <td>12.98</td>\n      <td>13.02</td>\n      <td>...</td>\n      <td>15.54</td>\n      <td>15.66</td>\n      <td>15.70</td>\n      <td>15.41</td>\n      <td>14.47</td>\n      <td>14.16</td>\n      <td>14.080000</td>\n      <td>14.420000</td>\n      <td>12.74</td>\n      <td>12.75</td>\n    </tr>\n    <tr>\n      <th>3</th>\n      <td>12.70</td>\n      <td>12.77</td>\n      <td>12.80</td>\n      <td>12.83</td>\n      <td>12.87</td>\n      <td>12.89</td>\n      <td>12.96</td>\n      <td>12.98</td>\n      <td>13.01</td>\n      <td>13.06</td>\n      <td>...</td>\n      <td>15.28</td>\n      <td>15.50</td>\n      <td>15.59</td>\n      <td>15.20</td>\n      <td>15.11</td>\n      <td>12.92</td>\n      <td>12.880000</td>\n      <td>12.760000</td>\n      <td>12.76</td>\n      <td>12.78</td>\n    </tr>\n    <tr>\n      <th>4</th>\n      <td>12.74</td>\n      <td>12.88</td>\n      <td>12.93</td>\n      <td>12.86</td>\n      <td>12.91</td>\n      <td>12.93</td>\n      <td>12.97</td>\n      <td>13.00</td>\n      <td>13.05</td>\n      <td>13.07</td>\n      <td>...</td>\n      <td>14.88</td>\n      <td>15.30</td>\n      <td>14.74</td>\n      <td>14.77</td>\n      <td>14.66</td>\n      <td>12.91</td>\n      <td>12.900000</td>\n      <td>12.920000</td>\n      <td>12.82</td>\n      <td>12.91</td>\n    </tr>\n  </tbody>\n</table>\n<p>5 rows × 50 columns</p>\n</div>"
     },
     "metadata": {},
     "output_type": "display_data"
    },
    {
     "data": {
      "text/plain": "<Figure size 432x288 with 1 Axes>",
      "image/png": "[encoded data removed]"
     },
     "metadata": {
      "needs_background": "light"
     },
     "output_type": "display_data"
    }
   ],
   "source": [
    "### window technique -> random buildings, not very controlable\n",
    "w = dataset.read(1, window=Window(50, 15000, 50, 50))\n",
    "print(w.shape)\n",
    "show(w)\n",
    "\n",
    "pandas_w = pd.DataFrame(data=w)\n",
    "display(pandas_w.head())\n",
    "\n",
    "# first try for 3D plot using matplotlib and the pandas dataframe created with the window\n",
    "fig = plt.figure()\n",
    "ax = fig.gca(projection='3d')\n",
    "\n",
    "x = pandas_w.columns\n",
    "y = pandas_w.index\n",
    "x, y = np.meshgrid(x, y)\n",
    "z = pandas_w\n",
    "surf = ax.plot_surface(x, y, z, cmap=cm.coolwarm,\n",
    "                       linewidth=0, antialiased=True)"
   ],
   "metadata": {
    "collapsed": false,
    "pycharm": {
     "name": "#%%\n"
    }
   }
  },
  {
   "cell_type": "code",
   "execution_count": 17,
   "outputs": [
    {
     "data": {
      "text/plain": "<Figure size 432x288 with 1 Axes>",
      "image/png": "[encoded data removed]"
     },
     "metadata": {
      "needs_background": "light"
     },
     "output_type": "display_data"
    },
    {
     "data": {
      "text/plain": "      0      1      2      3      4      5      6      7     8     9   ...  \\\n0  15.90  15.01  14.73  10.31  10.58  15.63  14.31  10.80  8.23  8.22  ...   \n1   8.11   8.12   8.13   8.14   9.53   9.59   9.18   9.05  8.19  8.20  ...   \n2   8.07   8.06   8.09   8.09   8.33   8.11   8.14   8.11  8.14  8.17  ...   \n3   8.05   8.07   8.08   8.11   8.13   8.16   8.16   8.18  8.20  8.21  ...   \n4   8.09   8.13   8.15   8.15   8.18   8.20   8.22   8.23  8.23  8.24  ...   \n\n          30         31         32         33         34         35  \\\n0  18.500000  19.580000  20.719999  21.879999  21.879999  20.709999   \n1  17.510000  19.440001  20.590000  21.760000  22.059999  20.830000   \n2  17.299999  19.299999  20.490000  21.629999  22.180000  20.940001   \n3  17.309999  19.240000  20.290001  21.500000  22.350000  21.080000   \n4  17.370001  19.120001  20.230000  21.350000  22.450001  21.219999   \n\n          36         37     38     39  \n0  19.420000  18.150000  14.15  14.18  \n1  19.570000  18.280001  14.18  14.44  \n2  19.629999  18.360001  14.50  14.38  \n3  19.840000  18.510000  14.36  14.35  \n4  19.879999  18.610001  14.27  14.62  \n\n[5 rows x 40 columns]",
      "text/html": "<div>\n<style scoped>\n    .dataframe tbody tr th:only-of-type {\n        vertical-align: middle;\n    }\n\n    .dataframe tbody tr th {\n        vertical-align: top;\n    }\n\n    .dataframe thead th {\n        text-align: right;\n    }\n</style>\n<table border=\"1\" class=\"dataframe\">\n  <thead>\n    <tr style=\"text-align: right;\">\n      <th></th>\n      <th>0</th>\n      <th>1</th>\n      <th>2</th>\n      <th>3</th>\n      <th>4</th>\n      <th>5</th>\n      <th>6</th>\n      <th>7</th>\n      <th>8</th>\n      <th>9</th>\n      <th>...</th>\n      <th>30</th>\n      <th>31</th>\n      <th>32</th>\n      <th>33</th>\n      <th>34</th>\n      <th>35</th>\n      <th>36</th>\n      <th>37</th>\n      <th>38</th>\n      <th>39</th>\n    </tr>\n  </thead>\n  <tbody>\n    <tr>\n      <th>0</th>\n      <td>15.90</td>\n      <td>15.01</td>\n      <td>14.73</td>\n      <td>10.31</td>\n      <td>10.58</td>\n      <td>15.63</td>\n      <td>14.31</td>\n      <td>10.80</td>\n      <td>8.23</td>\n      <td>8.22</td>\n      <td>...</td>\n      <td>18.500000</td>\n      <td>19.580000</td>\n      <td>20.719999</td>\n      <td>21.879999</td>\n      <td>21.879999</td>\n      <td>20.709999</td>\n      <td>19.420000</td>\n      <td>18.150000</td>\n      <td>14.15</td>\n      <td>14.18</td>\n    </tr>\n    <tr>\n      <th>1</th>\n      <td>8.11</td>\n      <td>8.12</td>\n      <td>8.13</td>\n      <td>8.14</td>\n      <td>9.53</td>\n      <td>9.59</td>\n      <td>9.18</td>\n      <td>9.05</td>\n      <td>8.19</td>\n      <td>8.20</td>\n      <td>...</td>\n      <td>17.510000</td>\n      <td>19.440001</td>\n      <td>20.590000</td>\n      <td>21.760000</td>\n      <td>22.059999</td>\n      <td>20.830000</td>\n      <td>19.570000</td>\n      <td>18.280001</td>\n      <td>14.18</td>\n      <td>14.44</td>\n    </tr>\n    <tr>\n      <th>2</th>\n      <td>8.07</td>\n      <td>8.06</td>\n      <td>8.09</td>\n      <td>8.09</td>\n      <td>8.33</td>\n      <td>8.11</td>\n      <td>8.14</td>\n      <td>8.11</td>\n      <td>8.14</td>\n      <td>8.17</td>\n      <td>...</td>\n      <td>17.299999</td>\n      <td>19.299999</td>\n      <td>20.490000</td>\n      <td>21.629999</td>\n      <td>22.180000</td>\n      <td>20.940001</td>\n      <td>19.629999</td>\n      <td>18.360001</td>\n      <td>14.50</td>\n      <td>14.38</td>\n    </tr>\n    <tr>\n      <th>3</th>\n      <td>8.05</td>\n      <td>8.07</td>\n      <td>8.08</td>\n      <td>8.11</td>\n      <td>8.13</td>\n      <td>8.16</td>\n      <td>8.16</td>\n      <td>8.18</td>\n      <td>8.20</td>\n      <td>8.21</td>\n      <td>...</td>\n      <td>17.309999</td>\n      <td>19.240000</td>\n      <td>20.290001</td>\n      <td>21.500000</td>\n      <td>22.350000</td>\n      <td>21.080000</td>\n      <td>19.840000</td>\n      <td>18.510000</td>\n      <td>14.36</td>\n      <td>14.35</td>\n    </tr>\n    <tr>\n      <th>4</th>\n      <td>8.09</td>\n      <td>8.13</td>\n      <td>8.15</td>\n      <td>8.15</td>\n      <td>8.18</td>\n      <td>8.20</td>\n      <td>8.22</td>\n      <td>8.23</td>\n      <td>8.23</td>\n      <td>8.24</td>\n      <td>...</td>\n      <td>17.370001</td>\n      <td>19.120001</td>\n      <td>20.230000</td>\n      <td>21.350000</td>\n      <td>22.450001</td>\n      <td>21.219999</td>\n      <td>19.879999</td>\n      <td>18.610001</td>\n      <td>14.27</td>\n      <td>14.62</td>\n    </tr>\n  </tbody>\n</table>\n<p>5 rows × 40 columns</p>\n</div>"
     },
     "metadata": {},
     "output_type": "display_data"
    },
    {
     "data": {
      "text/plain": "(40, 40)"
     },
     "metadata": {},
     "output_type": "display_data"
    },
    {
     "data": {
      "application/vnd.plotly.v1+json": {
       "config": {
        "plotlyServerURL": "https://plot.ly"
       },
       "data": [
        {
         "type": "surface",
         "z": [
          [
           15.899999618530273,
           15.010000228881836,
           14.729999542236328,
           10.3100004196167,
           10.579999923706055,
           15.630000114440918,
           14.3100004196167,
           10.800000190734863,
           8.229999542236328,
           8.220000267028809,
           9.359999656677246,
           9.529999732971191,
           9.050000190734863,
           8.380000114440918,
           8.270000457763672,
           9.680000305175781,
           8.399999618530273,
           16.030000686645508,
           17.299999237060547,
           19.06999969482422,
           20.780000686645508,
           22.510000228881836,
           21.299999237060547,
           19.56999969482422,
           17.81999969482422,
           16.43000030517578,
           17.959999084472656,
           19.40999984741211,
           19.459999084472656,
           17.979999542236328,
           18.5,
           19.579999923706055,
           20.719999313354492,
           21.8799991607666,
           21.8799991607666,
           20.709999084472656,
           19.420000076293945,
           18.149999618530273,
           14.149999618530273,
           14.180000305175781
          ],
          [
           8.109999656677246,
           8.119999885559082,
           8.130000114440918,
           8.140000343322754,
           9.529999732971191,
           9.59000015258789,
           9.180000305175781,
           9.050000190734863,
           8.1899995803833,
           8.199999809265137,
           8.579999923706055,
           8.770000457763672,
           8.899999618530273,
           8.279999732971191,
           8.25,
           10.100000381469727,
           8.9399995803833,
           11.15999984741211,
           16.93000030517578,
           18.739999771118164,
           20.3799991607666,
           22.290000915527344,
           21.5,
           19.739999771118164,
           18.190000534057617,
           16.389999389648438,
           17.760000228881836,
           19.260000228881836,
           19.670000076293945,
           18.219999313354492,
           17.510000228881836,
           19.440000534057617,
           20.59000015258789,
           21.760000228881836,
           22.059999465942383,
           20.829999923706055,
           19.56999969482422,
           18.280000686645508,
           14.180000305175781,
           14.4399995803833
          ],
          [
           8.069999694824219,
           8.0600004196167,
           8.09000015258789,
           8.09000015258789,
           8.329999923706055,
           8.109999656677246,
           8.140000343322754,
           8.109999656677246,
           8.140000343322754,
           8.170000076293945,
           8.199999809265137,
           8.210000038146973,
           8.239999771118164,
           8.229999542236328,
           8.229999542236328,
           9.649999618530273,
           8.760000228881836,
           10.050000190734863,
           16.75,
           18.479999542236328,
           20.149999618530273,
           21.959999084472656,
           21.84000015258789,
           20.020000457763672,
           18.420000076293945,
           16.389999389648438,
           17.549999237060547,
           19.079999923706055,
           19.770000457763672,
           18.3700008392334,
           17.299999237060547,
           19.299999237060547,
           20.489999771118164,
           21.6299991607666,
           22.18000030517578,
           20.940000534057617,
           19.6299991607666,
           18.360000610351562,
           14.5,
           14.380000114440918
          ],
          [
           8.050000190734863,
           8.069999694824219,
           8.079999923706055,
           8.109999656677246,
           8.130000114440918,
           8.15999984741211,
           8.15999984741211,
           8.180000305175781,
           8.199999809265137,
           8.210000038146973,
           8.220000267028809,
           8.229999542236328,
           8.239999771118164,
           8.239999771118164,
           8.199999809265137,
           8.739999771118164,
           9.319999694824219,
           9.300000190734863,
           16.610000610351562,
           18.149999618530273,
           19.81999969482422,
           21.6200008392334,
           22.049999237060547,
           20.40999984741211,
           18.719999313354492,
           16.75,
           17.299999237060547,
           18.809999465942383,
           20.1200008392334,
           18.540000915527344,
           17.309999465942383,
           19.239999771118164,
           20.290000915527344,
           21.5,
           22.350000381469727,
           21.079999923706055,
           19.84000015258789,
           18.510000228881836,
           14.359999656677246,
           14.350000381469727
          ],
          [
           8.09000015258789,
           8.130000114440918,
           8.149999618530273,
           8.149999618530273,
           8.180000305175781,
           8.199999809265137,
           8.220000267028809,
           8.229999542236328,
           8.229999542236328,
           8.239999771118164,
           8.25,
           8.239999771118164,
           8.239999771118164,
           8.220000267028809,
           8.1899995803833,
           8.579999923706055,
           8.640000343322754,
           8.699999809265137,
           16.469999313354492,
           17.850000381469727,
           19.59000015258789,
           21.399999618530273,
           22.190000534057617,
           20.610000610351562,
           18.950000762939453,
           16.950000762939453,
           17.030000686645508,
           18.670000076293945,
           20.1299991607666,
           18.729999542236328,
           17.3700008392334,
           19.1200008392334,
           20.229999542236328,
           21.350000381469727,
           22.450000762939453,
           21.219999313354492,
           19.8799991607666,
           18.610000610351562,
           14.270000457763672,
           14.619999885559082
          ],
          [
           9.770000457763672,
           11.199999809265137,
           12.510000228881836,
           12.699999809265137,
           12.8100004196167,
           14.130000114440918,
           17.040000915527344,
           14.859999656677246,
           15.40999984741211,
           11.65999984741211,
           10.079999923706055,
           8.640000343322754,
           9.050000190734863,
           8.199999809265137,
           8.180000305175781,
           8.140000343322754,
           8.1899995803833,
           8.199999809265137,
           16.329999923706055,
           17.579999923706055,
           19.299999237060547,
           21.200000762939453,
           22.43000030517578,
           20.93000030517578,
           19.18000030517578,
           17.260000228881836,
           16.8799991607666,
           18.3700008392334,
           20.06999969482422,
           18.889999389648438,
           17.489999771118164,
           18.93000030517578,
           20.049999237060547,
           21.200000762939453,
           22.420000076293945,
           21.43000030517578,
           20.059999465942383,
           18.739999771118164,
           18.030000686645508,
           19.540000915527344
          ],
          [
           15.829999923706055,
           15.989999771118164,
           15.720000267028809,
           15.819999694824219,
           16.610000610351562,
           18.0,
           16.510000228881836,
           16.219999313354492,
           16.350000381469727,
           15.239999771118164,
           11.609999656677246,
           10.210000038146973,
           8.239999771118164,
           8.199999809265137,
           8.180000305175781,
           8.109999656677246,
           8.149999618530273,
           8.170000076293945,
           13.270000457763672,
           18.75,
           19.09000015258789,
           20.690000534057617,
           22.579999923706055,
           21.110000610351562,
           19.489999771118164,
           17.600000381469727,
           16.709999084472656,
           18.190000534057617,
           19.780000686645508,
           19.149999618530273,
           17.670000076293945,
           18.850000381469727,
           20.0,
           21.079999923706055,
           22.170000076293945,
           21.540000915527344,
           20.270000457763672,
           19.020000457763672,
           17.610000610351562,
           19.200000762939453
          ],
          [
           16.989999771118164,
           17.1299991607666,
           16.56999969482422,
           16.65999984741211,
           16.780000686645508,
           17.950000762939453,
           17.0,
           17.15999984741211,
           17.270000457763672,
           12.680000305175781,
           12.0,
           11.420000076293945,
           8.25,
           8.210000038146973,
           8.15999984741211,
           8.100000381469727,
           8.109999656677246,
           8.119999885559082,
           17.540000915527344,
           19.34000015258789,
           19.06999969482422,
           20.450000762939453,
           23.59000015258789,
           21.350000381469727,
           19.649999618530273,
           17.969999313354492,
           16.540000915527344,
           17.969999313354492,
           19.520000457763672,
           19.309999465942383,
           17.799999237060547,
           18.6200008392334,
           21.309999465942383,
           21.790000915527344,
           22.260000228881836,
           21.700000762939453,
           20.469999313354492,
           18.8700008392334,
           17.34000015258789,
           18.850000381469727
          ],
          [
           18.18000030517578,
           18.399999618530273,
           17.43000030517578,
           17.540000915527344,
           17.670000076293945,
           17.780000686645508,
           18.489999771118164,
           19.459999084472656,
           19.479999542236328,
           19.719999313354492,
           18.479999542236328,
           11.699999809265137,
           11.09000015258789,
           8.199999809265137,
           8.140000343322754,
           8.079999923706055,
           8.720000267028809,
           8.6899995803833,
           12.050000190734863,
           16.969999313354492,
           18.530000686645508,
           20.219999313354492,
           22.06999969482422,
           21.510000228881836,
           19.809999465942383,
           18.270000457763672,
           16.459999084472656,
           17.709999084472656,
           19.25,
           19.5,
           18.010000228881836,
           18.530000686645508,
           21.239999771118164,
           21.709999084472656,
           22.209999084472656,
           21.889999389648438,
           20.6200008392334,
           19.469999313354492,
           18.559999465942383,
           18.5
          ],
          [
           19.389999389648438,
           19.579999923706055,
           19.690000534057617,
           19.8799991607666,
           20.06999969482422,
           20.219999313354492,
           20.459999084472656,
           20.600000381469727,
           20.799999237060547,
           21.030000686645508,
           20.530000686645508,
           18.65999984741211,
           18.68000030517578,
           9.640000343322754,
           8.119999885559082,
           8.069999694824219,
           8.770000457763672,
           9.569999694824219,
           15.649999618530273,
           16.700000762939453,
           18.350000381469727,
           20.139999389648438,
           21.959999084472656,
           21.729999542236328,
           19.950000762939453,
           18.25,
           16.479999542236328,
           17.59000015258789,
           19.09000015258789,
           19.649999618530273,
           18.200000762939453,
           18.579999923706055,
           19.549999237060547,
           20.719999313354492,
           21.780000686645508,
           22.100000381469727,
           20.850000381469727,
           19.690000534057617,
           18.399999618530273,
           18.1299991607666
          ],
          [
           20.639999389648438,
           20.780000686645508,
           20.969999313354492,
           21.1200008392334,
           21.360000610351562,
           21.510000228881836,
           21.709999084472656,
           21.93000030517578,
           22.1299991607666,
           22.469999313354492,
           21.770000457763672,
           21.219999313354492,
           20.65999984741211,
           18.610000610351562,
           8.130000114440918,
           8.039999961853027,
           8.15999984741211,
           9.329999923706055,
           8.0600004196167,
           16.579999923706055,
           18.110000610351562,
           19.8700008392334,
           21.639999389648438,
           21.959999084472656,
           20.350000381469727,
           18.690000534057617,
           16.65999984741211,
           19.149999618530273,
           20.0,
           20.5,
           19.510000228881836,
           18.670000076293945,
           19.469999313354492,
           20.540000915527344,
           21.670000076293945,
           22.219999313354492,
           21.020000457763672,
           19.899999618530273,
           18.75,
           17.770000457763672
          ],
          [
           21.8799991607666,
           22.040000915527344,
           22.219999313354492,
           22.420000076293945,
           22.670000076293945,
           22.90999984741211,
           23.030000686645508,
           23.229999542236328,
           23.5,
           23.739999771118164,
           23.030000686645508,
           22.030000686645508,
           20.780000686645508,
           19.559999465942383,
           8.079999923706055,
           8.039999961853027,
           7.960000038146973,
           8.960000038146973,
           8.020000457763672,
           16.420000076293945,
           17.899999618530273,
           19.719999313354492,
           21.43000030517578,
           22.25,
           20.450000762939453,
           18.799999237060547,
           17.0,
           19.989999771118164,
           19.850000381469727,
           20.670000076293945,
           19.649999618530273,
           18.709999084472656,
           19.350000381469727,
           20.420000076293945,
           21.469999313354492,
           22.3799991607666,
           21.219999313354492,
           20.079999923706055,
           18.950000762939453,
           17.399999618530273
          ],
          [
           23.229999542236328,
           23.309999465942383,
           23.549999237060547,
           23.760000228881836,
           24.049999237060547,
           24.25,
           24.479999542236328,
           24.6299991607666,
           24.889999389648438,
           24.979999542236328,
           23.6200008392334,
           22.31999969482422,
           21.010000228881836,
           13.279999732971191,
           8.079999923706055,
           7.96999979019165,
           7.989999771118164,
           7.980000019073486,
           8.239999771118164,
           16.309999465942383,
           17.610000610351562,
           19.5,
           21.18000030517578,
           22.399999618530273,
           20.690000534057617,
           19.049999237060547,
           19.920000076293945,
           18.8700008392334,
           19.690000534057617,
           20.6200008392334,
           19.760000228881836,
           18.81999969482422,
           19.239999771118164,
           20.309999465942383,
           21.43000030517578,
           21.739999771118164,
           21.079999923706055,
           20.290000915527344,
           19.170000076293945,
           17.799999237060547
          ],
          [
           24.56999969482422,
           24.649999618530273,
           24.90999984741211,
           25.1299991607666,
           25.440000534057617,
           25.260000228881836,
           25.110000610351562,
           24.8799991607666,
           24.700000762939453,
           24.719999313354492,
           23.610000610351562,
           22.649999618530273,
           21.239999771118164,
           20.059999465942383,
           10.210000038146973,
           7.960000038146973,
           7.96999979019165,
           8.670000076293945,
           9.369999885559082,
           16.209999084472656,
           17.450000762939453,
           19.139999389648438,
           20.940000534057617,
           22.559999465942383,
           21.0,
           19.239999771118164,
           17.6299991607666,
           18.809999465942383,
           19.540000915527344,
           20.489999771118164,
           19.889999389648438,
           18.90999984741211,
           19.1299991607666,
           20.18000030517578,
           20.299999237060547,
           20.100000381469727,
           19.920000076293945,
           20.440000534057617,
           19.3700008392334,
           17.350000381469727
          ],
          [
           22.200000762939453,
           25.469999313354492,
           25.09000015258789,
           24.690000534057617,
           24.309999465942383,
           24.030000686645508,
           23.809999465942383,
           23.549999237060547,
           23.34000015258789,
           23.200000762939453,
           22.649999618530273,
           21.719999313354492,
           20.729999542236328,
           19.729999542236328,
           8.020000457763672,
           7.980000019073486,
           7.949999809265137,
           7.960000038146973,
           9.359999656677246,
           15.350000381469727,
           17.18000030517578,
           18.889999389648438,
           20.6200008392334,
           22.469999313354492,
           21.100000381469727,
           19.43000030517578,
           17.860000610351562,
           16.739999771118164,
           19.420000076293945,
           19.969999313354492,
           19.860000610351562,
           19.059999465942383,
           19.010000228881836,
           20.030000686645508,
           19.860000610351562,
           19.700000762939453,
           19.68000030517578,
           21.079999923706055,
           19.649999618530273,
           20.719999313354492
          ],
          [
           21.040000915527344,
           24.209999084472656,
           23.780000686645508,
           23.43000030517578,
           23.15999984741211,
           22.90999984741211,
           22.56999969482422,
           22.3799991607666,
           22.18000030517578,
           21.940000534057617,
           21.719999313354492,
           20.809999465942383,
           19.8700008392334,
           9.670000076293945,
           8.010000228881836,
           7.96999979019165,
           7.949999809265137,
           7.920000076293945,
           9.15999984741211,
           15.890000343322754,
           17.010000228881836,
           18.65999984741211,
           20.389999389648438,
           22.15999984741211,
           21.389999389648438,
           19.65999984741211,
           18.100000381469727,
           17.200000762939453,
           19.270000457763672,
           19.15999984741211,
           19.079999923706055,
           18.989999771118164,
           20.100000381469727,
           12.0,
           17.15999984741211,
           10.630000114440918,
           8.100000381469727,
           8.010000228881836,
           8.020000457763672,
           8.0
          ],
          [
           20.09000015258789,
           22.979999542236328,
           22.579999923706055,
           22.260000228881836,
           21.959999084472656,
           21.729999542236328,
           21.440000534057617,
           21.209999084472656,
           21.0,
           20.729999542236328,
           20.549999237060547,
           19.989999771118164,
           9.40999984741211,
           7.96999979019165,
           7.989999771118164,
           7.96999979019165,
           7.940000057220459,
           7.909999847412109,
           8.779999732971191,
           15.710000038146973,
           16.799999237060547,
           18.530000686645508,
           20.190000534057617,
           21.90999984741211,
           17.420000076293945,
           20.610000610351562,
           18.979999542236328,
           7.960000038146973,
           12.680000305175781,
           11.069999694824219,
           8.550000190734863,
           10.15999984741211,
           7.96999979019165,
           7.940000057220459,
           7.960000038146973,
           7.980000019073486,
           7.949999809265137,
           7.960000038146973,
           7.960000038146973,
           7.960000038146973
          ],
          [
           14.699999809265137,
           21.709999084472656,
           20.739999771118164,
           21.110000610351562,
           20.829999923706055,
           20.559999465942383,
           20.329999923706055,
           17.90999984741211,
           19.8700008392334,
           16.579999923706055,
           12.899999618530273,
           13.130000114440918,
           7.900000095367432,
           7.889999866485596,
           7.940000057220459,
           7.980000019073486,
           7.920000076293945,
           7.889999866485596,
           7.929999828338623,
           12.670000076293945,
           16.190000534057617,
           14.670000076293945,
           10.399999618530273,
           7.96999979019165,
           7.929999828338623,
           7.920000076293945,
           7.909999847412109,
           7.909999847412109,
           7.909999847412109,
           7.900000095367432,
           7.909999847412109,
           8.770000457763672,
           7.909999847412109,
           7.889999866485596,
           7.900000095367432,
           9.229999542236328,
           7.929999828338623,
           7.909999847412109,
           7.920000076293945,
           7.909999847412109
          ],
          [
           15.479999542236328,
           20.399999618530273,
           20.170000076293945,
           19.6200008392334,
           16.510000228881836,
           19.389999389648438,
           15.470000267028809,
           7.869999885559082,
           7.880000114440918,
           7.880000114440918,
           7.860000133514404,
           7.880000114440918,
           7.900000095367432,
           7.900000095367432,
           8.319999694824219,
           11.09000015258789,
           7.900000095367432,
           7.840000152587891,
           7.840000152587891,
           7.869999885559082,
           7.869999885559082,
           7.860000133514404,
           7.889999866485596,
           7.880000114440918,
           7.860000133514404,
           7.849999904632568,
           7.840000152587891,
           7.829999923706055,
           7.849999904632568,
           7.840000152587891,
           7.869999885559082,
           7.849999904632568,
           7.869999885559082,
           7.840000152587891,
           7.809999942779541,
           7.789999961853027,
           7.809999942779541,
           7.829999923706055,
           7.840000152587891,
           7.960000038146973
          ],
          [
           13.779999732971191,
           15.670000076293945,
           9.600000381469727,
           7.840000152587891,
           7.840000152587891,
           7.840000152587891,
           7.860000133514404,
           7.840000152587891,
           7.920000076293945,
           7.809999942779541,
           8.399999618530273,
           7.829999923706055,
           7.840000152587891,
           7.840000152587891,
           7.849999904632568,
           7.880000114440918,
           7.800000190734863,
           7.75,
           7.769999980926514,
           7.800000190734863,
           7.800000190734863,
           7.809999942779541,
           7.820000171661377,
           7.820000171661377,
           7.809999942779541,
           7.800000190734863,
           7.789999961853027,
           7.75,
           7.730000019073486,
           7.730000019073486,
           7.789999961853027,
           7.78000020980835,
           7.809999942779541,
           7.829999923706055,
           7.820000171661377,
           7.860000133514404,
           7.860000133514404,
           7.869999885559082,
           7.869999885559082,
           8.760000228881836
          ],
          [
           7.840000152587891,
           8.109999656677246,
           7.840000152587891,
           7.820000171661377,
           7.800000190734863,
           7.980000019073486,
           7.800000190734863,
           7.78000020980835,
           7.78000020980835,
           7.739999771118164,
           7.71999979019165,
           7.730000019073486,
           7.699999809265137,
           7.730000019073486,
           7.760000228881836,
           7.789999961853027,
           7.769999980926514,
           7.690000057220459,
           7.710000038146973,
           7.71999979019165,
           7.71999979019165,
           7.699999809265137,
           7.71999979019165,
           7.760000228881836,
           7.75,
           7.760000228881836,
           8.100000381469727,
           7.869999885559082,
           8.5,
           8.109999656677246,
           7.789999961853027,
           7.800000190734863,
           7.800000190734863,
           7.829999923706055,
           7.849999904632568,
           7.849999904632568,
           7.840000152587891,
           7.869999885559082,
           7.880000114440918,
           7.889999866485596
          ],
          [
           7.78000020980835,
           7.769999980926514,
           7.769999980926514,
           7.75,
           7.710000038146973,
           7.670000076293945,
           7.679999828338623,
           7.670000076293945,
           7.679999828338623,
           7.670000076293945,
           7.670000076293945,
           8.3100004196167,
           7.670000076293945,
           7.670000076293945,
           7.630000114440918,
           7.690000057220459,
           7.650000095367432,
           7.690000057220459,
           7.699999809265137,
           7.71999979019165,
           7.710000038146973,
           7.730000019073486,
           7.730000019073486,
           7.75,
           7.760000228881836,
           7.78000020980835,
           7.789999961853027,
           7.769999980926514,
           7.760000228881836,
           7.760000228881836,
           7.78000020980835,
           7.800000190734863,
           7.800000190734863,
           7.789999961853027,
           7.809999942779541,
           7.829999923706055,
           7.829999923706055,
           7.860000133514404,
           7.869999885559082,
           7.860000133514404
          ],
          [
           7.730000019073486,
           7.71999979019165,
           8.550000190734863,
           8.279999732971191,
           9.100000381469727,
           9.119999885559082,
           7.820000171661377,
           7.619999885559082,
           8.140000343322754,
           7.599999904632568,
           7.619999885559082,
           7.599999904632568,
           7.650000095367432,
           7.679999828338623,
           7.670000076293945,
           7.710000038146973,
           7.679999828338623,
           8.0,
           8.529999732971191,
           7.710000038146973,
           7.739999771118164,
           7.739999771118164,
           7.739999771118164,
           7.739999771118164,
           7.75,
           7.760000228881836,
           7.789999961853027,
           7.760000228881836,
           7.75,
           7.739999771118164,
           7.739999771118164,
           7.730000019073486,
           7.739999771118164,
           7.769999980926514,
           7.75,
           7.800000190734863,
           7.809999942779541,
           7.840000152587891,
           7.829999923706055,
           7.849999904632568
          ],
          [
           7.639999866485596,
           7.53000020980835,
           8.470000267028809,
           8.5600004196167,
           8.779999732971191,
           7.570000171661377,
           7.570000171661377,
           8.170000076293945,
           7.610000133514404,
           7.630000114440918,
           7.619999885559082,
           7.630000114440918,
           7.639999866485596,
           7.679999828338623,
           7.659999847412109,
           7.679999828338623,
           8.010000228881836,
           7.690000057220459,
           8.109999656677246,
           7.690000057220459,
           7.679999828338623,
           7.699999809265137,
           7.699999809265137,
           7.699999809265137,
           7.71999979019165,
           7.710000038146973,
           7.659999847412109,
           7.739999771118164,
           7.760000228881836,
           7.789999961853027,
           7.840000152587891,
           7.840000152587891,
           7.840000152587891,
           7.829999923706055,
           7.75,
           7.769999980926514,
           7.809999942779541,
           7.849999904632568,
           7.860000133514404,
           7.849999904632568
          ],
          [
           7.53000020980835,
           7.559999942779541,
           7.550000190734863,
           7.570000171661377,
           8.359999656677246,
           8.210000038146973,
           8.399999618530273,
           7.590000152587891,
           7.599999904632568,
           7.599999904632568,
           7.610000133514404,
           7.630000114440918,
           7.619999885559082,
           7.630000114440918,
           7.650000095367432,
           7.650000095367432,
           7.630000114440918,
           7.630000114440918,
           7.619999885559082,
           7.610000133514404,
           7.619999885559082,
           7.670000076293945,
           7.730000019073486,
           7.760000228881836,
           7.78000020980835,
           7.820000171661377,
           7.820000171661377,
           13.09000015258789,
           18.030000686645508,
           9.569999694824219,
           12.109999656677246,
           18.139999389648438,
           17.40999984741211,
           18.399999618530273,
           7.849999904632568,
           8.020000457763672,
           7.800000190734863,
           7.860000133514404,
           7.869999885559082,
           7.860000133514404
          ],
          [
           7.53000020980835,
           8.199999809265137,
           8.489999771118164,
           7.559999942779541,
           7.590000152587891,
           7.570000171661377,
           7.570000171661377,
           7.579999923706055,
           7.610000133514404,
           7.579999923706055,
           7.579999923706055,
           7.559999942779541,
           7.559999942779541,
           7.590000152587891,
           7.579999923706055,
           7.590000152587891,
           7.659999847412109,
           7.690000057220459,
           7.730000019073486,
           7.730000019073486,
           7.739999771118164,
           7.920000076293945,
           13.1899995803833,
           17.3799991607666,
           16.479999542236328,
           17.690000534057617,
           16.100000381469727,
           12.6899995803833,
           10.829999923706055,
           17.979999542236328,
           18.959999084472656,
           19.170000076293945,
           19.34000015258789,
           18.610000610351562,
           7.889999866485596,
           7.840000152587891,
           7.769999980926514,
           7.809999942779541,
           7.829999923706055,
           7.820000171661377
          ],
          [
           7.510000228881836,
           7.53000020980835,
           7.510000228881836,
           7.539999961853027,
           7.519999980926514,
           7.510000228881836,
           7.510000228881836,
           7.510000228881836,
           7.5,
           7.539999961853027,
           7.590000152587891,
           7.610000133514404,
           7.639999866485596,
           9.180000305175781,
           7.730000019073486,
           9.15999984741211,
           17.149999618530273,
           21.139999389648438,
           12.329999923706055,
           12.819999694824219,
           13.739999771118164,
           21.360000610351562,
           18.530000686645508,
           18.670000076293945,
           18.790000915527344,
           18.93000030517578,
           19.079999923706055,
           19.260000228881836,
           19.3700008392334,
           18.049999237060547,
           18.780000686645508,
           20.15999984741211,
           19.809999465942383,
           18.860000610351562,
           17.989999771118164,
           7.909999847412109,
           7.760000228881836,
           7.800000190734863,
           7.809999942779541,
           7.820000171661377
          ],
          [
           7.429999828338623,
           7.440000057220459,
           7.440000057220459,
           7.420000076293945,
           7.489999771118164,
           7.550000190734863,
           7.590000152587891,
           7.599999904632568,
           7.630000114440918,
           8.390000343322754,
           14.260000228881836,
           18.90999984741211,
           18.75,
           21.049999237060547,
           20.700000762939453,
           21.309999465942383,
           21.420000076293945,
           14.1899995803833,
           21.600000381469727,
           21.68000030517578,
           21.790000915527344,
           21.899999618530273,
           19.31999969482422,
           19.459999084472656,
           19.579999923706055,
           19.739999771118164,
           19.93000030517578,
           20.1200008392334,
           19.520000457763672,
           18.09000015258789,
           18.440000534057617,
           19.75,
           20.1200008392334,
           19.06999969482422,
           14.989999771118164,
           8.470000267028809,
           7.860000133514404,
           7.789999961853027,
           7.809999942779541,
           7.840000152587891
          ],
          [
           7.480000019073486,
           7.510000228881836,
           7.539999961853027,
           10.069999694824219,
           17.139999389648438,
           8.0600004196167,
           15.40999984741211,
           13.880000114440918,
           13.380000114440918,
           16.25,
           16.139999389648438,
           21.829999923706055,
           22.049999237060547,
           21.420000076293945,
           21.790000915527344,
           21.850000381469727,
           21.959999084472656,
           22.049999237060547,
           22.15999984741211,
           22.239999771118164,
           22.350000381469727,
           22.479999542236328,
           20.1299991607666,
           20.280000686645508,
           20.399999618530273,
           20.200000762939453,
           20.030000686645508,
           19.829999923706055,
           19.68000030517578,
           18.510000228881836,
           18.09000015258789,
           19.440000534057617,
           20.420000076293945,
           19.56999969482422,
           18.489999771118164,
           7.960000038146973,
           7.909999847412109,
           7.809999942779541,
           7.869999885559082,
           7.860000133514404
          ],
          [
           9.449999809265137,
           14.010000228881836,
           14.710000038146973,
           15.199999809265137,
           21.530000686645508,
           21.809999465942383,
           16.579999923706055,
           22.200000762939453,
           21.84000015258789,
           22.579999923706055,
           22.520000457763672,
           23.110000610351562,
           22.40999984741211,
           21.59000015258789,
           23.6299991607666,
           22.420000076293945,
           22.510000228881836,
           22.59000015258789,
           22.729999542236328,
           22.829999923706055,
           22.93000030517578,
           23.190000534057617,
           20.90999984741211,
           19.6299991607666,
           19.489999771118164,
           19.31999969482422,
           19.079999923706055,
           18.8700008392334,
           18.760000228881836,
           18.610000610351562,
           19.149999618530273,
           20.030000686645508,
           20.5,
           19.709999084472656,
           18.739999771118164,
           13.729999542236328,
           7.929999828338623,
           7.829999923706055,
           7.860000133514404,
           7.880000114440918
          ],
          [
           16.68000030517578,
           15.9399995803833,
           15.680000305175781,
           17.649999618530273,
           21.290000915527344,
           22.139999389648438,
           22.889999389648438,
           23.420000076293945,
           23.6299991607666,
           23.850000381469727,
           24.09000015258789,
           23.360000610351562,
           22.56999969482422,
           21.780000686645508,
           22.43000030517578,
           23.0,
           23.100000381469727,
           23.18000030517578,
           23.280000686645508,
           23.40999984741211,
           23.43000030517578,
           23.280000686645508,
           22.690000534057617,
           18.770000457763672,
           18.56999969482422,
           18.389999389648438,
           18.200000762939453,
           18.059999465942383,
           17.889999389648438,
           17.579999923706055,
           18.510000228881836,
           19.940000534057617,
           20.360000610351562,
           20.040000915527344,
           19.040000915527344,
           16.579999923706055,
           7.949999809265137,
           7.840000152587891,
           7.860000133514404,
           7.900000095367432
          ],
          [
           17.06999969482422,
           17.299999237060547,
           17.579999923706055,
           17.829999923706055,
           21.209999084472656,
           21.969999313354492,
           22.639999389648438,
           23.469999313354492,
           24.25,
           25.049999237060547,
           24.3700008392334,
           23.59000015258789,
           22.780000686645508,
           22.020000457763672,
           21.389999389648438,
           23.309999465942383,
           23.15999984741211,
           23.010000228881836,
           22.829999923706055,
           22.639999389648438,
           22.5,
           22.34000015258789,
           22.190000534057617,
           17.190000534057617,
           17.59000015258789,
           15.010000228881836,
           17.549999237060547,
           17.530000686645508,
           17.510000228881836,
           17.65999984741211,
           17.540000915527344,
           19.829999923706055,
           20.280000686645508,
           20.329999923706055,
           19.149999618530273,
           14.25,
           7.980000019073486,
           7.940000057220459,
           7.889999866485596,
           7.909999847412109
          ],
          [
           18.43000030517578,
           18.700000762939453,
           18.90999984741211,
           19.190000534057617,
           26.020000457763672,
           22.360000610351562,
           22.450000762939453,
           23.280000686645508,
           24.09000015258789,
           24.90999984741211,
           24.579999923706055,
           23.75,
           22.989999771118164,
           22.219999313354492,
           21.399999618530273,
           22.540000915527344,
           22.31999969482422,
           22.1200008392334,
           21.969999313354492,
           21.81999969482422,
           21.649999618530273,
           21.43000030517578,
           21.25,
           13.479999542236328,
           14.720000267028809,
           14.4399995803833,
           17.520000457763672,
           17.530000686645508,
           17.530000686645508,
           17.520000457763672,
           17.540000915527344,
           19.700000762939453,
           20.100000381469727,
           20.559999465942383,
           19.639999389648438,
           18.59000015258789,
           13.0,
           7.960000038146973,
           7.889999866485596,
           7.920000076293945
          ],
          [
           19.940000534057617,
           20.059999465942383,
           19.8700008392334,
           19.610000610351562,
           19.719999313354492,
           21.520000457763672,
           22.309999465942383,
           23.030000686645508,
           23.860000610351562,
           24.68000030517578,
           24.780000686645508,
           24.010000228881836,
           23.229999542236328,
           22.450000762939453,
           21.56999969482422,
           21.709999084472656,
           21.479999542236328,
           21.31999969482422,
           21.100000381469727,
           20.959999084472656,
           20.799999237060547,
           20.700000762939453,
           20.709999084472656,
           18.06999969482422,
           14.420000076293945,
           14.399999618530273,
           15.510000228881836,
           17.540000915527344,
           17.790000915527344,
           18.719999313354492,
           19.09000015258789,
           19.5,
           19.940000534057617,
           20.420000076293945,
           19.920000076293945,
           18.8700008392334,
           14.5,
           7.980000019073486,
           7.880000114440918,
           7.920000076293945
          ],
          [
           18.969999313354492,
           18.690000534057617,
           18.420000076293945,
           18.200000762939453,
           18.0,
           21.389999389648438,
           22.1200008392334,
           22.8799991607666,
           23.700000762939453,
           24.5,
           25.049999237060547,
           24.219999313354492,
           23.440000534057617,
           22.649999618530273,
           22.010000228881836,
           21.1200008392334,
           20.68000030517578,
           20.469999313354492,
           20.299999237060547,
           20.09000015258789,
           20.670000076293945,
           20.709999084472656,
           20.719999313354492,
           16.8700008392334,
           14.420000076293945,
           14.420000076293945,
           14.380000114440918,
           11.90999984741211,
           12.520000457763672,
           18.59000015258789,
           19.110000610351562,
           19.610000610351562,
           20.270000457763672,
           20.469999313354492,
           20.200000762939453,
           19.18000030517578,
           12.0,
           8.020000457763672,
           7.929999828338623,
           7.949999809265137
          ],
          [
           17.6200008392334,
           17.309999465942383,
           17.049999237060547,
           16.90999984741211,
           16.719999313354492,
           21.18000030517578,
           21.920000076293945,
           22.649999618530273,
           23.469999313354492,
           24.270000457763672,
           25.0,
           24.40999984741211,
           23.639999389648438,
           22.81999969482422,
           22.100000381469727,
           21.34000015258789,
           20.600000381469727,
           19.709999084472656,
           19.489999771118164,
           19.280000686645508,
           20.670000076293945,
           20.68000030517578,
           20.780000686645508,
           20.709999084472656,
           14.40999984741211,
           14.420000076293945,
           14.4399995803833,
           14.710000038146973,
           15.619999885559082,
           18.709999084472656,
           17.790000915527344,
           17.799999237060547,
           20.229999542236328,
           20.420000076293945,
           20.510000228881836,
           19.440000534057617,
           18.350000381469727,
           8.029999732971191,
           8.0,
           7.920000076293945
          ],
          [
           16.270000457763672,
           16.040000915527344,
           15.829999923706055,
           15.539999961853027,
           15.420000076293945,
           21.030000686645508,
           21.760000228881836,
           22.520000457763672,
           23.280000686645508,
           24.09000015258789,
           24.809999465942383,
           24.65999984741211,
           23.850000381469727,
           23.100000381469727,
           22.329999923706055,
           20.829999923706055,
           20.729999542236328,
           19.010000228881836,
           20.040000915527344,
           15.579999923706055,
           16.809999465942383,
           21.020000457763672,
           21.43000030517578,
           20.670000076293945,
           14.350000381469727,
           14.329999923706055,
           14.3100004196167,
           14.359999656677246,
           14.369999885559082,
           18.459999084472656,
           17.790000915527344,
           17.790000915527344,
           20.15999984741211,
           20.360000610351562,
           20.559999465942383,
           19.809999465942383,
           18.65999984741211,
           13.220000267028809,
           8.029999732971191,
           7.929999828338623
          ],
          [
           14.970000267028809,
           14.550000190734863,
           13.369999885559082,
           11.029999732971191,
           10.989999771118164,
           20.389999389648438,
           21.59000015258789,
           22.299999237060547,
           23.09000015258789,
           23.899999618530273,
           24.700000762939453,
           24.899999618530273,
           24.09000015258789,
           23.360000610351562,
           22.59000015258789,
           22.459999084472656,
           22.299999237060547,
           14.050000190734863,
           14.050000190734863,
           14.869999885559082,
           14.010000228881836,
           20.670000076293945,
           20.690000534057617,
           20.68000030517578,
           14.359999656677246,
           14.3100004196167,
           14.319999694824219,
           14.34000015258789,
           14.369999885559082,
           18.860000610351562,
           16.450000762939453,
           14.970000267028809,
           20.100000381469727,
           20.309999465942383,
           20.450000762939453,
           20.1200008392334,
           19.010000228881836,
           11.319999694824219,
           8.100000381469727,
           7.940000057220459
          ],
          [
           10.899999618530273,
           10.779999732971191,
           10.75,
           10.34000015258789,
           10.079999923706055,
           8.039999961853027,
           21.479999542236328,
           22.219999313354492,
           22.969999313354492,
           23.690000534057617,
           23.850000381469727,
           17.450000762939453,
           16.559999465942383,
           14.84000015258789,
           22.049999237060547,
           21.90999984741211,
           21.760000228881836,
           17.290000915527344,
           14.029999732971191,
           14.039999961853027,
           14.010000228881836,
           19.860000610351562,
           18.1299991607666,
           11.300000190734863,
           11.539999961853027,
           14.329999923706055,
           14.319999694824219,
           14.34000015258789,
           14.369999885559082,
           15.09000015258789,
           15.699999809265137,
           14.109999656677246,
           15.579999923706055,
           19.3799991607666,
           20.059999465942383,
           20.389999389648438,
           19.079999923706055,
           17.899999618530273,
           8.069999694824219,
           8.020000457763672
          ],
          [
           8.880000114440918,
           8.300000190734863,
           9.319999694824219,
           8.680000305175781,
           8.5600004196167,
           8.0,
           20.90999984741211,
           20.239999771118164,
           15.380000114440918,
           11.960000038146973,
           11.0600004196167,
           13.40999984741211,
           12.140000343322754,
           11.09000015258789,
           20.75,
           20.90999984741211,
           18.690000534057617,
           15.15999984741211,
           14.050000190734863,
           14.029999732971191,
           14.029999732971191,
           14.609999656677246,
           11.279999732971191,
           11.300000190734863,
           11.3100004196167,
           14.319999694824219,
           14.319999694824219,
           14.34000015258789,
           14.350000381469727,
           14.390000343322754,
           14.40999984741211,
           11.829999923706055,
           15.029999732971191,
           19.239999771118164,
           19.8799991607666,
           20.56999969482422,
           19.59000015258789,
           16.450000762939453,
           12.270000457763672,
           8.050000190734863
          ]
         ]
        }
       ],
       "layout": {
        "autosize": true,
        "template": {
         "data": {
          "bar": [
           {
            "error_x": {
             "color": "#2a3f5f"
            },
            "error_y": {
             "color": "#2a3f5f"
            },
            "marker": {
             "line": {
              "color": "#E5ECF6",
              "width": 0.5
             }
            },
            "type": "bar"
           }
          ],
          "barpolar": [
           {
            "marker": {
             "line": {
              "color": "#E5ECF6",
              "width": 0.5
             }
            },
            "type": "barpolar"
           }
          ],
          "carpet": [
           {
            "aaxis": {
             "endlinecolor": "#2a3f5f",
             "gridcolor": "white",
             "linecolor": "white",
             "minorgridcolor": "white",
             "startlinecolor": "#2a3f5f"
            },
            "baxis": {
             "endlinecolor": "#2a3f5f",
             "gridcolor": "white",
             "linecolor": "white",
             "minorgridcolor": "white",
             "startlinecolor": "#2a3f5f"
            },
            "type": "carpet"
           }
          ],
          "choropleth": [
           {
            "colorbar": {
             "outlinewidth": 0,
             "ticks": ""
            },
            "type": "choropleth"
           }
          ],
          "contour": [
           {
            "colorbar": {
             "outlinewidth": 0,
             "ticks": ""
            },
            "colorscale": [
             [
              0.0,
              "#0d0887"
             ],
             [
              0.1111111111111111,
              "#46039f"
             ],
             [
              0.2222222222222222,
              "#7201a8"
             ],
             [
              0.3333333333333333,
              "#9c179e"
             ],
             [
              0.4444444444444444,
              "#bd3786"
             ],
             [
              0.5555555555555556,
              "#d8576b"
             ],
             [
              0.6666666666666666,
              "#ed7953"
             ],
             [
              0.7777777777777778,
              "#fb9f3a"
             ],
             [
              0.8888888888888888,
              "#fdca26"
             ],
             [
              1.0,
              "#f0f921"
             ]
            ],
            "type": "contour"
           }
          ],
          "contourcarpet": [
           {
            "colorbar": {
             "outlinewidth": 0,
             "ticks": ""
            },
            "type": "contourcarpet"
           }
          ],
          "heatmap": [
           {
            "colorbar": {
             "outlinewidth": 0,
             "ticks": ""
            },
            "colorscale": [
             [
              0.0,
              "#0d0887"
             ],
             [
              0.1111111111111111,
              "#46039f"
             ],
             [
              0.2222222222222222,
              "#7201a8"
             ],
             [
              0.3333333333333333,
              "#9c179e"
             ],
             [
              0.4444444444444444,
              "#bd3786"
             ],
             [
              0.5555555555555556,
              "#d8576b"
             ],
             [
              0.6666666666666666,
              "#ed7953"
             ],
             [
              0.7777777777777778,
              "#fb9f3a"
             ],
             [
              0.8888888888888888,
              "#fdca26"
             ],
             [
              1.0,
              "#f0f921"
             ]
            ],
            "type": "heatmap"
           }
          ],
          "heatmapgl": [
           {
            "colorbar": {
             "outlinewidth": 0,
             "ticks": ""
            },
            "colorscale": [
             [
              0.0,
              "#0d0887"
             ],
             [
              0.1111111111111111,
              "#46039f"
             ],
             [
              0.2222222222222222,
              "#7201a8"
             ],
             [
              0.3333333333333333,
              "#9c179e"
             ],
             [
              0.4444444444444444,
              "#bd3786"
             ],
             [
              0.5555555555555556,
              "#d8576b"
             ],
             [
              0.6666666666666666,
              "#ed7953"
             ],
             [
              0.7777777777777778,
              "#fb9f3a"
             ],
             [
              0.8888888888888888,
              "#fdca26"
             ],
             [
              1.0,
              "#f0f921"
             ]
            ],
            "type": "heatmapgl"
           }
          ],
          "histogram": [
           {
            "marker": {
             "colorbar": {
              "outlinewidth": 0,
              "ticks": ""
             }
            },
            "type": "histogram"
           }
          ],
          "histogram2d": [
           {
            "colorbar": {
             "outlinewidth": 0,
             "ticks": ""
            },
            "colorscale": [
             [
              0.0,
              "#0d0887"
             ],
             [
              0.1111111111111111,
              "#46039f"
             ],
             [
              0.2222222222222222,
              "#7201a8"
             ],
             [
              0.3333333333333333,
              "#9c179e"
             ],
             [
              0.4444444444444444,
              "#bd3786"
             ],
             [
              0.5555555555555556,
              "#d8576b"
             ],
             [
              0.6666666666666666,
              "#ed7953"
             ],
             [
              0.7777777777777778,
              "#fb9f3a"
             ],
             [
              0.8888888888888888,
              "#fdca26"
             ],
             [
              1.0,
              "#f0f921"
             ]
            ],
            "type": "histogram2d"
           }
          ],
          "histogram2dcontour": [
           {
            "colorbar": {
             "outlinewidth": 0,
             "ticks": ""
            },
            "colorscale": [
             [
              0.0,
              "#0d0887"
             ],
             [
              0.1111111111111111,
              "#46039f"
             ],
             [
              0.2222222222222222,
              "#7201a8"
             ],
             [
              0.3333333333333333,
              "#9c179e"
             ],
             [
              0.4444444444444444,
              "#bd3786"
             ],
             [
              0.5555555555555556,
              "#d8576b"
             ],
             [
              0.6666666666666666,
              "#ed7953"
             ],
             [
              0.7777777777777778,
              "#fb9f3a"
             ],
             [
              0.8888888888888888,
              "#fdca26"
             ],
             [
              1.0,
              "#f0f921"
             ]
            ],
            "type": "histogram2dcontour"
           }
          ],
          "mesh3d": [
           {
            "colorbar": {
             "outlinewidth": 0,
             "ticks": ""
            },
            "type": "mesh3d"
           }
          ],
          "parcoords": [
           {
            "line": {
             "colorbar": {
              "outlinewidth": 0,
              "ticks": ""
             }
            },
            "type": "parcoords"
           }
          ],
          "pie": [
           {
            "automargin": true,
            "type": "pie"
           }
          ],
          "scatter": [
           {
            "marker": {
             "colorbar": {
              "outlinewidth": 0,
              "ticks": ""
             }
            },
            "type": "scatter"
           }
          ],
          "scatter3d": [
           {
            "line": {
             "colorbar": {
              "outlinewidth": 0,
              "ticks": ""
             }
            },
            "marker": {
             "colorbar": {
              "outlinewidth": 0,
              "ticks": ""
             }
            },
            "type": "scatter3d"
           }
          ],
          "scattercarpet": [
           {
            "marker": {
             "colorbar": {
              "outlinewidth": 0,
              "ticks": ""
             }
            },
            "type": "scattercarpet"
           }
          ],
          "scattergeo": [
           {
            "marker": {
             "colorbar": {
              "outlinewidth": 0,
              "ticks": ""
             }
            },
            "type": "scattergeo"
           }
          ],
          "scattergl": [
           {
            "marker": {
             "colorbar": {
              "outlinewidth": 0,
              "ticks": ""
             }
            },
            "type": "scattergl"
           }
          ],
          "scattermapbox": [
           {
            "marker": {
             "colorbar": {
              "outlinewidth": 0,
              "ticks": ""
             }
            },
            "type": "scattermapbox"
           }
          ],
          "scatterpolar": [
           {
            "marker": {
             "colorbar": {
              "outlinewidth": 0,
              "ticks": ""
             }
            },
            "type": "scatterpolar"
           }
          ],
          "scatterpolargl": [
           {
            "marker": {
             "colorbar": {
              "outlinewidth": 0,
              "ticks": ""
             }
            },
            "type": "scatterpolargl"
           }
          ],
          "scatterternary": [
           {
            "marker": {
             "colorbar": {
              "outlinewidth": 0,
              "ticks": ""
             }
            },
            "type": "scatterternary"
           }
          ],
          "surface": [
           {
            "colorbar": {
             "outlinewidth": 0,
             "ticks": ""
            },
            "colorscale": [
             [
              0.0,
              "#0d0887"
             ],
             [
              0.1111111111111111,
              "#46039f"
             ],
             [
              0.2222222222222222,
              "#7201a8"
             ],
             [
              0.3333333333333333,
              "#9c179e"
             ],
             [
              0.4444444444444444,
              "#bd3786"
             ],
             [
              0.5555555555555556,
              "#d8576b"
             ],
             [
              0.6666666666666666,
              "#ed7953"
             ],
             [
              0.7777777777777778,
              "#fb9f3a"
             ],
             [
              0.8888888888888888,
              "#fdca26"
             ],
             [
              1.0,
              "#f0f921"
             ]
            ],
            "type": "surface"
           }
          ],
          "table": [
           {
            "cells": {
             "fill": {
              "color": "#EBF0F8"
             },
             "line": {
              "color": "white"
             }
            },
            "header": {
             "fill": {
              "color": "#C8D4E3"
             },
             "line": {
              "color": "white"
             }
            },
            "type": "table"
           }
          ]
         },
         "layout": {
          "annotationdefaults": {
           "arrowcolor": "#2a3f5f",
           "arrowhead": 0,
           "arrowwidth": 1
          },
          "coloraxis": {
           "colorbar": {
            "outlinewidth": 0,
            "ticks": ""
           }
          },
          "colorscale": {
           "diverging": [
            [
             0,
             "#8e0152"
            ],
            [
             0.1,
             "#c51b7d"
            ],
            [
             0.2,
             "#de77ae"
            ],
            [
             0.3,
             "#f1b6da"
            ],
            [
             0.4,
             "#fde0ef"
            ],
            [
             0.5,
             "#f7f7f7"
            ],
            [
             0.6,
             "#e6f5d0"
            ],
            [
             0.7,
             "#b8e186"
            ],
            [
             0.8,
             "#7fbc41"
            ],
            [
             0.9,
             "#4d9221"
            ],
            [
             1,
             "#276419"
            ]
           ],
           "sequential": [
            [
             0.0,
             "#0d0887"
            ],
            [
             0.1111111111111111,
             "#46039f"
            ],
            [
             0.2222222222222222,
             "#7201a8"
            ],
            [
             0.3333333333333333,
             "#9c179e"
            ],
            [
             0.4444444444444444,
             "#bd3786"
            ],
            [
             0.5555555555555556,
             "#d8576b"
            ],
            [
             0.6666666666666666,
             "#ed7953"
            ],
            [
             0.7777777777777778,
             "#fb9f3a"
            ],
            [
             0.8888888888888888,
             "#fdca26"
            ],
            [
             1.0,
             "#f0f921"
            ]
           ],
           "sequentialminus": [
            [
             0.0,
             "#0d0887"
            ],
            [
             0.1111111111111111,
             "#46039f"
            ],
            [
             0.2222222222222222,
             "#7201a8"
            ],
            [
             0.3333333333333333,
             "#9c179e"
            ],
            [
             0.4444444444444444,
             "#bd3786"
            ],
            [
             0.5555555555555556,
             "#d8576b"
            ],
            [
             0.6666666666666666,
             "#ed7953"
            ],
            [
             0.7777777777777778,
             "#fb9f3a"
            ],
            [
             0.8888888888888888,
             "#fdca26"
            ],
            [
             1.0,
             "#f0f921"
            ]
           ]
          },
          "colorway": [
           "#636efa",
           "#EF553B",
           "#00cc96",
           "#ab63fa",
           "#FFA15A",
           "#19d3f3",
           "#FF6692",
           "#B6E880",
           "#FF97FF",
           "#FECB52"
          ],
          "font": {
           "color": "#2a3f5f"
          },
          "geo": {
           "bgcolor": "white",
           "lakecolor": "white",
           "landcolor": "#E5ECF6",
           "showlakes": true,
           "showland": true,
           "subunitcolor": "white"
          },
          "hoverlabel": {
           "align": "left"
          },
          "hovermode": "closest",
          "mapbox": {
           "style": "light"
          },
          "paper_bgcolor": "white",
          "plot_bgcolor": "#E5ECF6",
          "polar": {
           "angularaxis": {
            "gridcolor": "white",
            "linecolor": "white",
            "ticks": ""
           },
           "bgcolor": "#E5ECF6",
           "radialaxis": {
            "gridcolor": "white",
            "linecolor": "white",
            "ticks": ""
           }
          },
          "scene": {
           "xaxis": {
            "backgroundcolor": "#E5ECF6",
            "gridcolor": "white",
            "gridwidth": 2,
            "linecolor": "white",
            "showbackground": true,
            "ticks": "",
            "zerolinecolor": "white"
           },
           "yaxis": {
            "backgroundcolor": "#E5ECF6",
            "gridcolor": "white",
            "gridwidth": 2,
            "linecolor": "white",
            "showbackground": true,
            "ticks": "",
            "zerolinecolor": "white"
           },
           "zaxis": {
            "backgroundcolor": "#E5ECF6",
            "gridcolor": "white",
            "gridwidth": 2,
            "linecolor": "white",
            "showbackground": true,
            "ticks": "",
            "zerolinecolor": "white"
           }
          },
          "shapedefaults": {
           "line": {
            "color": "#2a3f5f"
           }
          },
          "ternary": {
           "aaxis": {
            "gridcolor": "white",
            "linecolor": "white",
            "ticks": ""
           },
           "baxis": {
            "gridcolor": "white",
            "linecolor": "white",
            "ticks": ""
           },
           "bgcolor": "#E5ECF6",
           "caxis": {
            "gridcolor": "white",
            "linecolor": "white",
            "ticks": ""
           }
          },
          "title": {
           "x": 0.05
          },
          "xaxis": {
           "automargin": true,
           "gridcolor": "white",
           "linecolor": "white",
           "ticks": "",
           "title": {
            "standoff": 15
           },
           "zerolinecolor": "white",
           "zerolinewidth": 2
          },
          "yaxis": {
           "automargin": true,
           "gridcolor": "white",
           "linecolor": "white",
           "ticks": "",
           "title": {
            "standoff": 15
           },
           "zerolinecolor": "white",
           "zerolinewidth": 2
          }
         }
        },
        "title": {
         "text": "3D plot Bruges"
        }
       }
      },
      "text/html": "<div>                            <div id=\"c02b6e7a-204c-408f-bebd-ae5f9fad85a4\" class=\"plotly-graph-div\" style=\"height:525px; width:100%;\"></div>            <script type=\"text/javascript\">                require([\"plotly\"], function(Plotly) {                    window.PLOTLYENV=window.PLOTLYENV || {};                                    if (document.getElementById(\"c02b6e7a-204c-408f-bebd-ae5f9fad85a4\")) {                    Plotly.newPlot(                        \"c02b6e7a-204c-408f-bebd-ae5f9fad85a4\",                        [{\"type\": \"surface\", \"z\": [[15.899999618530273, 15.010000228881836, 14.729999542236328, 10.3100004196167, 10.579999923706055, 15.630000114440918, 14.3100004196167, 10.800000190734863, 8.229999542236328, 8.220000267028809, 9.359999656677246, 9.529999732971191, 9.050000190734863, 8.380000114440918, 8.270000457763672, 9.680000305175781, 8.399999618530273, 16.030000686645508, 17.299999237060547, 19.06999969482422, 20.780000686645508, 22.510000228881836, 21.299999237060547, 19.56999969482422, 17.81999969482422, 16.43000030517578, 17.959999084472656, 19.40999984741211, 19.459999084472656, 17.979999542236328, 18.5, 19.579999923706055, 20.719999313354492, 21.8799991607666, 21.8799991607666, 20.709999084472656, 19.420000076293945, 18.149999618530273, 14.149999618530273, 14.180000305175781], [8.109999656677246, 8.119999885559082, 8.130000114440918, 8.140000343322754, 9.529999732971191, 9.59000015258789, 9.180000305175781, 9.050000190734863, 8.1899995803833, 8.199999809265137, 8.579999923706055, 8.770000457763672, 8.899999618530273, 8.279999732971191, 8.25, 10.100000381469727, 8.9399995803833, 11.15999984741211, 16.93000030517578, 18.739999771118164, 20.3799991607666, 22.290000915527344, 21.5, 19.739999771118164, 18.190000534057617, 16.389999389648438, 17.760000228881836, 19.260000228881836, 19.670000076293945, 18.219999313354492, 17.510000228881836, 19.440000534057617, 20.59000015258789, 21.760000228881836, 22.059999465942383, 20.829999923706055, 19.56999969482422, 18.280000686645508, 14.180000305175781, 14.4399995803833], [8.069999694824219, 8.0600004196167, 8.09000015258789, 8.09000015258789, 8.329999923706055, 8.109999656677246, 8.140000343322754, 8.109999656677246, 8.140000343322754, 8.170000076293945, 8.199999809265137, 8.210000038146973, 8.239999771118164, 8.229999542236328, 8.229999542236328, 9.649999618530273, 8.760000228881836, 10.050000190734863, 16.75, 18.479999542236328, 20.149999618530273, 21.959999084472656, 21.84000015258789, 20.020000457763672, 18.420000076293945, 16.389999389648438, 17.549999237060547, 19.079999923706055, 19.770000457763672, 18.3700008392334, 17.299999237060547, 19.299999237060547, 20.489999771118164, 21.6299991607666, 22.18000030517578, 20.940000534057617, 19.6299991607666, 18.360000610351562, 14.5, 14.380000114440918], [8.050000190734863, 8.069999694824219, 8.079999923706055, 8.109999656677246, 8.130000114440918, 8.15999984741211, 8.15999984741211, 8.180000305175781, 8.199999809265137, 8.210000038146973, 8.220000267028809, 8.229999542236328, 8.239999771118164, 8.239999771118164, 8.199999809265137, 8.739999771118164, 9.319999694824219, 9.300000190734863, 16.610000610351562, 18.149999618530273, 19.81999969482422, 21.6200008392334, 22.049999237060547, 20.40999984741211, 18.719999313354492, 16.75, 17.299999237060547, 18.809999465942383, 20.1200008392334, 18.540000915527344, 17.309999465942383, 19.239999771118164, 20.290000915527344, 21.5, 22.350000381469727, 21.079999923706055, 19.84000015258789, 18.510000228881836, 14.359999656677246, 14.350000381469727], [8.09000015258789, 8.130000114440918, 8.149999618530273, 8.149999618530273, 8.180000305175781, 8.199999809265137, 8.220000267028809, 8.229999542236328, 8.229999542236328, 8.239999771118164, 8.25, 8.239999771118164, 8.239999771118164, 8.220000267028809, 8.1899995803833, 8.579999923706055, 8.640000343322754, 8.699999809265137, 16.469999313354492, 17.850000381469727, 19.59000015258789, 21.399999618530273, 22.190000534057617, 20.610000610351562, 18.950000762939453, 16.950000762939453, 17.030000686645508, 18.670000076293945, 20.1299991607666, 18.729999542236328, 17.3700008392334, 19.1200008392334, 20.229999542236328, 21.350000381469727, 22.450000762939453, 21.219999313354492, 19.8799991607666, 18.610000610351562, 14.270000457763672, 14.619999885559082], [9.770000457763672, 11.199999809265137, 12.510000228881836, 12.699999809265137, 12.8100004196167, 14.130000114440918, 17.040000915527344, 14.859999656677246, 15.40999984741211, 11.65999984741211, 10.079999923706055, 8.640000343322754, 9.050000190734863, 8.199999809265137, 8.180000305175781, 8.140000343322754, 8.1899995803833, 8.199999809265137, 16.329999923706055, 17.579999923706055, 19.299999237060547, 21.200000762939453, 22.43000030517578, 20.93000030517578, 19.18000030517578, 17.260000228881836, 16.8799991607666, 18.3700008392334, 20.06999969482422, 18.889999389648438, 17.489999771118164, 18.93000030517578, 20.049999237060547, 21.200000762939453, 22.420000076293945, 21.43000030517578, 20.059999465942383, 18.739999771118164, 18.030000686645508, 19.540000915527344], [15.829999923706055, 15.989999771118164, 15.720000267028809, 15.819999694824219, 16.610000610351562, 18.0, 16.510000228881836, 16.219999313354492, 16.350000381469727, 15.239999771118164, 11.609999656677246, 10.210000038146973, 8.239999771118164, 8.199999809265137, 8.180000305175781, 8.109999656677246, 8.149999618530273, 8.170000076293945, 13.270000457763672, 18.75, 19.09000015258789, 20.690000534057617, 22.579999923706055, 21.110000610351562, 19.489999771118164, 17.600000381469727, 16.709999084472656, 18.190000534057617, 19.780000686645508, 19.149999618530273, 17.670000076293945, 18.850000381469727, 20.0, 21.079999923706055, 22.170000076293945, 21.540000915527344, 20.270000457763672, 19.020000457763672, 17.610000610351562, 19.200000762939453], [16.989999771118164, 17.1299991607666, 16.56999969482422, 16.65999984741211, 16.780000686645508, 17.950000762939453, 17.0, 17.15999984741211, 17.270000457763672, 12.680000305175781, 12.0, 11.420000076293945, 8.25, 8.210000038146973, 8.15999984741211, 8.100000381469727, 8.109999656677246, 8.119999885559082, 17.540000915527344, 19.34000015258789, 19.06999969482422, 20.450000762939453, 23.59000015258789, 21.350000381469727, 19.649999618530273, 17.969999313354492, 16.540000915527344, 17.969999313354492, 19.520000457763672, 19.309999465942383, 17.799999237060547, 18.6200008392334, 21.309999465942383, 21.790000915527344, 22.260000228881836, 21.700000762939453, 20.469999313354492, 18.8700008392334, 17.34000015258789, 18.850000381469727], [18.18000030517578, 18.399999618530273, 17.43000030517578, 17.540000915527344, 17.670000076293945, 17.780000686645508, 18.489999771118164, 19.459999084472656, 19.479999542236328, 19.719999313354492, 18.479999542236328, 11.699999809265137, 11.09000015258789, 8.199999809265137, 8.140000343322754, 8.079999923706055, 8.720000267028809, 8.6899995803833, 12.050000190734863, 16.969999313354492, 18.530000686645508, 20.219999313354492, 22.06999969482422, 21.510000228881836, 19.809999465942383, 18.270000457763672, 16.459999084472656, 17.709999084472656, 19.25, 19.5, 18.010000228881836, 18.530000686645508, 21.239999771118164, 21.709999084472656, 22.209999084472656, 21.889999389648438, 20.6200008392334, 19.469999313354492, 18.559999465942383, 18.5], [19.389999389648438, 19.579999923706055, 19.690000534057617, 19.8799991607666, 20.06999969482422, 20.219999313354492, 20.459999084472656, 20.600000381469727, 20.799999237060547, 21.030000686645508, 20.530000686645508, 18.65999984741211, 18.68000030517578, 9.640000343322754, 8.119999885559082, 8.069999694824219, 8.770000457763672, 9.569999694824219, 15.649999618530273, 16.700000762939453, 18.350000381469727, 20.139999389648438, 21.959999084472656, 21.729999542236328, 19.950000762939453, 18.25, 16.479999542236328, 17.59000015258789, 19.09000015258789, 19.649999618530273, 18.200000762939453, 18.579999923706055, 19.549999237060547, 20.719999313354492, 21.780000686645508, 22.100000381469727, 20.850000381469727, 19.690000534057617, 18.399999618530273, 18.1299991607666], [20.639999389648438, 20.780000686645508, 20.969999313354492, 21.1200008392334, 21.360000610351562, 21.510000228881836, 21.709999084472656, 21.93000030517578, 22.1299991607666, 22.469999313354492, 21.770000457763672, 21.219999313354492, 20.65999984741211, 18.610000610351562, 8.130000114440918, 8.039999961853027, 8.15999984741211, 9.329999923706055, 8.0600004196167, 16.579999923706055, 18.110000610351562, 19.8700008392334, 21.639999389648438, 21.959999084472656, 20.350000381469727, 18.690000534057617, 16.65999984741211, 19.149999618530273, 20.0, 20.5, 19.510000228881836, 18.670000076293945, 19.469999313354492, 20.540000915527344, 21.670000076293945, 22.219999313354492, 21.020000457763672, 19.899999618530273, 18.75, 17.770000457763672], [21.8799991607666, 22.040000915527344, 22.219999313354492, 22.420000076293945, 22.670000076293945, 22.90999984741211, 23.030000686645508, 23.229999542236328, 23.5, 23.739999771118164, 23.030000686645508, 22.030000686645508, 20.780000686645508, 19.559999465942383, 8.079999923706055, 8.039999961853027, 7.960000038146973, 8.960000038146973, 8.020000457763672, 16.420000076293945, 17.899999618530273, 19.719999313354492, 21.43000030517578, 22.25, 20.450000762939453, 18.799999237060547, 17.0, 19.989999771118164, 19.850000381469727, 20.670000076293945, 19.649999618530273, 18.709999084472656, 19.350000381469727, 20.420000076293945, 21.469999313354492, 22.3799991607666, 21.219999313354492, 20.079999923706055, 18.950000762939453, 17.399999618530273], [23.229999542236328, 23.309999465942383, 23.549999237060547, 23.760000228881836, 24.049999237060547, 24.25, 24.479999542236328, 24.6299991607666, 24.889999389648438, 24.979999542236328, 23.6200008392334, 22.31999969482422, 21.010000228881836, 13.279999732971191, 8.079999923706055, 7.96999979019165, 7.989999771118164, 7.980000019073486, 8.239999771118164, 16.309999465942383, 17.610000610351562, 19.5, 21.18000030517578, 22.399999618530273, 20.690000534057617, 19.049999237060547, 19.920000076293945, 18.8700008392334, 19.690000534057617, 20.6200008392334, 19.760000228881836, 18.81999969482422, 19.239999771118164, 20.309999465942383, 21.43000030517578, 21.739999771118164, 21.079999923706055, 20.290000915527344, 19.170000076293945, 17.799999237060547], [24.56999969482422, 24.649999618530273, 24.90999984741211, 25.1299991607666, 25.440000534057617, 25.260000228881836, 25.110000610351562, 24.8799991607666, 24.700000762939453, 24.719999313354492, 23.610000610351562, 22.649999618530273, 21.239999771118164, 20.059999465942383, 10.210000038146973, 7.960000038146973, 7.96999979019165, 8.670000076293945, 9.369999885559082, 16.209999084472656, 17.450000762939453, 19.139999389648438, 20.940000534057617, 22.559999465942383, 21.0, 19.239999771118164, 17.6299991607666, 18.809999465942383, 19.540000915527344, 20.489999771118164, 19.889999389648438, 18.90999984741211, 19.1299991607666, 20.18000030517578, 20.299999237060547, 20.100000381469727, 19.920000076293945, 20.440000534057617, 19.3700008392334, 17.350000381469727], [22.200000762939453, 25.469999313354492, 25.09000015258789, 24.690000534057617, 24.309999465942383, 24.030000686645508, 23.809999465942383, 23.549999237060547, 23.34000015258789, 23.200000762939453, 22.649999618530273, 21.719999313354492, 20.729999542236328, 19.729999542236328, 8.020000457763672, 7.980000019073486, 7.949999809265137, 7.960000038146973, 9.359999656677246, 15.350000381469727, 17.18000030517578, 18.889999389648438, 20.6200008392334, 22.469999313354492, 21.100000381469727, 19.43000030517578, 17.860000610351562, 16.739999771118164, 19.420000076293945, 19.969999313354492, 19.860000610351562, 19.059999465942383, 19.010000228881836, 20.030000686645508, 19.860000610351562, 19.700000762939453, 19.68000030517578, 21.079999923706055, 19.649999618530273, 20.719999313354492], [21.040000915527344, 24.209999084472656, 23.780000686645508, 23.43000030517578, 23.15999984741211, 22.90999984741211, 22.56999969482422, 22.3799991607666, 22.18000030517578, 21.940000534057617, 21.719999313354492, 20.809999465942383, 19.8700008392334, 9.670000076293945, 8.010000228881836, 7.96999979019165, 7.949999809265137, 7.920000076293945, 9.15999984741211, 15.890000343322754, 17.010000228881836, 18.65999984741211, 20.389999389648438, 22.15999984741211, 21.389999389648438, 19.65999984741211, 18.100000381469727, 17.200000762939453, 19.270000457763672, 19.15999984741211, 19.079999923706055, 18.989999771118164, 20.100000381469727, 12.0, 17.15999984741211, 10.630000114440918, 8.100000381469727, 8.010000228881836, 8.020000457763672, 8.0], [20.09000015258789, 22.979999542236328, 22.579999923706055, 22.260000228881836, 21.959999084472656, 21.729999542236328, 21.440000534057617, 21.209999084472656, 21.0, 20.729999542236328, 20.549999237060547, 19.989999771118164, 9.40999984741211, 7.96999979019165, 7.989999771118164, 7.96999979019165, 7.940000057220459, 7.909999847412109, 8.779999732971191, 15.710000038146973, 16.799999237060547, 18.530000686645508, 20.190000534057617, 21.90999984741211, 17.420000076293945, 20.610000610351562, 18.979999542236328, 7.960000038146973, 12.680000305175781, 11.069999694824219, 8.550000190734863, 10.15999984741211, 7.96999979019165, 7.940000057220459, 7.960000038146973, 7.980000019073486, 7.949999809265137, 7.960000038146973, 7.960000038146973, 7.960000038146973], [14.699999809265137, 21.709999084472656, 20.739999771118164, 21.110000610351562, 20.829999923706055, 20.559999465942383, 20.329999923706055, 17.90999984741211, 19.8700008392334, 16.579999923706055, 12.899999618530273, 13.130000114440918, 7.900000095367432, 7.889999866485596, 7.940000057220459, 7.980000019073486, 7.920000076293945, 7.889999866485596, 7.929999828338623, 12.670000076293945, 16.190000534057617, 14.670000076293945, 10.399999618530273, 7.96999979019165, 7.929999828338623, 7.920000076293945, 7.909999847412109, 7.909999847412109, 7.909999847412109, 7.900000095367432, 7.909999847412109, 8.770000457763672, 7.909999847412109, 7.889999866485596, 7.900000095367432, 9.229999542236328, 7.929999828338623, 7.909999847412109, 7.920000076293945, 7.909999847412109], [15.479999542236328, 20.399999618530273, 20.170000076293945, 19.6200008392334, 16.510000228881836, 19.389999389648438, 15.470000267028809, 7.869999885559082, 7.880000114440918, 7.880000114440918, 7.860000133514404, 7.880000114440918, 7.900000095367432, 7.900000095367432, 8.319999694824219, 11.09000015258789, 7.900000095367432, 7.840000152587891, 7.840000152587891, 7.869999885559082, 7.869999885559082, 7.860000133514404, 7.889999866485596, 7.880000114440918, 7.860000133514404, 7.849999904632568, 7.840000152587891, 7.829999923706055, 7.849999904632568, 7.840000152587891, 7.869999885559082, 7.849999904632568, 7.869999885559082, 7.840000152587891, 7.809999942779541, 7.789999961853027, 7.809999942779541, 7.829999923706055, 7.840000152587891, 7.960000038146973], [13.779999732971191, 15.670000076293945, 9.600000381469727, 7.840000152587891, 7.840000152587891, 7.840000152587891, 7.860000133514404, 7.840000152587891, 7.920000076293945, 7.809999942779541, 8.399999618530273, 7.829999923706055, 7.840000152587891, 7.840000152587891, 7.849999904632568, 7.880000114440918, 7.800000190734863, 7.75, 7.769999980926514, 7.800000190734863, 7.800000190734863, 7.809999942779541, 7.820000171661377, 7.820000171661377, 7.809999942779541, 7.800000190734863, 7.789999961853027, 7.75, 7.730000019073486, 7.730000019073486, 7.789999961853027, 7.78000020980835, 7.809999942779541, 7.829999923706055, 7.820000171661377, 7.860000133514404, 7.860000133514404, 7.869999885559082, 7.869999885559082, 8.760000228881836], [7.840000152587891, 8.109999656677246, 7.840000152587891, 7.820000171661377, 7.800000190734863, 7.980000019073486, 7.800000190734863, 7.78000020980835, 7.78000020980835, 7.739999771118164, 7.71999979019165, 7.730000019073486, 7.699999809265137, 7.730000019073486, 7.760000228881836, 7.789999961853027, 7.769999980926514, 7.690000057220459, 7.710000038146973, 7.71999979019165, 7.71999979019165, 7.699999809265137, 7.71999979019165, 7.760000228881836, 7.75, 7.760000228881836, 8.100000381469727, 7.869999885559082, 8.5, 8.109999656677246, 7.789999961853027, 7.800000190734863, 7.800000190734863, 7.829999923706055, 7.849999904632568, 7.849999904632568, 7.840000152587891, 7.869999885559082, 7.880000114440918, 7.889999866485596], [7.78000020980835, 7.769999980926514, 7.769999980926514, 7.75, 7.710000038146973, 7.670000076293945, 7.679999828338623, 7.670000076293945, 7.679999828338623, 7.670000076293945, 7.670000076293945, 8.3100004196167, 7.670000076293945, 7.670000076293945, 7.630000114440918, 7.690000057220459, 7.650000095367432, 7.690000057220459, 7.699999809265137, 7.71999979019165, 7.710000038146973, 7.730000019073486, 7.730000019073486, 7.75, 7.760000228881836, 7.78000020980835, 7.789999961853027, 7.769999980926514, 7.760000228881836, 7.760000228881836, 7.78000020980835, 7.800000190734863, 7.800000190734863, 7.789999961853027, 7.809999942779541, 7.829999923706055, 7.829999923706055, 7.860000133514404, 7.869999885559082, 7.860000133514404], [7.730000019073486, 7.71999979019165, 8.550000190734863, 8.279999732971191, 9.100000381469727, 9.119999885559082, 7.820000171661377, 7.619999885559082, 8.140000343322754, 7.599999904632568, 7.619999885559082, 7.599999904632568, 7.650000095367432, 7.679999828338623, 7.670000076293945, 7.710000038146973, 7.679999828338623, 8.0, 8.529999732971191, 7.710000038146973, 7.739999771118164, 7.739999771118164, 7.739999771118164, 7.739999771118164, 7.75, 7.760000228881836, 7.789999961853027, 7.760000228881836, 7.75, 7.739999771118164, 7.739999771118164, 7.730000019073486, 7.739999771118164, 7.769999980926514, 7.75, 7.800000190734863, 7.809999942779541, 7.840000152587891, 7.829999923706055, 7.849999904632568], [7.639999866485596, 7.53000020980835, 8.470000267028809, 8.5600004196167, 8.779999732971191, 7.570000171661377, 7.570000171661377, 8.170000076293945, 7.610000133514404, 7.630000114440918, 7.619999885559082, 7.630000114440918, 7.639999866485596, 7.679999828338623, 7.659999847412109, 7.679999828338623, 8.010000228881836, 7.690000057220459, 8.109999656677246, 7.690000057220459, 7.679999828338623, 7.699999809265137, 7.699999809265137, 7.699999809265137, 7.71999979019165, 7.710000038146973, 7.659999847412109, 7.739999771118164, 7.760000228881836, 7.789999961853027, 7.840000152587891, 7.840000152587891, 7.840000152587891, 7.829999923706055, 7.75, 7.769999980926514, 7.809999942779541, 7.849999904632568, 7.860000133514404, 7.849999904632568], [7.53000020980835, 7.559999942779541, 7.550000190734863, 7.570000171661377, 8.359999656677246, 8.210000038146973, 8.399999618530273, 7.590000152587891, 7.599999904632568, 7.599999904632568, 7.610000133514404, 7.630000114440918, 7.619999885559082, 7.630000114440918, 7.650000095367432, 7.650000095367432, 7.630000114440918, 7.630000114440918, 7.619999885559082, 7.610000133514404, 7.619999885559082, 7.670000076293945, 7.730000019073486, 7.760000228881836, 7.78000020980835, 7.820000171661377, 7.820000171661377, 13.09000015258789, 18.030000686645508, 9.569999694824219, 12.109999656677246, 18.139999389648438, 17.40999984741211, 18.399999618530273, 7.849999904632568, 8.020000457763672, 7.800000190734863, 7.860000133514404, 7.869999885559082, 7.860000133514404], [7.53000020980835, 8.199999809265137, 8.489999771118164, 7.559999942779541, 7.590000152587891, 7.570000171661377, 7.570000171661377, 7.579999923706055, 7.610000133514404, 7.579999923706055, 7.579999923706055, 7.559999942779541, 7.559999942779541, 7.590000152587891, 7.579999923706055, 7.590000152587891, 7.659999847412109, 7.690000057220459, 7.730000019073486, 7.730000019073486, 7.739999771118164, 7.920000076293945, 13.1899995803833, 17.3799991607666, 16.479999542236328, 17.690000534057617, 16.100000381469727, 12.6899995803833, 10.829999923706055, 17.979999542236328, 18.959999084472656, 19.170000076293945, 19.34000015258789, 18.610000610351562, 7.889999866485596, 7.840000152587891, 7.769999980926514, 7.809999942779541, 7.829999923706055, 7.820000171661377], [7.510000228881836, 7.53000020980835, 7.510000228881836, 7.539999961853027, 7.519999980926514, 7.510000228881836, 7.510000228881836, 7.510000228881836, 7.5, 7.539999961853027, 7.590000152587891, 7.610000133514404, 7.639999866485596, 9.180000305175781, 7.730000019073486, 9.15999984741211, 17.149999618530273, 21.139999389648438, 12.329999923706055, 12.819999694824219, 13.739999771118164, 21.360000610351562, 18.530000686645508, 18.670000076293945, 18.790000915527344, 18.93000030517578, 19.079999923706055, 19.260000228881836, 19.3700008392334, 18.049999237060547, 18.780000686645508, 20.15999984741211, 19.809999465942383, 18.860000610351562, 17.989999771118164, 7.909999847412109, 7.760000228881836, 7.800000190734863, 7.809999942779541, 7.820000171661377], [7.429999828338623, 7.440000057220459, 7.440000057220459, 7.420000076293945, 7.489999771118164, 7.550000190734863, 7.590000152587891, 7.599999904632568, 7.630000114440918, 8.390000343322754, 14.260000228881836, 18.90999984741211, 18.75, 21.049999237060547, 20.700000762939453, 21.309999465942383, 21.420000076293945, 14.1899995803833, 21.600000381469727, 21.68000030517578, 21.790000915527344, 21.899999618530273, 19.31999969482422, 19.459999084472656, 19.579999923706055, 19.739999771118164, 19.93000030517578, 20.1200008392334, 19.520000457763672, 18.09000015258789, 18.440000534057617, 19.75, 20.1200008392334, 19.06999969482422, 14.989999771118164, 8.470000267028809, 7.860000133514404, 7.789999961853027, 7.809999942779541, 7.840000152587891], [7.480000019073486, 7.510000228881836, 7.539999961853027, 10.069999694824219, 17.139999389648438, 8.0600004196167, 15.40999984741211, 13.880000114440918, 13.380000114440918, 16.25, 16.139999389648438, 21.829999923706055, 22.049999237060547, 21.420000076293945, 21.790000915527344, 21.850000381469727, 21.959999084472656, 22.049999237060547, 22.15999984741211, 22.239999771118164, 22.350000381469727, 22.479999542236328, 20.1299991607666, 20.280000686645508, 20.399999618530273, 20.200000762939453, 20.030000686645508, 19.829999923706055, 19.68000030517578, 18.510000228881836, 18.09000015258789, 19.440000534057617, 20.420000076293945, 19.56999969482422, 18.489999771118164, 7.960000038146973, 7.909999847412109, 7.809999942779541, 7.869999885559082, 7.860000133514404], [9.449999809265137, 14.010000228881836, 14.710000038146973, 15.199999809265137, 21.530000686645508, 21.809999465942383, 16.579999923706055, 22.200000762939453, 21.84000015258789, 22.579999923706055, 22.520000457763672, 23.110000610351562, 22.40999984741211, 21.59000015258789, 23.6299991607666, 22.420000076293945, 22.510000228881836, 22.59000015258789, 22.729999542236328, 22.829999923706055, 22.93000030517578, 23.190000534057617, 20.90999984741211, 19.6299991607666, 19.489999771118164, 19.31999969482422, 19.079999923706055, 18.8700008392334, 18.760000228881836, 18.610000610351562, 19.149999618530273, 20.030000686645508, 20.5, 19.709999084472656, 18.739999771118164, 13.729999542236328, 7.929999828338623, 7.829999923706055, 7.860000133514404, 7.880000114440918], [16.68000030517578, 15.9399995803833, 15.680000305175781, 17.649999618530273, 21.290000915527344, 22.139999389648438, 22.889999389648438, 23.420000076293945, 23.6299991607666, 23.850000381469727, 24.09000015258789, 23.360000610351562, 22.56999969482422, 21.780000686645508, 22.43000030517578, 23.0, 23.100000381469727, 23.18000030517578, 23.280000686645508, 23.40999984741211, 23.43000030517578, 23.280000686645508, 22.690000534057617, 18.770000457763672, 18.56999969482422, 18.389999389648438, 18.200000762939453, 18.059999465942383, 17.889999389648438, 17.579999923706055, 18.510000228881836, 19.940000534057617, 20.360000610351562, 20.040000915527344, 19.040000915527344, 16.579999923706055, 7.949999809265137, 7.840000152587891, 7.860000133514404, 7.900000095367432], [17.06999969482422, 17.299999237060547, 17.579999923706055, 17.829999923706055, 21.209999084472656, 21.969999313354492, 22.639999389648438, 23.469999313354492, 24.25, 25.049999237060547, 24.3700008392334, 23.59000015258789, 22.780000686645508, 22.020000457763672, 21.389999389648438, 23.309999465942383, 23.15999984741211, 23.010000228881836, 22.829999923706055, 22.639999389648438, 22.5, 22.34000015258789, 22.190000534057617, 17.190000534057617, 17.59000015258789, 15.010000228881836, 17.549999237060547, 17.530000686645508, 17.510000228881836, 17.65999984741211, 17.540000915527344, 19.829999923706055, 20.280000686645508, 20.329999923706055, 19.149999618530273, 14.25, 7.980000019073486, 7.940000057220459, 7.889999866485596, 7.909999847412109], [18.43000030517578, 18.700000762939453, 18.90999984741211, 19.190000534057617, 26.020000457763672, 22.360000610351562, 22.450000762939453, 23.280000686645508, 24.09000015258789, 24.90999984741211, 24.579999923706055, 23.75, 22.989999771118164, 22.219999313354492, 21.399999618530273, 22.540000915527344, 22.31999969482422, 22.1200008392334, 21.969999313354492, 21.81999969482422, 21.649999618530273, 21.43000030517578, 21.25, 13.479999542236328, 14.720000267028809, 14.4399995803833, 17.520000457763672, 17.530000686645508, 17.530000686645508, 17.520000457763672, 17.540000915527344, 19.700000762939453, 20.100000381469727, 20.559999465942383, 19.639999389648438, 18.59000015258789, 13.0, 7.960000038146973, 7.889999866485596, 7.920000076293945], [19.940000534057617, 20.059999465942383, 19.8700008392334, 19.610000610351562, 19.719999313354492, 21.520000457763672, 22.309999465942383, 23.030000686645508, 23.860000610351562, 24.68000030517578, 24.780000686645508, 24.010000228881836, 23.229999542236328, 22.450000762939453, 21.56999969482422, 21.709999084472656, 21.479999542236328, 21.31999969482422, 21.100000381469727, 20.959999084472656, 20.799999237060547, 20.700000762939453, 20.709999084472656, 18.06999969482422, 14.420000076293945, 14.399999618530273, 15.510000228881836, 17.540000915527344, 17.790000915527344, 18.719999313354492, 19.09000015258789, 19.5, 19.940000534057617, 20.420000076293945, 19.920000076293945, 18.8700008392334, 14.5, 7.980000019073486, 7.880000114440918, 7.920000076293945], [18.969999313354492, 18.690000534057617, 18.420000076293945, 18.200000762939453, 18.0, 21.389999389648438, 22.1200008392334, 22.8799991607666, 23.700000762939453, 24.5, 25.049999237060547, 24.219999313354492, 23.440000534057617, 22.649999618530273, 22.010000228881836, 21.1200008392334, 20.68000030517578, 20.469999313354492, 20.299999237060547, 20.09000015258789, 20.670000076293945, 20.709999084472656, 20.719999313354492, 16.8700008392334, 14.420000076293945, 14.420000076293945, 14.380000114440918, 11.90999984741211, 12.520000457763672, 18.59000015258789, 19.110000610351562, 19.610000610351562, 20.270000457763672, 20.469999313354492, 20.200000762939453, 19.18000030517578, 12.0, 8.020000457763672, 7.929999828338623, 7.949999809265137], [17.6200008392334, 17.309999465942383, 17.049999237060547, 16.90999984741211, 16.719999313354492, 21.18000030517578, 21.920000076293945, 22.649999618530273, 23.469999313354492, 24.270000457763672, 25.0, 24.40999984741211, 23.639999389648438, 22.81999969482422, 22.100000381469727, 21.34000015258789, 20.600000381469727, 19.709999084472656, 19.489999771118164, 19.280000686645508, 20.670000076293945, 20.68000030517578, 20.780000686645508, 20.709999084472656, 14.40999984741211, 14.420000076293945, 14.4399995803833, 14.710000038146973, 15.619999885559082, 18.709999084472656, 17.790000915527344, 17.799999237060547, 20.229999542236328, 20.420000076293945, 20.510000228881836, 19.440000534057617, 18.350000381469727, 8.029999732971191, 8.0, 7.920000076293945], [16.270000457763672, 16.040000915527344, 15.829999923706055, 15.539999961853027, 15.420000076293945, 21.030000686645508, 21.760000228881836, 22.520000457763672, 23.280000686645508, 24.09000015258789, 24.809999465942383, 24.65999984741211, 23.850000381469727, 23.100000381469727, 22.329999923706055, 20.829999923706055, 20.729999542236328, 19.010000228881836, 20.040000915527344, 15.579999923706055, 16.809999465942383, 21.020000457763672, 21.43000030517578, 20.670000076293945, 14.350000381469727, 14.329999923706055, 14.3100004196167, 14.359999656677246, 14.369999885559082, 18.459999084472656, 17.790000915527344, 17.790000915527344, 20.15999984741211, 20.360000610351562, 20.559999465942383, 19.809999465942383, 18.65999984741211, 13.220000267028809, 8.029999732971191, 7.929999828338623], [14.970000267028809, 14.550000190734863, 13.369999885559082, 11.029999732971191, 10.989999771118164, 20.389999389648438, 21.59000015258789, 22.299999237060547, 23.09000015258789, 23.899999618530273, 24.700000762939453, 24.899999618530273, 24.09000015258789, 23.360000610351562, 22.59000015258789, 22.459999084472656, 22.299999237060547, 14.050000190734863, 14.050000190734863, 14.869999885559082, 14.010000228881836, 20.670000076293945, 20.690000534057617, 20.68000030517578, 14.359999656677246, 14.3100004196167, 14.319999694824219, 14.34000015258789, 14.369999885559082, 18.860000610351562, 16.450000762939453, 14.970000267028809, 20.100000381469727, 20.309999465942383, 20.450000762939453, 20.1200008392334, 19.010000228881836, 11.319999694824219, 8.100000381469727, 7.940000057220459], [10.899999618530273, 10.779999732971191, 10.75, 10.34000015258789, 10.079999923706055, 8.039999961853027, 21.479999542236328, 22.219999313354492, 22.969999313354492, 23.690000534057617, 23.850000381469727, 17.450000762939453, 16.559999465942383, 14.84000015258789, 22.049999237060547, 21.90999984741211, 21.760000228881836, 17.290000915527344, 14.029999732971191, 14.039999961853027, 14.010000228881836, 19.860000610351562, 18.1299991607666, 11.300000190734863, 11.539999961853027, 14.329999923706055, 14.319999694824219, 14.34000015258789, 14.369999885559082, 15.09000015258789, 15.699999809265137, 14.109999656677246, 15.579999923706055, 19.3799991607666, 20.059999465942383, 20.389999389648438, 19.079999923706055, 17.899999618530273, 8.069999694824219, 8.020000457763672], [8.880000114440918, 8.300000190734863, 9.319999694824219, 8.680000305175781, 8.5600004196167, 8.0, 20.90999984741211, 20.239999771118164, 15.380000114440918, 11.960000038146973, 11.0600004196167, 13.40999984741211, 12.140000343322754, 11.09000015258789, 20.75, 20.90999984741211, 18.690000534057617, 15.15999984741211, 14.050000190734863, 14.029999732971191, 14.029999732971191, 14.609999656677246, 11.279999732971191, 11.300000190734863, 11.3100004196167, 14.319999694824219, 14.319999694824219, 14.34000015258789, 14.350000381469727, 14.390000343322754, 14.40999984741211, 11.829999923706055, 15.029999732971191, 19.239999771118164, 19.8799991607666, 20.56999969482422, 19.59000015258789, 16.450000762939453, 12.270000457763672, 8.050000190734863]]}],                        {\"autosize\": true, \"template\": {\"data\": {\"bar\": [{\"error_x\": {\"color\": \"#2a3f5f\"}, \"error_y\": {\"color\": \"#2a3f5f\"}, \"marker\": {\"line\": {\"color\": \"#E5ECF6\", \"width\": 0.5}}, \"type\": \"bar\"}], \"barpolar\": [{\"marker\": {\"line\": {\"color\": \"#E5ECF6\", \"width\": 0.5}}, \"type\": \"barpolar\"}], \"carpet\": [{\"aaxis\": {\"endlinecolor\": \"#2a3f5f\", \"gridcolor\": \"white\", \"linecolor\": \"white\", \"minorgridcolor\": \"white\", \"startlinecolor\": \"#2a3f5f\"}, \"baxis\": {\"endlinecolor\": \"#2a3f5f\", \"gridcolor\": \"white\", \"linecolor\": \"white\", \"minorgridcolor\": \"white\", \"startlinecolor\": \"#2a3f5f\"}, \"type\": \"carpet\"}], \"choropleth\": [{\"colorbar\": {\"outlinewidth\": 0, \"ticks\": \"\"}, \"type\": \"choropleth\"}], \"contour\": [{\"colorbar\": {\"outlinewidth\": 0, \"ticks\": \"\"}, \"colorscale\": [[0.0, \"#0d0887\"], [0.1111111111111111, \"#46039f\"], [0.2222222222222222, \"#7201a8\"], [0.3333333333333333, \"#9c179e\"], [0.4444444444444444, \"#bd3786\"], [0.5555555555555556, \"#d8576b\"], [0.6666666666666666, \"#ed7953\"], [0.7777777777777778, \"#fb9f3a\"], [0.8888888888888888, \"#fdca26\"], [1.0, \"#f0f921\"]], \"type\": \"contour\"}], \"contourcarpet\": [{\"colorbar\": {\"outlinewidth\": 0, \"ticks\": \"\"}, \"type\": \"contourcarpet\"}], \"heatmap\": [{\"colorbar\": {\"outlinewidth\": 0, \"ticks\": \"\"}, \"colorscale\": [[0.0, \"#0d0887\"], [0.1111111111111111, \"#46039f\"], [0.2222222222222222, \"#7201a8\"], [0.3333333333333333, \"#9c179e\"], [0.4444444444444444, \"#bd3786\"], [0.5555555555555556, \"#d8576b\"], [0.6666666666666666, \"#ed7953\"], [0.7777777777777778, \"#fb9f3a\"], [0.8888888888888888, \"#fdca26\"], [1.0, \"#f0f921\"]], \"type\": \"heatmap\"}], \"heatmapgl\": [{\"colorbar\": {\"outlinewidth\": 0, \"ticks\": \"\"}, \"colorscale\": [[0.0, \"#0d0887\"], [0.1111111111111111, \"#46039f\"], [0.2222222222222222, \"#7201a8\"], [0.3333333333333333, \"#9c179e\"], [0.4444444444444444, \"#bd3786\"], [0.5555555555555556, \"#d8576b\"], [0.6666666666666666, \"#ed7953\"], [0.7777777777777778, \"#fb9f3a\"], [0.8888888888888888, \"#fdca26\"], [1.0, \"#f0f921\"]], \"type\": \"heatmapgl\"}], \"histogram\": [{\"marker\": {\"colorbar\": {\"outlinewidth\": 0, \"ticks\": \"\"}}, \"type\": \"histogram\"}], \"histogram2d\": [{\"colorbar\": {\"outlinewidth\": 0, \"ticks\": \"\"}, \"colorscale\": [[0.0, \"#0d0887\"], [0.1111111111111111, \"#46039f\"], [0.2222222222222222, \"#7201a8\"], [0.3333333333333333, \"#9c179e\"], [0.4444444444444444, \"#bd3786\"], [0.5555555555555556, \"#d8576b\"], [0.6666666666666666, \"#ed7953\"], [0.7777777777777778, \"#fb9f3a\"], [0.8888888888888888, \"#fdca26\"], [1.0, \"#f0f921\"]], \"type\": \"histogram2d\"}], \"histogram2dcontour\": [{\"colorbar\": {\"outlinewidth\": 0, \"ticks\": \"\"}, \"colorscale\": [[0.0, \"#0d0887\"], [0.1111111111111111, \"#46039f\"], [0.2222222222222222, \"#7201a8\"], [0.3333333333333333, \"#9c179e\"], [0.4444444444444444, \"#bd3786\"], [0.5555555555555556, \"#d8576b\"], [0.6666666666666666, \"#ed7953\"], [0.7777777777777778, \"#fb9f3a\"], [0.8888888888888888, \"#fdca26\"], [1.0, \"#f0f921\"]], \"type\": \"histogram2dcontour\"}], \"mesh3d\": [{\"colorbar\": {\"outlinewidth\": 0, \"ticks\": \"\"}, \"type\": \"mesh3d\"}], \"parcoords\": [{\"line\": {\"colorbar\": {\"outlinewidth\": 0, \"ticks\": \"\"}}, \"type\": \"parcoords\"}], \"pie\": [{\"automargin\": true, \"type\": \"pie\"}], \"scatter\": [{\"marker\": {\"colorbar\": {\"outlinewidth\": 0, \"ticks\": \"\"}}, \"type\": \"scatter\"}], \"scatter3d\": [{\"line\": {\"colorbar\": {\"outlinewidth\": 0, \"ticks\": \"\"}}, \"marker\": {\"colorbar\": {\"outlinewidth\": 0, \"ticks\": \"\"}}, \"type\": \"scatter3d\"}], \"scattercarpet\": [{\"marker\": {\"colorbar\": {\"outlinewidth\": 0, \"ticks\": \"\"}}, \"type\": \"scattercarpet\"}], \"scattergeo\": [{\"marker\": {\"colorbar\": {\"outlinewidth\": 0, \"ticks\": \"\"}}, \"type\": \"scattergeo\"}], \"scattergl\": [{\"marker\": {\"colorbar\": {\"outlinewidth\": 0, \"ticks\": \"\"}}, \"type\": \"scattergl\"}], \"scattermapbox\": [{\"marker\": {\"colorbar\": {\"outlinewidth\": 0, \"ticks\": \"\"}}, \"type\": \"scattermapbox\"}], \"scatterpolar\": [{\"marker\": {\"colorbar\": {\"outlinewidth\": 0, \"ticks\": \"\"}}, \"type\": \"scatterpolar\"}], \"scatterpolargl\": [{\"marker\": {\"colorbar\": {\"outlinewidth\": 0, \"ticks\": \"\"}}, \"type\": \"scatterpolargl\"}], \"scatterternary\": [{\"marker\": {\"colorbar\": {\"outlinewidth\": 0, \"ticks\": \"\"}}, \"type\": \"scatterternary\"}], \"surface\": [{\"colorbar\": {\"outlinewidth\": 0, \"ticks\": \"\"}, \"colorscale\": [[0.0, \"#0d0887\"], [0.1111111111111111, \"#46039f\"], [0.2222222222222222, \"#7201a8\"], [0.3333333333333333, \"#9c179e\"], [0.4444444444444444, \"#bd3786\"], [0.5555555555555556, \"#d8576b\"], [0.6666666666666666, \"#ed7953\"], [0.7777777777777778, \"#fb9f3a\"], [0.8888888888888888, \"#fdca26\"], [1.0, \"#f0f921\"]], \"type\": \"surface\"}], \"table\": [{\"cells\": {\"fill\": {\"color\": \"#EBF0F8\"}, \"line\": {\"color\": \"white\"}}, \"header\": {\"fill\": {\"color\": \"#C8D4E3\"}, \"line\": {\"color\": \"white\"}}, \"type\": \"table\"}]}, \"layout\": {\"annotationdefaults\": {\"arrowcolor\": \"#2a3f5f\", \"arrowhead\": 0, \"arrowwidth\": 1}, \"coloraxis\": {\"colorbar\": {\"outlinewidth\": 0, \"ticks\": \"\"}}, \"colorscale\": {\"diverging\": [[0, \"#8e0152\"], [0.1, \"#c51b7d\"], [0.2, \"#de77ae\"], [0.3, \"#f1b6da\"], [0.4, \"#fde0ef\"], [0.5, \"#f7f7f7\"], [0.6, \"#e6f5d0\"], [0.7, \"#b8e186\"], [0.8, \"#7fbc41\"], [0.9, \"#4d9221\"], [1, \"#276419\"]], \"sequential\": [[0.0, \"#0d0887\"], [0.1111111111111111, \"#46039f\"], [0.2222222222222222, \"#7201a8\"], [0.3333333333333333, \"#9c179e\"], [0.4444444444444444, \"#bd3786\"], [0.5555555555555556, \"#d8576b\"], [0.6666666666666666, \"#ed7953\"], [0.7777777777777778, \"#fb9f3a\"], [0.8888888888888888, \"#fdca26\"], [1.0, \"#f0f921\"]], \"sequentialminus\": [[0.0, \"#0d0887\"], [0.1111111111111111, \"#46039f\"], [0.2222222222222222, \"#7201a8\"], [0.3333333333333333, \"#9c179e\"], [0.4444444444444444, \"#bd3786\"], [0.5555555555555556, \"#d8576b\"], [0.6666666666666666, \"#ed7953\"], [0.7777777777777778, \"#fb9f3a\"], [0.8888888888888888, \"#fdca26\"], [1.0, \"#f0f921\"]]}, \"colorway\": [\"#636efa\", \"#EF553B\", \"#00cc96\", \"#ab63fa\", \"#FFA15A\", \"#19d3f3\", \"#FF6692\", \"#B6E880\", \"#FF97FF\", \"#FECB52\"], \"font\": {\"color\": \"#2a3f5f\"}, \"geo\": {\"bgcolor\": \"white\", \"lakecolor\": \"white\", \"landcolor\": \"#E5ECF6\", \"showlakes\": true, \"showland\": true, \"subunitcolor\": \"white\"}, \"hoverlabel\": {\"align\": \"left\"}, \"hovermode\": \"closest\", \"mapbox\": {\"style\": \"light\"}, \"paper_bgcolor\": \"white\", \"plot_bgcolor\": \"#E5ECF6\", \"polar\": {\"angularaxis\": {\"gridcolor\": \"white\", \"linecolor\": \"white\", \"ticks\": \"\"}, \"bgcolor\": \"#E5ECF6\", \"radialaxis\": {\"gridcolor\": \"white\", \"linecolor\": \"white\", \"ticks\": \"\"}}, \"scene\": {\"xaxis\": {\"backgroundcolor\": \"#E5ECF6\", \"gridcolor\": \"white\", \"gridwidth\": 2, \"linecolor\": \"white\", \"showbackground\": true, \"ticks\": \"\", \"zerolinecolor\": \"white\"}, \"yaxis\": {\"backgroundcolor\": \"#E5ECF6\", \"gridcolor\": \"white\", \"gridwidth\": 2, \"linecolor\": \"white\", \"showbackground\": true, \"ticks\": \"\", \"zerolinecolor\": \"white\"}, \"zaxis\": {\"backgroundcolor\": \"#E5ECF6\", \"gridcolor\": \"white\", \"gridwidth\": 2, \"linecolor\": \"white\", \"showbackground\": true, \"ticks\": \"\", \"zerolinecolor\": \"white\"}}, \"shapedefaults\": {\"line\": {\"color\": \"#2a3f5f\"}}, \"ternary\": {\"aaxis\": {\"gridcolor\": \"white\", \"linecolor\": \"white\", \"ticks\": \"\"}, \"baxis\": {\"gridcolor\": \"white\", \"linecolor\": \"white\", \"ticks\": \"\"}, \"bgcolor\": \"#E5ECF6\", \"caxis\": {\"gridcolor\": \"white\", \"linecolor\": \"white\", \"ticks\": \"\"}}, \"title\": {\"x\": 0.05}, \"xaxis\": {\"automargin\": true, \"gridcolor\": \"white\", \"linecolor\": \"white\", \"ticks\": \"\", \"title\": {\"standoff\": 15}, \"zerolinecolor\": \"white\", \"zerolinewidth\": 2}, \"yaxis\": {\"automargin\": true, \"gridcolor\": \"white\", \"linecolor\": \"white\", \"ticks\": \"\", \"title\": {\"standoff\": 15}, \"zerolinecolor\": \"white\", \"zerolinewidth\": 2}}}, \"title\": {\"text\": \"3D plot Bruges\"}},                        {\"responsive\": true}                    ).then(function(){\n                            \nvar gd = document.getElementById('c02b6e7a-204c-408f-bebd-ae5f9fad85a4');\nvar x = new MutationObserver(function (mutations, observer) {{\n        var display = window.getComputedStyle(gd).display;\n        if (!display || display === 'none') {{\n            console.log([gd, 'removed!']);\n            Plotly.purge(gd);\n            observer.disconnect();\n        }}\n}});\n\n// Listen for the removal of the full notebook cells\nvar notebookContainer = gd.closest('#notebook-container');\nif (notebookContainer) {{\n    x.observe(notebookContainer, {childList: true});\n}}\n\n// Listen for the clearing of the current output cell\nvar outputEl = gd.closest('.output');\nif (outputEl) {{\n    x.observe(outputEl, {childList: true});\n}}\n\n                        })                };                });            </script>        </div>"
     },
     "metadata": {},
     "output_type": "display_data"
    },
    {
     "name": "stdout",
     "output_type": "stream",
     "text": [
      "<class 'plotly.graph_objs._figure.Figure'>\n"
     ]
    }
   ],
   "source": [
    "### from bounds technique -> Bruges\n",
    "## https://epsg.io/map#srs=31370&x=70190.92&y=212195.57&z=11&layer=streets => coordinates of Bruges\n",
    "x = 70151.53\n",
    "y = 211680.21\n",
    "left = x - 20.0\n",
    "bottom = y - 20.0\n",
    "right = x + 20.0\n",
    "top = y + 20.0\n",
    "\n",
    "#from_bounds -> works with coordinates in espg31370\n",
    "brugge = dataset.read(1, window=from_bounds(left, bottom, right, top, dataset.transform))\n",
    "rio.plot.show(brugge, cmap = 'terrain')\n",
    "brugge_df = pd.DataFrame(data=brugge)\n",
    "display(brugge_df.head())\n",
    "display(brugge_df.shape)\n",
    "\n",
    "#first try to plot 3D data with plotly\n",
    "fig = go.Figure(data=[go.Surface(z=brugge_df.values)])\n",
    "fig.update_layout(title='3D plot Bruges', autosize=True)\n",
    "fig.show()\n",
    "print(type(fig))"
   ],
   "metadata": {
    "collapsed": false,
    "pycharm": {
     "name": "#%%\n"
    }
   }
  },
  {
   "cell_type": "code",
   "execution_count": 18,
   "outputs": [
    {
     "data": {
      "text/plain": "<Figure size 432x288 with 1 Axes>",
      "image/png": "[encoded data removed]"
     },
     "metadata": {
      "needs_background": "light"
     },
     "output_type": "display_data"
    }
   ],
   "source": [
    "# first try for 3D plot using matplotlib and the pandas dataframe created with the window\n",
    "fig = plt.figure()\n",
    "ax = fig.gca(projection='3d')\n",
    "\n",
    "x = brugge_df.columns\n",
    "y = brugge_df.index\n",
    "x, y = np.meshgrid(x, y)\n",
    "z = brugge_df\n",
    "surface = ax.plot_surface(x, y, z, cmap=cm.coolwarm,\n",
    "                       linewidth=0, antialiased=True)\n",
    "\n"
   ],
   "metadata": {
    "collapsed": false,
    "pycharm": {
     "name": "#%%\n"
    }
   }
  },
  {
   "cell_type": "code",
   "execution_count": 19,
   "outputs": [
    {
     "name": "stdout",
     "output_type": "stream",
     "text": [
      "36.74658055555555\n"
     ]
    }
   ],
   "source": [
    "### TODO\n",
    "# Function to convert normal coordinates to ESPG31370\n",
    "transformer = pyproj.Transformer.from_crs('epsg:4326', 'epsg:31370')\n",
    "print(dms2dec('''36°44'47.69\"N'''))\n",
    "\n"
   ],
   "metadata": {
    "collapsed": false,
    "pycharm": {
     "name": "#%%\n"
    }
   }
  }
 ],
 "metadata": {
  "kernelspec": {
   "display_name": "Python 3",
   "language": "python",
   "name": "python3"
  },
  "language_info": {
   "codemirror_mode": {
    "name": "ipython",
    "version": 2
   },
   "file_extension": ".py",
   "mimetype": "text/x-python",
   "name": "python",
   "nbconvert_exporter": "python",
   "pygments_lexer": "ipython2",
   "version": "2.7.6"
  }
 },
 "nbformat": 4,
 "nbformat_minor": 0
}